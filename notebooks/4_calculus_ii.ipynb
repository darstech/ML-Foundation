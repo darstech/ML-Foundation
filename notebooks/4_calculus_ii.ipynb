{
  "nbformat": 4,
  "nbformat_minor": 0,
  "metadata": {
    "colab": {
      "provenance": [],
      "authorship_tag": "ABX9TyNhi3dyx28cMgUlcM9I6LCy",
      "include_colab_link": true
    },
    "kernelspec": {
      "name": "python3",
      "display_name": "Python 3"
    },
    "language_info": {
      "name": "python"
    }
  },
  "cells": [
    {
      "cell_type": "markdown",
      "metadata": {
        "id": "view-in-github",
        "colab_type": "text"
      },
      "source": [
        "<a href=\"https://colab.research.google.com/github/darstech/ML-Foundation/blob/main/notebooks/4_calculus_ii.ipynb\" target=\"_parent\"><img src=\"https://colab.research.google.com/assets/colab-badge.svg\" alt=\"Open In Colab\"/></a>"
      ]
    },
    {
      "cell_type": "markdown",
      "source": [
        "Ref: [John Krohn Github](https://colab.research.google.com/github/jonkrohn/ML-foundations/blob/master/notebooks/4-calculus-ii.ipynb#scrollTo=9v7wHzEaDoeT)"
      ],
      "metadata": {
        "id": "N6WVyvi-u_9e"
      }
    },
    {
      "cell_type": "markdown",
      "source": [
        "# Calculus II: Partial Derivatives & Integrals"
      ],
      "metadata": {
        "id": "3V4iqwybrcQG"
      }
    },
    {
      "cell_type": "markdown",
      "source": [
        "## Segment 1: Review of Introductory Calculus"
      ],
      "metadata": {
        "id": "2hdsPC3Fuczk"
      }
    },
    {
      "cell_type": "markdown",
      "source": [
        "Refer to slides and [*Regression in PyTorch* notebook](https://github.com/darstech/ML-Foundation/blob/main/notebooks/regression_in_pytorch.ipynb)."
      ],
      "metadata": {
        "id": "wqTf7cWFugqT"
      }
    },
    {
      "cell_type": "markdown",
      "source": [
        "## Segment 2: Gradients Applied to Machine Learning"
      ],
      "metadata": {
        "id": "HGzFesGQupQj"
      }
    },
    {
      "cell_type": "code",
      "execution_count": 1,
      "metadata": {
        "id": "s2WI3WIsrX56"
      },
      "outputs": [],
      "source": [
        "import numpy as np\n",
        "import tensorflow as tf\n",
        "import torch\n",
        "import math\n",
        "import matplotlib.pyplot as plt"
      ]
    },
    {
      "cell_type": "markdown",
      "source": [
        "### Partial Derivatives of Multivariate Functions"
      ],
      "metadata": {
        "id": "mpp7YnECvcai"
      }
    },
    {
      "cell_type": "markdown",
      "source": [
        "Define a function $f(x, y)$ for $z = x^2 - y^2$: "
      ],
      "metadata": {
        "id": "dhU4HI4cvf1h"
      }
    },
    {
      "cell_type": "code",
      "source": [
        "def f(my_x, my_y):\n",
        "  return my_x**2 - my_y**2"
      ],
      "metadata": {
        "id": "ivuZ-olTvS6H"
      },
      "execution_count": 2,
      "outputs": []
    },
    {
      "cell_type": "markdown",
      "source": [
        "Plot $z$ with respect to $x$ by varying $x$... "
      ],
      "metadata": {
        "id": "4UQF-Jl9v1Gb"
      }
    },
    {
      "cell_type": "code",
      "source": [
        "#Vector\n",
        "xs = np.linspace(-3, 3, 1000)"
      ],
      "metadata": {
        "id": "OMQLSp_xvp3L"
      },
      "execution_count": 3,
      "outputs": []
    },
    {
      "cell_type": "markdown",
      "source": [
        "...while holding $y$ constant (e.g., at $y = 0$):"
      ],
      "metadata": {
        "id": "YjOTVN23wTEV"
      }
    },
    {
      "cell_type": "code",
      "source": [
        "zs_wrt_x = f(xs, 0)"
      ],
      "metadata": {
        "id": "HcwoK0fjv6S7"
      },
      "execution_count": 4,
      "outputs": []
    },
    {
      "cell_type": "code",
      "source": [
        "fig, ax = plt.subplots()\n",
        "plt.axvline(x=0, color='lightgray')\n",
        "plt.axhline(y=0, color='lightgray')\n",
        "\n",
        "plt.xlabel('x')\n",
        "plt.ylabel('z', rotation=0)\n",
        "_ = ax.plot(xs, zs_wrt_x)"
      ],
      "metadata": {
        "colab": {
          "base_uri": "https://localhost:8080/",
          "height": 449
        },
        "id": "pSF2bVSXwZeO",
        "outputId": "5ac8dc7d-1f04-4133-9814-05843ca0cd55"
      },
      "execution_count": 5,
      "outputs": [
        {
          "output_type": "display_data",
          "data": {
            "text/plain": [
              "<Figure size 640x480 with 1 Axes>"
            ],
            "image/png": "[encoded data removed]"
          },
          "metadata": {}
        }
      ]
    },
    {
      "cell_type": "markdown",
      "source": [
        "To determine the slope of $z$ w.r.t. $x$ at a given point along the curve, we can use the partial derivative from the slides: $$ \\frac{\\partial z}{\\partial x} = 2x$$"
      ],
      "metadata": {
        "id": "SrbarFIY-d_r"
      }
    },
    {
      "cell_type": "code",
      "source": [
        "def delz_delx(my_x, my_y):  # y isn't relevant for *this* partial derivative; it often would be\n",
        "  return 2*my_x"
      ],
      "metadata": {
        "id": "__MJ5MV3xC-_"
      },
      "execution_count": 6,
      "outputs": []
    },
    {
      "cell_type": "code",
      "source": [
        "# Let's study the slope at 5 specific points\n",
        "x_samples = [-2, -1, 0, 1, 2, 3]\n",
        "\n",
        "# Assign specific color to those 5 points\n",
        "colors = ['red', 'orange', 'green', 'blue', 'purple', 'black']"
      ],
      "metadata": {
        "id": "OEZU8miW-qbw"
      },
      "execution_count": 7,
      "outputs": []
    },
    {
      "cell_type": "code",
      "source": [
        "def point_and_tangent_wrt_x(my_xs, my_x, my_y, my_f, fprime, col):\n",
        "  \n",
        "  my_z = my_f(my_x, my_y) # z = f(x, y)\n",
        "  plt.scatter(my_x, my_z, c=col, zorder=3)\n",
        "\n",
        "  tangent_m = fprime(my_x, my_y)  # Slope is partial derivative of f(x, y) w.r.t x\n",
        "  tangent_b = my_z - tangent_m*my_x # Line is z = mx + b, so b = z - mx\n",
        "  tangent_line = tangent_m*my_xs + tangent_b\n",
        "\n",
        "  plt.plot(my_xs, tangent_line, c=col, linestyle='dashed', linewidth=0.7, zorder=3)\n"
      ],
      "metadata": {
        "id": "cwRFhVmi_Dfy"
      },
      "execution_count": 8,
      "outputs": []
    },
    {
      "cell_type": "code",
      "source": [
        "fig, ax = plt.subplots()\n",
        "plt.axvline(x=0, color='lightgray')\n",
        "plt.axhline(y=0, color='lightgray')\n",
        "\n",
        "for i, x in enumerate(x_samples):\n",
        "  point_and_tangent_wrt_x(xs, x, 0, f, delz_delx, colors[i])\n",
        "\n",
        "plt.ylim([-1, 10])\n",
        "plt.xlabel('x')\n",
        "plt.ylabel('z', rotation=0)\n",
        "_ = ax.plot(xs, zs_wrt_x)"
      ],
      "metadata": {
        "id": "LoOamLHOCEA2",
        "outputId": "eb66cd23-4712-48c7-fd08-72e07b697681",
        "colab": {
          "base_uri": "https://localhost:8080/",
          "height": 455
        }
      },
      "execution_count": 9,
      "outputs": [
        {
          "output_type": "display_data",
          "data": {
            "text/plain": [
              "<Figure size 640x480 with 1 Axes>"
            ],
            "image/png": "[encoded data removed]"
          },
          "metadata": {}
        }
      ]
    },
    {
      "cell_type": "markdown",
      "source": [
        "Thereby visually demonstrating $\\frac{\\partial z}{\\partial x} = 2x$. \n",
        "\n",
        "That is, the slope of $z$ along the $x$ axis is *twice* the $x$ value. "
      ],
      "metadata": {
        "id": "BQvlK2sPG6J6"
      }
    },
    {
      "cell_type": "markdown",
      "source": [
        "Now let's plot $z$ with respect to $y$ by varying $y$..."
      ],
      "metadata": {
        "id": "VU8zVBhLHCrH"
      }
    },
    {
      "cell_type": "code",
      "source": [
        "ys = np.linspace(-3, 3, 1000)"
      ],
      "metadata": {
        "id": "SZdZ6oxwC3on"
      },
      "execution_count": 10,
      "outputs": []
    },
    {
      "cell_type": "markdown",
      "source": [
        "...while holding $x$ constant (e.g., at $x$ = 0): "
      ],
      "metadata": {
        "id": "oqa0yPwuIR8c"
      }
    },
    {
      "cell_type": "code",
      "source": [
        "zs_wrt_y = f(0, ys)"
      ],
      "metadata": {
        "id": "LJYPo_WDHFvN"
      },
      "execution_count": 11,
      "outputs": []
    },
    {
      "cell_type": "code",
      "source": [
        "fig, ax = plt.subplots()\n",
        "plt.axvline(x=0, color='lightgray')\n",
        "plt.axhline(y=0, color='lightgray')\n",
        "\n",
        "plt.xlabel('y')\n",
        "plt.ylabel('z', rotation=0)\n",
        "_ = ax.plot(ys, zs_wrt_y)"
      ],
      "metadata": {
        "id": "oPAtcFigHGbr",
        "outputId": "d25bfe1b-44b9-4003-ae2e-c89b850b21c5",
        "colab": {
          "base_uri": "https://localhost:8080/",
          "height": 449
        }
      },
      "execution_count": 12,
      "outputs": [
        {
          "output_type": "display_data",
          "data": {
            "text/plain": [
              "<Figure size 640x480 with 1 Axes>"
            ],
            "image/png": "[encoded data removed]"
          },
          "metadata": {}
        }
      ]
    },
    {
      "cell_type": "markdown",
      "source": [
        "As in the slides, the partial derivative of $z$ w.r.t $y$ happens to be independent of $x$ (just as we observed $x$ is independent of $y$ above), so while $z$ varies as a function of both $x$ and $y$, the slope of $z$ w.r.t $y$ is the same no matter what $x$ is: $$ \\frac{\\partial z}{\\partial y} = -2y $$"
      ],
      "metadata": {
        "id": "5ug3F6eEJJop"
      }
    },
    {
      "cell_type": "markdown",
      "source": [
        "So for example, holding $x$ constant at 2 instead of 0 increases $z$, but has no impact whatsoever on the slope of $z$ w.r.t. $y$: "
      ],
      "metadata": {
        "id": "oN0EFLLzJMVV"
      }
    },
    {
      "cell_type": "code",
      "source": [
        "zs_wrt_y = f(2, ys)"
      ],
      "metadata": {
        "id": "z8r-3jrZIyP_"
      },
      "execution_count": 13,
      "outputs": []
    },
    {
      "cell_type": "code",
      "source": [
        "fig, ax = plt.subplots()\n",
        "plt.axvline(x=0, color='lightgray')\n",
        "plt.axhline(y=0, color='lightgray')\n",
        "\n",
        "plt.xlabel('y')\n",
        "plt.ylabel('z', rotation=3)\n",
        "_ = ax.plot(ys, zs_wrt_y)"
      ],
      "metadata": {
        "id": "uMHRK9q-JP8X",
        "outputId": "bc5af0ab-3702-431b-ad45-e3f7e67f1de4",
        "colab": {
          "base_uri": "https://localhost:8080/",
          "height": 449
        }
      },
      "execution_count": 14,
      "outputs": [
        {
          "output_type": "display_data",
          "data": {
            "text/plain": [
              "<Figure size 640x480 with 1 Axes>"
            ],
            "image/png": "[encoded data removed]"
          },
          "metadata": {}
        }
      ]
    },
    {
      "cell_type": "code",
      "source": [
        "def delz_dely(my_x, my_y):\n",
        "  return -2*my_y"
      ],
      "metadata": {
        "id": "dPbYBpFmJjkZ"
      },
      "execution_count": 15,
      "outputs": []
    },
    {
      "cell_type": "code",
      "source": [
        "y_samples = [-2, -1, 0, 1, 2]"
      ],
      "metadata": {
        "id": "o1MYvLYtJ9WY"
      },
      "execution_count": 16,
      "outputs": []
    },
    {
      "cell_type": "code",
      "source": [
        "def point_and_tangent_wrt_y(my_ys, my_x, my_y, my_f, fprime, col):  # changed my_xs to my_ys\n",
        "\n",
        "  my_z = my_f (my_x, my_y)\n",
        "  plt.scatter(my_y, my_z, c=col, zorder=3)  # changde my_x to my_y\n",
        "\n",
        "  tangent_m = fprime(my_x, my_y)\n",
        "  tangent_b = my_z - tangent_m*my_y # changed my_x to my_y\n",
        "  tangent_line = tangent_m*my_ys + tangent_b  # changed my_xs to my_ys\n",
        "\n",
        "  plt.plot(my_ys, tangent_line, c=col, linestyle='dashed', linewidth=0.7, zorder=3) # changed my_xs to my_ys"
      ],
      "metadata": {
        "id": "SFdEI9GkKBEM"
      },
      "execution_count": 17,
      "outputs": []
    },
    {
      "cell_type": "code",
      "source": [
        "fig, ax = plt.subplots()\n",
        "plt.axvline(x=0, color='lightgray')\n",
        "plt.axhline(y=0, color='lightgray')\n",
        "\n",
        "for i, y in enumerate(y_samples):\n",
        "  point_and_tangent_wrt_y(ys, 2, y, f, delz_dely, colors[i])\n",
        "\n",
        "plt.ylim([-5, 5])\n",
        "plt.xlabel('y')\n",
        "plt.ylabel('z', rotation=0)\n",
        "_ = ax.plot(xs, zs_wrt_y)"
      ],
      "metadata": {
        "id": "ol6DVGccOTyg",
        "outputId": "3a36872f-ca2f-42e9-ecbf-a6fdb9f4301e",
        "colab": {
          "base_uri": "https://localhost:8080/",
          "height": 449
        }
      },
      "execution_count": 18,
      "outputs": [
        {
          "output_type": "display_data",
          "data": {
            "text/plain": [
              "<Figure size 640x480 with 1 Axes>"
            ],
            "image/png": "[encoded data removed]"
          },
          "metadata": {}
        }
      ]
    },
    {
      "cell_type": "markdown",
      "source": [
        "Thereby visually demonstrating $\\frac{\\partial z}{\\partial y} = -2y$. \n",
        "\n",
        "That is, the slope of $z$ along the $y$ axis is *twice* the $y$ value *and inverted*, resulting in the parabolic curve opening downward."
      ],
      "metadata": {
        "id": "atuN6ERQA-qa"
      }
    },
    {
      "cell_type": "markdown",
      "source": [
        "**Exercises**: Use pencil and paper to determine: \n",
        "\n",
        "* The value of $z$,\n",
        "* The slope of $z$ with respect to $x$, \n",
        "* And the slope of $z$ with respect to $y$\n",
        "\n",
        "...at the points where: \n",
        "\n",
        "1. $x = 3, y = 0$\n",
        "2. $x = 2, y = 3$\n",
        "3. $x = -2, y = -3$"
      ],
      "metadata": {
        "id": "jcXK_gqkBB-X"
      }
    },
    {
      "cell_type": "markdown",
      "source": [
        "Determining partial derivatives by hand using rules is helpful for understanding how calculus works. In practice, however, autodiff enables us to do so more easily (especially if there are a large number of variables). For example, let's use the PyTorch automatic differentiation library to calculate the slope of $z$ with respect to both $x$ and $y$ at any given point $(x, y, z)$:"
      ],
      "metadata": {
        "id": "AIctb7ncBEOc"
      }
    },
    {
      "cell_type": "markdown",
      "source": [
        "Point $x=0$, $y=0$"
      ],
      "metadata": {
        "id": "Q92jP1o1OOb-"
      }
    },
    {
      "cell_type": "code",
      "source": [
        "x = torch.tensor(0.).requires_grad_()\n",
        "x"
      ],
      "metadata": {
        "id": "C63QrtrZO-mK",
        "colab": {
          "base_uri": "https://localhost:8080/"
        },
        "outputId": "a3a9d674-7cfc-416e-bde4-9fa798c669fa"
      },
      "execution_count": 19,
      "outputs": [
        {
          "output_type": "execute_result",
          "data": {
            "text/plain": [
              "tensor(0., requires_grad=True)"
            ]
          },
          "metadata": {},
          "execution_count": 19
        }
      ]
    },
    {
      "cell_type": "code",
      "source": [
        "y = torch.tensor(0.).requires_grad_()\n",
        "y"
      ],
      "metadata": {
        "colab": {
          "base_uri": "https://localhost:8080/"
        },
        "id": "kPGCIRVWCbih",
        "outputId": "958c4e23-c0a7-44fb-f1f6-fe21f2d6fa23"
      },
      "execution_count": 20,
      "outputs": [
        {
          "output_type": "execute_result",
          "data": {
            "text/plain": [
              "tensor(0., requires_grad=True)"
            ]
          },
          "metadata": {},
          "execution_count": 20
        }
      ]
    },
    {
      "cell_type": "code",
      "source": [
        "z = f(x, y) # Forward pass\n",
        "z"
      ],
      "metadata": {
        "colab": {
          "base_uri": "https://localhost:8080/"
        },
        "id": "0Gg862w8Cgu6",
        "outputId": "be5ab678-42c5-4b88-cc79-3646b2c35b94"
      },
      "execution_count": 21,
      "outputs": [
        {
          "output_type": "execute_result",
          "data": {
            "text/plain": [
              "tensor(0., grad_fn=<SubBackward0>)"
            ]
          },
          "metadata": {},
          "execution_count": 21
        }
      ]
    },
    {
      "cell_type": "code",
      "source": [
        "z.backward()  #Autodiff"
      ],
      "metadata": {
        "id": "C3qm7FcvCkyR"
      },
      "execution_count": 22,
      "outputs": []
    },
    {
      "cell_type": "markdown",
      "source": [
        "As we already knew from our exercises above, the slope of the point (0, 0, 0) is zero with respect to both the $x$ and $y$ axes: "
      ],
      "metadata": {
        "id": "DNOTK70dC9jZ"
      }
    },
    {
      "cell_type": "code",
      "source": [
        "x.grad  # Slope of z w.r.t x"
      ],
      "metadata": {
        "colab": {
          "base_uri": "https://localhost:8080/"
        },
        "id": "Grl9GIqOC5U5",
        "outputId": "2e1641bd-e5a6-433b-b515-ea0b98ba7cd4"
      },
      "execution_count": 23,
      "outputs": [
        {
          "output_type": "execute_result",
          "data": {
            "text/plain": [
              "tensor(0.)"
            ]
          },
          "metadata": {},
          "execution_count": 23
        }
      ]
    },
    {
      "cell_type": "code",
      "source": [
        "y.grad  # Slope of z w.r.t y"
      ],
      "metadata": {
        "colab": {
          "base_uri": "https://localhost:8080/"
        },
        "id": "aG0SY2bSC_UQ",
        "outputId": "753439fc-9f71-4a0f-8413-7076fa069e0e"
      },
      "execution_count": 24,
      "outputs": [
        {
          "output_type": "execute_result",
          "data": {
            "text/plain": [
              "tensor(-0.)"
            ]
          },
          "metadata": {},
          "execution_count": 24
        }
      ]
    },
    {
      "cell_type": "code",
      "source": [],
      "metadata": {
        "id": "uL-TL_DCDCby"
      },
      "execution_count": 24,
      "outputs": []
    },
    {
      "cell_type": "markdown",
      "source": [
        "**Exercise-1**: $x=3$, $y=0$"
      ],
      "metadata": {
        "id": "-IiRZngDOWBQ"
      }
    },
    {
      "cell_type": "code",
      "source": [
        "x = torch.tensor(3.).requires_grad_()\n",
        "x"
      ],
      "metadata": {
        "colab": {
          "base_uri": "https://localhost:8080/"
        },
        "id": "OYA9TrVGDNnw",
        "outputId": "e1434816-d119-425c-b93e-76f5bc4a46ed"
      },
      "execution_count": 25,
      "outputs": [
        {
          "output_type": "execute_result",
          "data": {
            "text/plain": [
              "tensor(3., requires_grad=True)"
            ]
          },
          "metadata": {},
          "execution_count": 25
        }
      ]
    },
    {
      "cell_type": "code",
      "source": [
        "y = torch.tensor(0.).requires_grad_()\n",
        "y"
      ],
      "metadata": {
        "colab": {
          "base_uri": "https://localhost:8080/"
        },
        "id": "KlI8eX0GOjyl",
        "outputId": "6ae65a31-8fc2-4d58-fc89-2a2ba23595f7"
      },
      "execution_count": 26,
      "outputs": [
        {
          "output_type": "execute_result",
          "data": {
            "text/plain": [
              "tensor(0., requires_grad=True)"
            ]
          },
          "metadata": {},
          "execution_count": 26
        }
      ]
    },
    {
      "cell_type": "code",
      "source": [
        "z = f(x, y) # Forward Pass\n",
        "z"
      ],
      "metadata": {
        "colab": {
          "base_uri": "https://localhost:8080/"
        },
        "id": "LDy66CiqOuRA",
        "outputId": "659b0bbb-1228-4924-cbeb-d20725d8fb5c"
      },
      "execution_count": 27,
      "outputs": [
        {
          "output_type": "execute_result",
          "data": {
            "text/plain": [
              "tensor(9., grad_fn=<SubBackward0>)"
            ]
          },
          "metadata": {},
          "execution_count": 27
        }
      ]
    },
    {
      "cell_type": "code",
      "source": [
        "z.backward()  #Autodiff"
      ],
      "metadata": {
        "id": "KiaV5QA4OzRQ"
      },
      "execution_count": 28,
      "outputs": []
    },
    {
      "cell_type": "code",
      "source": [
        "# Slope of z w.r.t x\n",
        "x.grad"
      ],
      "metadata": {
        "colab": {
          "base_uri": "https://localhost:8080/"
        },
        "id": "Dr1x58y_O8Ci",
        "outputId": "6cba3ed6-57ea-4211-d159-b996005249a9"
      },
      "execution_count": 29,
      "outputs": [
        {
          "output_type": "execute_result",
          "data": {
            "text/plain": [
              "tensor(6.)"
            ]
          },
          "metadata": {},
          "execution_count": 29
        }
      ]
    },
    {
      "cell_type": "code",
      "source": [
        "# Slope of z w.r.t y\n",
        "y.grad"
      ],
      "metadata": {
        "colab": {
          "base_uri": "https://localhost:8080/"
        },
        "id": "aXnJvV8-O9pB",
        "outputId": "ad6c4be0-c0db-4bc4-eeb5-28e9f4448149"
      },
      "execution_count": 30,
      "outputs": [
        {
          "output_type": "execute_result",
          "data": {
            "text/plain": [
              "tensor(-0.)"
            ]
          },
          "metadata": {},
          "execution_count": 30
        }
      ]
    },
    {
      "cell_type": "markdown",
      "source": [
        "**Exercise-2**: $x=2$, $y=3$"
      ],
      "metadata": {
        "id": "cpjWF4haPGK-"
      }
    },
    {
      "cell_type": "code",
      "source": [
        "x = torch.tensor(2.).requires_grad_()\n",
        "x"
      ],
      "metadata": {
        "colab": {
          "base_uri": "https://localhost:8080/"
        },
        "id": "aQR-EuL1O-8E",
        "outputId": "c5b7e212-aaa5-407b-e901-a43c1141cb10"
      },
      "execution_count": 31,
      "outputs": [
        {
          "output_type": "execute_result",
          "data": {
            "text/plain": [
              "tensor(2., requires_grad=True)"
            ]
          },
          "metadata": {},
          "execution_count": 31
        }
      ]
    },
    {
      "cell_type": "code",
      "source": [
        "y = torch.tensor(3.).requires_grad_()\n",
        "y"
      ],
      "metadata": {
        "colab": {
          "base_uri": "https://localhost:8080/"
        },
        "id": "-OpPR13lPLQA",
        "outputId": "c42d1cdd-c897-4d95-90c5-da020ab6d425"
      },
      "execution_count": 32,
      "outputs": [
        {
          "output_type": "execute_result",
          "data": {
            "text/plain": [
              "tensor(3., requires_grad=True)"
            ]
          },
          "metadata": {},
          "execution_count": 32
        }
      ]
    },
    {
      "cell_type": "code",
      "source": [
        "z = f(x, y)\n",
        "z"
      ],
      "metadata": {
        "colab": {
          "base_uri": "https://localhost:8080/"
        },
        "id": "0DE3I4iRPOsw",
        "outputId": "c817cbba-d97c-468e-dc22-2c621ac4c1f8"
      },
      "execution_count": 33,
      "outputs": [
        {
          "output_type": "execute_result",
          "data": {
            "text/plain": [
              "tensor(-5., grad_fn=<SubBackward0>)"
            ]
          },
          "metadata": {},
          "execution_count": 33
        }
      ]
    },
    {
      "cell_type": "code",
      "source": [
        "z.backward()  #Forward Pass"
      ],
      "metadata": {
        "id": "cDdokKuYPUku"
      },
      "execution_count": 34,
      "outputs": []
    },
    {
      "cell_type": "code",
      "source": [
        "#Slope of z w.r.t x\n",
        "x.grad"
      ],
      "metadata": {
        "colab": {
          "base_uri": "https://localhost:8080/"
        },
        "id": "zOvp2CuUPX5I",
        "outputId": "b7d4412d-c7ec-44be-9bc2-88a8c60aafeb"
      },
      "execution_count": 35,
      "outputs": [
        {
          "output_type": "execute_result",
          "data": {
            "text/plain": [
              "tensor(4.)"
            ]
          },
          "metadata": {},
          "execution_count": 35
        }
      ]
    },
    {
      "cell_type": "code",
      "source": [
        "#Slope of z w.r.t y\n",
        "y.grad"
      ],
      "metadata": {
        "colab": {
          "base_uri": "https://localhost:8080/"
        },
        "id": "xATlTUOHPejm",
        "outputId": "0650a0e8-d920-4298-afe1-95991ecba1e2"
      },
      "execution_count": 36,
      "outputs": [
        {
          "output_type": "execute_result",
          "data": {
            "text/plain": [
              "tensor(-6.)"
            ]
          },
          "metadata": {},
          "execution_count": 36
        }
      ]
    },
    {
      "cell_type": "markdown",
      "source": [
        "**Exercise-3**: $x=-2$, $y=-3$"
      ],
      "metadata": {
        "id": "QK13wp1JPle7"
      }
    },
    {
      "cell_type": "code",
      "source": [
        "x = torch.tensor(-2.).requires_grad_()\n",
        "x"
      ],
      "metadata": {
        "colab": {
          "base_uri": "https://localhost:8080/"
        },
        "id": "RBv1Lj3dPiE4",
        "outputId": "9faaddd9-c583-4c5e-8007-fb846b173038"
      },
      "execution_count": 37,
      "outputs": [
        {
          "output_type": "execute_result",
          "data": {
            "text/plain": [
              "tensor(-2., requires_grad=True)"
            ]
          },
          "metadata": {},
          "execution_count": 37
        }
      ]
    },
    {
      "cell_type": "code",
      "source": [
        "y = torch.tensor(-3.).requires_grad_()\n",
        "y"
      ],
      "metadata": {
        "colab": {
          "base_uri": "https://localhost:8080/"
        },
        "id": "nioLFIBePrbG",
        "outputId": "535ecd19-b825-4924-cda7-7b87c0ade5ee"
      },
      "execution_count": 38,
      "outputs": [
        {
          "output_type": "execute_result",
          "data": {
            "text/plain": [
              "tensor(-3., requires_grad=True)"
            ]
          },
          "metadata": {},
          "execution_count": 38
        }
      ]
    },
    {
      "cell_type": "code",
      "source": [
        "z = f(x, y)\n",
        "z"
      ],
      "metadata": {
        "colab": {
          "base_uri": "https://localhost:8080/"
        },
        "id": "F-q8k2DHPvqV",
        "outputId": "eafdc4aa-ba15-4dc9-b135-15059f14efc3"
      },
      "execution_count": 39,
      "outputs": [
        {
          "output_type": "execute_result",
          "data": {
            "text/plain": [
              "tensor(-5., grad_fn=<SubBackward0>)"
            ]
          },
          "metadata": {},
          "execution_count": 39
        }
      ]
    },
    {
      "cell_type": "code",
      "source": [
        "z.backward()  #Forward Pass"
      ],
      "metadata": {
        "id": "dZTbNZ7ZP2af"
      },
      "execution_count": 40,
      "outputs": []
    },
    {
      "cell_type": "code",
      "source": [
        "#Slope of z w.r.t x\n",
        "x.grad"
      ],
      "metadata": {
        "colab": {
          "base_uri": "https://localhost:8080/"
        },
        "id": "5sY94c-ZP7Mn",
        "outputId": "26db70bf-4b73-4621-c513-0772810de283"
      },
      "execution_count": 41,
      "outputs": [
        {
          "output_type": "execute_result",
          "data": {
            "text/plain": [
              "tensor(-4.)"
            ]
          },
          "metadata": {},
          "execution_count": 41
        }
      ]
    },
    {
      "cell_type": "code",
      "source": [
        "#Slope of z w.r.t y\n",
        "y.grad"
      ],
      "metadata": {
        "colab": {
          "base_uri": "https://localhost:8080/"
        },
        "id": "Q4Ky9FTrP-0c",
        "outputId": "de7f9b47-5b4c-4919-c927-50a6fe90e626"
      },
      "execution_count": 42,
      "outputs": [
        {
          "output_type": "execute_result",
          "data": {
            "text/plain": [
              "tensor(6.)"
            ]
          },
          "metadata": {},
          "execution_count": 42
        }
      ]
    },
    {
      "cell_type": "markdown",
      "source": [
        "####Exercise with Tensorflow"
      ],
      "metadata": {
        "id": "wM1tc_ASQGO5"
      }
    },
    {
      "cell_type": "markdown",
      "source": [
        "**Exercise-0**: $x=0$, $y=0$"
      ],
      "metadata": {
        "id": "a3BpXG_UQKKz"
      }
    },
    {
      "cell_type": "code",
      "source": [
        "x = tf.Variable(0, dtype=tf.float32)\n",
        "x"
      ],
      "metadata": {
        "colab": {
          "base_uri": "https://localhost:8080/"
        },
        "id": "Ux0MwgCDQDJY",
        "outputId": "ee0f0db5-f015-4969-ae25-a23e3f671c0f"
      },
      "execution_count": 43,
      "outputs": [
        {
          "output_type": "execute_result",
          "data": {
            "text/plain": [
              "<tf.Variable 'Variable:0' shape=() dtype=float32, numpy=0.0>"
            ]
          },
          "metadata": {},
          "execution_count": 43
        }
      ]
    },
    {
      "cell_type": "code",
      "source": [
        "y = tf.Variable(0, dtype=tf.float32)\n",
        "y"
      ],
      "metadata": {
        "colab": {
          "base_uri": "https://localhost:8080/"
        },
        "id": "4ISvY5GHQTfX",
        "outputId": "41a27d17-47be-4453-bd2f-eb38027a400c"
      },
      "execution_count": 44,
      "outputs": [
        {
          "output_type": "execute_result",
          "data": {
            "text/plain": [
              "<tf.Variable 'Variable:0' shape=() dtype=float32, numpy=0.0>"
            ]
          },
          "metadata": {},
          "execution_count": 44
        }
      ]
    },
    {
      "cell_type": "code",
      "source": [
        "with tf.GradientTape() as t:\n",
        "  z = f(x, y)"
      ],
      "metadata": {
        "id": "vaqAOAcmQe0d"
      },
      "execution_count": 45,
      "outputs": []
    },
    {
      "cell_type": "code",
      "source": [
        "grads = t.gradient(z, [x, y])"
      ],
      "metadata": {
        "id": "5NjgJTMYQnyE"
      },
      "execution_count": 46,
      "outputs": []
    },
    {
      "cell_type": "code",
      "source": [
        "grads"
      ],
      "metadata": {
        "colab": {
          "base_uri": "https://localhost:8080/"
        },
        "id": "z33Zp3UlQobv",
        "outputId": "ab83665f-4093-4b8b-9f59-bfd8ba673886"
      },
      "execution_count": 47,
      "outputs": [
        {
          "output_type": "execute_result",
          "data": {
            "text/plain": [
              "[<tf.Tensor: shape=(), dtype=float32, numpy=0.0>,\n",
              " <tf.Tensor: shape=(), dtype=float32, numpy=-0.0>]"
            ]
          },
          "metadata": {},
          "execution_count": 47
        }
      ]
    },
    {
      "cell_type": "markdown",
      "source": [
        "**Exercise-2**: $x=3$, $y=0$"
      ],
      "metadata": {
        "id": "_6tc0sjHUWcl"
      }
    },
    {
      "cell_type": "code",
      "source": [
        "x = tf.Variable(3, dtype=tf.float32)\n",
        "x"
      ],
      "metadata": {
        "colab": {
          "base_uri": "https://localhost:8080/"
        },
        "id": "vqViiTN-RAYR",
        "outputId": "6ec8d559-d814-42c1-f2a4-3fae3ab315e8"
      },
      "execution_count": 48,
      "outputs": [
        {
          "output_type": "execute_result",
          "data": {
            "text/plain": [
              "<tf.Variable 'Variable:0' shape=() dtype=float32, numpy=3.0>"
            ]
          },
          "metadata": {},
          "execution_count": 48
        }
      ]
    },
    {
      "cell_type": "code",
      "source": [
        "y = tf.Variable(0, dtype=tf.float32)\n",
        "y"
      ],
      "metadata": {
        "colab": {
          "base_uri": "https://localhost:8080/"
        },
        "id": "BR9Qw2nmUezi",
        "outputId": "db5a1f9f-e262-4b0d-9bd4-170900f92526"
      },
      "execution_count": 49,
      "outputs": [
        {
          "output_type": "execute_result",
          "data": {
            "text/plain": [
              "<tf.Variable 'Variable:0' shape=() dtype=float32, numpy=0.0>"
            ]
          },
          "metadata": {},
          "execution_count": 49
        }
      ]
    },
    {
      "cell_type": "code",
      "source": [
        "with tf.GradientTape() as t:\n",
        "  z = f(x, y)\n",
        "\n",
        "grads = t.gradient(z, [x, y])\n",
        "grads"
      ],
      "metadata": {
        "colab": {
          "base_uri": "https://localhost:8080/"
        },
        "id": "9txaZI_rUisi",
        "outputId": "52a2d285-090c-4310-aae0-2e10e82eaaa4"
      },
      "execution_count": 50,
      "outputs": [
        {
          "output_type": "execute_result",
          "data": {
            "text/plain": [
              "[<tf.Tensor: shape=(), dtype=float32, numpy=6.0>,\n",
              " <tf.Tensor: shape=(), dtype=float32, numpy=-0.0>]"
            ]
          },
          "metadata": {},
          "execution_count": 50
        }
      ]
    },
    {
      "cell_type": "markdown",
      "source": [
        "**Exercise-3**: $x=2$, $y=3$"
      ],
      "metadata": {
        "id": "2JjsPnsoU0Nh"
      }
    },
    {
      "cell_type": "code",
      "source": [
        "x = tf.Variable(2, dtype=tf.float32)\n",
        "x"
      ],
      "metadata": {
        "colab": {
          "base_uri": "https://localhost:8080/"
        },
        "id": "4iRmt_TRUtEC",
        "outputId": "b4075293-980b-4648-a636-6fec25fb29ca"
      },
      "execution_count": 51,
      "outputs": [
        {
          "output_type": "execute_result",
          "data": {
            "text/plain": [
              "<tf.Variable 'Variable:0' shape=() dtype=float32, numpy=2.0>"
            ]
          },
          "metadata": {},
          "execution_count": 51
        }
      ]
    },
    {
      "cell_type": "code",
      "source": [
        "y = tf.Variable(3, dtype=tf.float32)\n",
        "y"
      ],
      "metadata": {
        "colab": {
          "base_uri": "https://localhost:8080/"
        },
        "id": "7NgOKtvpU4gR",
        "outputId": "a430049f-b698-4df9-bb58-734cd038884a"
      },
      "execution_count": 52,
      "outputs": [
        {
          "output_type": "execute_result",
          "data": {
            "text/plain": [
              "<tf.Variable 'Variable:0' shape=() dtype=float32, numpy=3.0>"
            ]
          },
          "metadata": {},
          "execution_count": 52
        }
      ]
    },
    {
      "cell_type": "code",
      "source": [
        "with tf.GradientTape() as t:\n",
        "  z = f(x, y)\n",
        "grads = t.gradient(z, [x, y])\n",
        "grads"
      ],
      "metadata": {
        "colab": {
          "base_uri": "https://localhost:8080/"
        },
        "id": "yhUSKdgIU7qK",
        "outputId": "5185193e-4777-4641-a0f4-500c0a7a642f"
      },
      "execution_count": 53,
      "outputs": [
        {
          "output_type": "execute_result",
          "data": {
            "text/plain": [
              "[<tf.Tensor: shape=(), dtype=float32, numpy=4.0>,\n",
              " <tf.Tensor: shape=(), dtype=float32, numpy=-6.0>]"
            ]
          },
          "metadata": {},
          "execution_count": 53
        }
      ]
    },
    {
      "cell_type": "markdown",
      "source": [
        "**Exercise-4**: $x=-2$, $y=-3$"
      ],
      "metadata": {
        "id": "_G8XTPYkVP2g"
      }
    },
    {
      "cell_type": "code",
      "source": [
        "x = tf.Variable(-2, dtype=tf.float32)\n",
        "x"
      ],
      "metadata": {
        "colab": {
          "base_uri": "https://localhost:8080/"
        },
        "id": "UtLFiVsFVC65",
        "outputId": "998fe203-9c1e-4e7d-eb75-9e256abf2e72"
      },
      "execution_count": 54,
      "outputs": [
        {
          "output_type": "execute_result",
          "data": {
            "text/plain": [
              "<tf.Variable 'Variable:0' shape=() dtype=float32, numpy=-2.0>"
            ]
          },
          "metadata": {},
          "execution_count": 54
        }
      ]
    },
    {
      "cell_type": "code",
      "source": [
        "y = tf.Variable(-3, dtype=tf.float32)\n",
        "y"
      ],
      "metadata": {
        "colab": {
          "base_uri": "https://localhost:8080/"
        },
        "id": "a7uYEWXpVTtb",
        "outputId": "3ed4eced-ed31-4bdd-9315-d896af33b704"
      },
      "execution_count": 55,
      "outputs": [
        {
          "output_type": "execute_result",
          "data": {
            "text/plain": [
              "<tf.Variable 'Variable:0' shape=() dtype=float32, numpy=-3.0>"
            ]
          },
          "metadata": {},
          "execution_count": 55
        }
      ]
    },
    {
      "cell_type": "code",
      "source": [
        "with tf.GradientTape() as t:\n",
        "  z = f(x, y)\n",
        "grads = t.gradient(z, [x, y])\n",
        "grads"
      ],
      "metadata": {
        "colab": {
          "base_uri": "https://localhost:8080/"
        },
        "id": "YtYFJAsjVXF2",
        "outputId": "a0e52b79-0832-4d17-dcb0-97aca14d022d"
      },
      "execution_count": 56,
      "outputs": [
        {
          "output_type": "execute_result",
          "data": {
            "text/plain": [
              "[<tf.Tensor: shape=(), dtype=float32, numpy=-4.0>,\n",
              " <tf.Tensor: shape=(), dtype=float32, numpy=6.0>]"
            ]
          },
          "metadata": {},
          "execution_count": 56
        }
      ]
    },
    {
      "cell_type": "markdown",
      "source": [
        "### Partial Derivatives of a Cylinder's Volume"
      ],
      "metadata": {
        "id": "4H23U3KNaoOo"
      }
    },
    {
      "cell_type": "markdown",
      "source": [
        "The volume of a cylinder is described by $v = \\pi r^2 l$ where: \n",
        "\n",
        "* $r$ is the radius of the cylinder\n",
        "* $l$ is its length"
      ],
      "metadata": {
        "id": "3a7f1j_UasEV"
      }
    },
    {
      "cell_type": "code",
      "source": [
        "def cylinder_vol(my_r, my_l):\n",
        "  return math.pi * my_r**2 * my_l"
      ],
      "metadata": {
        "id": "5BlB0rk6VfwJ"
      },
      "execution_count": 57,
      "outputs": []
    },
    {
      "cell_type": "code",
      "source": [
        "# Let's say the radius is 3 meters\n",
        "r = torch.tensor(3.).requires_grad_()\n",
        "r"
      ],
      "metadata": {
        "id": "eIJGjaQAbApQ",
        "outputId": "4613dcbd-9915-46c3-fa00-77600a93a7b8",
        "colab": {
          "base_uri": "https://localhost:8080/"
        }
      },
      "execution_count": 58,
      "outputs": [
        {
          "output_type": "execute_result",
          "data": {
            "text/plain": [
              "tensor(3., requires_grad=True)"
            ]
          },
          "metadata": {},
          "execution_count": 58
        }
      ]
    },
    {
      "cell_type": "code",
      "source": [
        "# and length is 5 meters\n",
        "l = torch.tensor(5.).requires_grad_()\n",
        "l"
      ],
      "metadata": {
        "id": "2UfI-76MbYAY",
        "outputId": "de298695-2217-4011-fbc0-5d0e6791b0ee",
        "colab": {
          "base_uri": "https://localhost:8080/"
        }
      },
      "execution_count": 59,
      "outputs": [
        {
          "output_type": "execute_result",
          "data": {
            "text/plain": [
              "tensor(5., requires_grad=True)"
            ]
          },
          "metadata": {},
          "execution_count": 59
        }
      ]
    },
    {
      "cell_type": "code",
      "source": [
        "# Then volumn of cylinder is 141.4 cubic meters\n",
        "v = cylinder_vol(r, l)\n",
        "v"
      ],
      "metadata": {
        "id": "qE4FL3m3bdz8",
        "outputId": "c84e6b74-31d0-4bcb-b1c8-4da3d83bcba3",
        "colab": {
          "base_uri": "https://localhost:8080/"
        }
      },
      "execution_count": 60,
      "outputs": [
        {
          "output_type": "execute_result",
          "data": {
            "text/plain": [
              "tensor(141.3717, grad_fn=<MulBackward0>)"
            ]
          },
          "metadata": {},
          "execution_count": 60
        }
      ]
    },
    {
      "cell_type": "code",
      "source": [
        "v.backward()  # Autodiff"
      ],
      "metadata": {
        "id": "ABVf-GDNbsLR"
      },
      "execution_count": 61,
      "outputs": []
    },
    {
      "cell_type": "code",
      "source": [
        "l.grad"
      ],
      "metadata": {
        "id": "bPx4hq2acDDb",
        "outputId": "e110aff2-1c99-4cae-b429-a140bce9580c",
        "colab": {
          "base_uri": "https://localhost:8080/"
        }
      },
      "execution_count": 62,
      "outputs": [
        {
          "output_type": "execute_result",
          "data": {
            "text/plain": [
              "tensor(28.2743)"
            ]
          },
          "metadata": {},
          "execution_count": 62
        }
      ]
    },
    {
      "cell_type": "markdown",
      "source": [
        "As derived (w.r.t length) on the slides: $$\\frac{\\partial v}{\\partial l} = \\pi r^2$$"
      ],
      "metadata": {
        "id": "fE8RH91ucmuq"
      }
    },
    {
      "cell_type": "code",
      "source": [
        "math.pi * r**2"
      ],
      "metadata": {
        "id": "g5qjS3zycEgq",
        "outputId": "d56ae346-0b0d-4a46-9985-79e9374a90b6",
        "colab": {
          "base_uri": "https://localhost:8080/"
        }
      },
      "execution_count": 63,
      "outputs": [
        {
          "output_type": "execute_result",
          "data": {
            "text/plain": [
              "tensor(28.2743, grad_fn=<MulBackward0>)"
            ]
          },
          "metadata": {},
          "execution_count": 63
        }
      ]
    },
    {
      "cell_type": "markdown",
      "source": [
        "This means that with $r = 3$, a change in $l$ by one unit corresponds to a change in $v$ of 28.27$\\text{m}^3$. We can prove this to ourselves: "
      ],
      "metadata": {
        "id": "kICbf5pbdt-m"
      }
    },
    {
      "cell_type": "code",
      "source": [
        "cylinder_vol(3, 6)"
      ],
      "metadata": {
        "id": "mkXQxNqucqv5",
        "outputId": "e317ae40-90bc-490c-f01d-0dd9f1cbe399",
        "colab": {
          "base_uri": "https://localhost:8080/"
        }
      },
      "execution_count": 64,
      "outputs": [
        {
          "output_type": "execute_result",
          "data": {
            "text/plain": [
              "169.64600329384882"
            ]
          },
          "metadata": {},
          "execution_count": 64
        }
      ]
    },
    {
      "cell_type": "code",
      "source": [
        "# Difference b/w two volumns is 28.2743\n",
        "cylinder_vol(3,6) - cylinder_vol(3, 5)"
      ],
      "metadata": {
        "id": "zxWHxT6Zdxdz",
        "outputId": "5b26f268-aa41-4a14-950d-84e19dff33f7",
        "colab": {
          "base_uri": "https://localhost:8080/"
        }
      },
      "execution_count": 65,
      "outputs": [
        {
          "output_type": "execute_result",
          "data": {
            "text/plain": [
              "28.274333882308127"
            ]
          },
          "metadata": {},
          "execution_count": 65
        }
      ]
    },
    {
      "cell_type": "code",
      "source": [
        "cylinder_vol(3, 7) - cylinder_vol(3, 6)"
      ],
      "metadata": {
        "id": "YHp9Mx4Zd5eM",
        "outputId": "31ea97ec-2515-455e-b6b3-5e9bf1787fb8",
        "colab": {
          "base_uri": "https://localhost:8080/"
        }
      },
      "execution_count": 66,
      "outputs": [
        {
          "output_type": "execute_result",
          "data": {
            "text/plain": [
              "28.274333882308156"
            ]
          },
          "metadata": {},
          "execution_count": 66
        }
      ]
    },
    {
      "cell_type": "markdown",
      "source": [
        "For changes in $v$ with respect to $r$ we have the following from the slides: $$\\frac{\\partial v}{\\partial r} = 2 \\pi r l$$"
      ],
      "metadata": {
        "id": "XmoRrWwWinL6"
      }
    },
    {
      "cell_type": "code",
      "source": [
        "r.grad"
      ],
      "metadata": {
        "id": "BimArKqbeKiB",
        "outputId": "9f11977f-0725-4a2f-b132-c4e292132454",
        "colab": {
          "base_uri": "https://localhost:8080/"
        }
      },
      "execution_count": 67,
      "outputs": [
        {
          "output_type": "execute_result",
          "data": {
            "text/plain": [
              "tensor(94.2478)"
            ]
          },
          "metadata": {},
          "execution_count": 67
        }
      ]
    },
    {
      "cell_type": "code",
      "source": [
        "2 * math.pi * 3 * 5"
      ],
      "metadata": {
        "id": "vjZBffMgiowN",
        "outputId": "403a0df7-7252-453c-958b-96c1ca15da9d",
        "colab": {
          "base_uri": "https://localhost:8080/"
        }
      },
      "execution_count": 68,
      "outputs": [
        {
          "output_type": "execute_result",
          "data": {
            "text/plain": [
              "94.24777960769379"
            ]
          },
          "metadata": {},
          "execution_count": 68
        }
      ]
    },
    {
      "cell_type": "markdown",
      "source": [
        "$r$ is included in the partial derivative so adjusting it affects the scale of its impact on $v$. Although it's our first example in this notebook, it is typical in calculus for the derivative only to apply at an infinitesimally small $\\Delta r$. The smaller the $\\Delta r$, the closer to the true $\\frac{\\partial v}{\\partial r}$. E.g., at $\\Delta r = 1 \\times 10^{-6}$:"
      ],
      "metadata": {
        "id": "nNtRoPyujIIo"
      }
    },
    {
      "cell_type": "code",
      "source": [
        "delta =  1e-6\n",
        "\n",
        "(cylinder_vol(3 + delta, 5) - cylinder_vol(3, 5))/delta # Dividing by delta restores scale"
      ],
      "metadata": {
        "id": "VlOrXp73jKsi",
        "outputId": "9187b075-5049-455b-f189-a3afbdd56767",
        "colab": {
          "base_uri": "https://localhost:8080/"
        }
      },
      "execution_count": 69,
      "outputs": [
        {
          "output_type": "execute_result",
          "data": {
            "text/plain": [
              "94.24779531741478"
            ]
          },
          "metadata": {},
          "execution_count": 69
        }
      ]
    },
    {
      "cell_type": "markdown",
      "source": [
        "####With Tensorflow"
      ],
      "metadata": {
        "id": "ayvO8tRnz0cn"
      }
    },
    {
      "cell_type": "code",
      "source": [
        "r = tf.Variable(3, dtype=tf.float32)\n",
        "l = tf.Variable(5, dtype=tf.float32)\n",
        "\n",
        "# Then volumn of cylinder\n",
        "with tf.GradientTape() as t:\n",
        "  v = cylinder_vol(r, l)\n",
        "grads = t.gradient(v, [r, l])\n",
        "grads"
      ],
      "metadata": {
        "id": "GjDM_9zZjtvh",
        "outputId": "bafdbd74-0c8f-4380-a88c-9ee5db2faa67",
        "colab": {
          "base_uri": "https://localhost:8080/"
        }
      },
      "execution_count": 70,
      "outputs": [
        {
          "output_type": "execute_result",
          "data": {
            "text/plain": [
              "[<tf.Tensor: shape=(), dtype=float32, numpy=94.24779>,\n",
              " <tf.Tensor: shape=(), dtype=float32, numpy=28.274334>]"
            ]
          },
          "metadata": {},
          "execution_count": 70
        }
      ]
    },
    {
      "cell_type": "code",
      "source": [
        "v"
      ],
      "metadata": {
        "id": "1D6P_75g0R7k",
        "outputId": "b32f6f66-6c7d-41be-b89d-91b81d99e294",
        "colab": {
          "base_uri": "https://localhost:8080/"
        }
      },
      "execution_count": 71,
      "outputs": [
        {
          "output_type": "execute_result",
          "data": {
            "text/plain": [
              "<tf.Tensor: shape=(), dtype=float32, numpy=141.37167>"
            ]
          },
          "metadata": {},
          "execution_count": 71
        }
      ]
    },
    {
      "cell_type": "markdown",
      "source": [
        "### Gradients of Cost w.r.t. Model Parameters"
      ],
      "metadata": {
        "id": "9mVt8_Fluz7Z"
      }
    },
    {
      "cell_type": "markdown",
      "source": [
        "See the standalone notebooks: \n",
        "\n",
        "* [Single-Point Regression Gradient](https://github.com/darstech/ML-Foundation/blob/main/notebooks/single_point_regression_gradient.ipynb)\n",
        "* [Batch Regression Gradient](https://github.com/darstech/ML-Foundation/blob/main/notebooks/batch_regression_gradient.ipynb)"
      ],
      "metadata": {
        "id": "pxotw7d5u2Tn"
      }
    },
    {
      "cell_type": "markdown",
      "source": [
        "## Segment 3: Integrals"
      ],
      "metadata": {
        "id": "LxqmkXiXKYOj"
      }
    },
    {
      "cell_type": "code",
      "source": [
        "from scipy.integrate import quad  # \"quadrature\" = numerical integration (as opposed to symbolic integration)"
      ],
      "metadata": {
        "id": "gZzAp5Vp0XTN"
      },
      "execution_count": 72,
      "outputs": []
    },
    {
      "cell_type": "markdown",
      "source": [
        "From the slides: $$ \\int_1^2 \\frac{x}{2} dx = \\frac{3}{4} $$"
      ],
      "metadata": {
        "id": "J9ZWuKChL9ZH"
      }
    },
    {
      "cell_type": "code",
      "source": [
        "def g(x):\n",
        "  return x/2"
      ],
      "metadata": {
        "id": "ex3pfbtpL6HU"
      },
      "execution_count": 73,
      "outputs": []
    },
    {
      "cell_type": "code",
      "source": [
        "quad(g, 1, 2)\n",
        "\n",
        "#The second output of `quad` is an estimate of the absolute error of the integral, which in this case is essentially zero."
      ],
      "metadata": {
        "id": "SKc3fqOFMH8Y",
        "outputId": "890ef100-0642-4361-8f59-a048c74d72ba",
        "colab": {
          "base_uri": "https://localhost:8080/"
        }
      },
      "execution_count": 77,
      "outputs": [
        {
          "output_type": "execute_result",
          "data": {
            "text/plain": [
              "(0.75, 8.326672684688674e-15)"
            ]
          },
          "metadata": {},
          "execution_count": 77
        }
      ]
    },
    {
      "cell_type": "markdown",
      "source": [
        "####Excercise"
      ],
      "metadata": {
        "id": "B_3cnkIFRVdM"
      }
    },
    {
      "cell_type": "markdown",
      "source": [
        "$$ \\int_3^4 {2x} dx = {7} $$"
      ],
      "metadata": {
        "id": "y62rMoDfRb9W"
      }
    },
    {
      "cell_type": "code",
      "source": [
        "def q1_g(x):\n",
        "  return 2*x"
      ],
      "metadata": {
        "id": "3orLLHaLNIeC"
      },
      "execution_count": 88,
      "outputs": []
    },
    {
      "cell_type": "code",
      "source": [
        "quad(q1_g, 3, 4)"
      ],
      "metadata": {
        "id": "ZgPpqLENRs4B",
        "outputId": "0ce20cee-59fb-4646-be63-e2f2af8401ec",
        "colab": {
          "base_uri": "https://localhost:8080/"
        }
      },
      "execution_count": 90,
      "outputs": [
        {
          "output_type": "execute_result",
          "data": {
            "text/plain": [
              "(7.0, 7.771561172376096e-14)"
            ]
          },
          "metadata": {},
          "execution_count": 90
        }
      ]
    },
    {
      "cell_type": "markdown",
      "source": [
        "### Area Under the ROC Curve"
      ],
      "metadata": {
        "id": "u9x9Whk8VehK"
      }
    },
    {
      "cell_type": "markdown",
      "source": [
        "When we don't have a function but we do have $(x, y)$ coordinates, we can use the scikit-learn library's `auc()` method, which uses a numerical approach (the [trapezoidal rule](https://en.wikipedia.org/wiki/Trapezoidal_rule)) to find the area under the curve described by the coordinates: "
      ],
      "metadata": {
        "id": "sZzsbIE5VqWR"
      }
    },
    {
      "cell_type": "code",
      "source": [
        "from sklearn.metrics import auc"
      ],
      "metadata": {
        "id": "8y5zg738RwIb"
      },
      "execution_count": 91,
      "outputs": []
    },
    {
      "cell_type": "markdown",
      "source": [
        "From the slides, the $(x, y)$ coordinates of our hot dog-detecting ROC curve are: \n",
        "\n",
        "* (0, 0)\n",
        "* (0, 0.5)\n",
        "* (0.5, 0.5)\n",
        "* (0.5, 1)\n",
        "* (1, 1)"
      ],
      "metadata": {
        "id": "sQRwLocqWAMb"
      }
    },
    {
      "cell_type": "code",
      "source": [
        "xs = [0, 0, 0.5, 0.5, 1]\n",
        "ys = [0, 0.5, 0.5, 1, 1]"
      ],
      "metadata": {
        "id": "uOrleSrJV0bg"
      },
      "execution_count": 92,
      "outputs": []
    },
    {
      "cell_type": "code",
      "source": [
        "auc(xs, ys)"
      ],
      "metadata": {
        "id": "TXsPud72WT47",
        "outputId": "90a52658-c9aa-4b48-bc39-761e807f087c",
        "colab": {
          "base_uri": "https://localhost:8080/"
        }
      },
      "execution_count": 94,
      "outputs": [
        {
          "output_type": "execute_result",
          "data": {
            "text/plain": [
              "0.75"
            ]
          },
          "metadata": {},
          "execution_count": 94
        }
      ]
    },
    {
      "cell_type": "code",
      "source": [],
      "metadata": {
        "id": "oWF4CPgwWZkl"
      },
      "execution_count": null,
      "outputs": []
    }
  ]
}