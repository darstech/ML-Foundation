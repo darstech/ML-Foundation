{
  "nbformat": 4,
  "nbformat_minor": 0,
  "metadata": {
    "colab": {
      "provenance": [],
      "authorship_tag": "ABX9TyP6xYDJT5ly6dDzPYfE0iKF",
      "include_colab_link": true
    },
    "kernelspec": {
      "name": "python3",
      "display_name": "Python 3"
    },
    "language_info": {
      "name": "python"
    }
  },
  "cells": [
    {
      "cell_type": "markdown",
      "metadata": {
        "id": "view-in-github",
        "colab_type": "text"
      },
      "source": [
        "<a href=\"https://colab.research.google.com/github/darstech/ML-Foundation/blob/main/notebooks/batch_regression_gradient.ipynb\" target=\"_parent\"><img src=\"https://colab.research.google.com/assets/colab-badge.svg\" alt=\"Open In Colab\"/></a>"
      ]
    },
    {
      "cell_type": "markdown",
      "source": [
        "Ref: [John Krohn Github](https://github.com/jonkrohn/ML-foundations/blob/master/notebooks/batch-regression-gradient.ipynb)"
      ],
      "metadata": {
        "id": "JV0b2iSmNqib"
      }
    },
    {
      "cell_type": "markdown",
      "source": [
        "# Gradient of Cost on a Batch of Data"
      ],
      "metadata": {
        "id": "5b0QgnoiNnSH"
      }
    },
    {
      "cell_type": "markdown",
      "source": [
        "In this notebook, we expand on the partial derivative calculus of the [*Single Point Regression Gradient* notebook](https://github.com/darstech/ML-Foundation/blob/main/notebooks/single_point_regression_gradient.ipynb) to: \n",
        "\n",
        "* Calculate the gradient of mean squared error on a batch of data\n",
        "* Visualize gradient descent in action"
      ],
      "metadata": {
        "id": "vlCOnV6nOUq8"
      }
    },
    {
      "cell_type": "code",
      "execution_count": 38,
      "metadata": {
        "id": "6v9B4IohNkEg"
      },
      "outputs": [],
      "source": [
        "import torch\n",
        "import matplotlib.pyplot as plt"
      ]
    },
    {
      "cell_type": "code",
      "source": [
        "xs = torch.tensor([0, 1, 2, 3, 4, 5, 6, 7.])\n",
        "ys = torch.tensor([1.86, 1.31, .62, .33, .09, -.67, -1.23, -1.37])"
      ],
      "metadata": {
        "id": "S7u87MY8N7TU"
      },
      "execution_count": 39,
      "outputs": []
    },
    {
      "cell_type": "code",
      "source": [
        "def regression(my_x, my_m, my_b):\n",
        "  return my_m*my_x + my_b"
      ],
      "metadata": {
        "id": "PB1O-41JaSPV"
      },
      "execution_count": 40,
      "outputs": []
    },
    {
      "cell_type": "code",
      "source": [
        "m = torch.tensor([0.9]).requires_grad_()\n",
        "b = torch.tensor([0.1]).requires_grad_()"
      ],
      "metadata": {
        "id": "p_CQIIpeaZzM"
      },
      "execution_count": 41,
      "outputs": []
    },
    {
      "cell_type": "markdown",
      "source": [
        "**Step 1**: Forward pass"
      ],
      "metadata": {
        "id": "a42ujHpYa759"
      }
    },
    {
      "cell_type": "code",
      "source": [
        "yhat = regression(xs, m, b)\n",
        "yhat"
      ],
      "metadata": {
        "colab": {
          "base_uri": "https://localhost:8080/"
        },
        "id": "Qf7rcN77anEe",
        "outputId": "7025ee87-da37-4d2b-bd06-cfdf8bae563e"
      },
      "execution_count": 42,
      "outputs": [
        {
          "output_type": "execute_result",
          "data": {
            "text/plain": [
              "tensor([0.1000, 1.0000, 1.9000, 2.8000, 3.7000, 4.6000, 5.5000, 6.4000],\n",
              "       grad_fn=<AddBackward0>)"
            ]
          },
          "metadata": {},
          "execution_count": 42
        }
      ]
    },
    {
      "cell_type": "markdown",
      "source": [
        "**Step 2**: Compare $\\hat{y}$ with true $y$ to calculate cost $C$"
      ],
      "metadata": {
        "id": "VVRSgN1Icq38"
      }
    },
    {
      "cell_type": "markdown",
      "source": [
        "As in the [*Regression in PyTorch* notebook](https://github.com/darstech/ML-Foundation/blob/main/notebooks/regression_in_pytorch.ipynb), let's use mean squared error, which averages quadratic cost across multiple data points: $$C = \\frac{1}{n} \\sum_{i=1}^n (\\hat{y_i}-y_i)^2 $$"
      ],
      "metadata": {
        "id": "a6opIoVzcymL"
      }
    },
    {
      "cell_type": "code",
      "source": [
        "def mse(my_yhat, my_y):\n",
        "  sigma = torch.sum((my_yhat - my_y)**2)\n",
        "  return sigma/len(my_y)"
      ],
      "metadata": {
        "id": "37fRy_ZrbDYg"
      },
      "execution_count": 43,
      "outputs": []
    },
    {
      "cell_type": "code",
      "source": [
        "C = mse(yhat, ys)\n",
        "C"
      ],
      "metadata": {
        "colab": {
          "base_uri": "https://localhost:8080/"
        },
        "id": "Mw-Jt_ZTdS49",
        "outputId": "f2b7c892-4458-447a-b057-6aca6207e4fb"
      },
      "execution_count": 44,
      "outputs": [
        {
          "output_type": "execute_result",
          "data": {
            "text/plain": [
              "tensor(19.6755, grad_fn=<DivBackward0>)"
            ]
          },
          "metadata": {},
          "execution_count": 44
        }
      ]
    },
    {
      "cell_type": "markdown",
      "source": [
        "**Step 3**: Use autodiff to calculate gradient of $C$ w.r.t. parameters"
      ],
      "metadata": {
        "id": "QYQhz3-ddmiP"
      }
    },
    {
      "cell_type": "code",
      "source": [
        "C.backward()"
      ],
      "metadata": {
        "id": "Ipz6Wd79dan8"
      },
      "execution_count": 45,
      "outputs": []
    },
    {
      "cell_type": "code",
      "source": [
        "m.grad"
      ],
      "metadata": {
        "colab": {
          "base_uri": "https://localhost:8080/"
        },
        "id": "CxO1_6YudsAp",
        "outputId": "670aa6fe-df59-43c1-e9be-eb4bee83903b"
      },
      "execution_count": 46,
      "outputs": [
        {
          "output_type": "execute_result",
          "data": {
            "text/plain": [
              "tensor([36.3050])"
            ]
          },
          "metadata": {},
          "execution_count": 46
        }
      ]
    },
    {
      "cell_type": "code",
      "source": [
        "b.grad"
      ],
      "metadata": {
        "colab": {
          "base_uri": "https://localhost:8080/"
        },
        "id": "uDzu1rV6dtBZ",
        "outputId": "f4a8fc08-02c3-4768-ef04-f13c8a926b3d"
      },
      "execution_count": 47,
      "outputs": [
        {
          "output_type": "execute_result",
          "data": {
            "text/plain": [
              "tensor([6.2650])"
            ]
          },
          "metadata": {},
          "execution_count": 47
        }
      ]
    },
    {
      "cell_type": "markdown",
      "source": [
        "**Manually derive $\\frac{\\partial C}{\\partial m}$ and $\\frac{\\partial C}{\\partial b}$.**"
      ],
      "metadata": {
        "id": "CQ5H5vA4la4n"
      }
    },
    {
      "cell_type": "markdown",
      "source": [
        "$$ \\frac{\\partial C}{\\partial m} = \\frac{2}{n} \\sum (\\hat{y}_i - y_i) \\cdot x_i $$"
      ],
      "metadata": {
        "id": "8-FB7NSslgnl"
      }
    },
    {
      "cell_type": "code",
      "source": [
        "2/len(ys)*torch.sum((yhat - ys)*xs)"
      ],
      "metadata": {
        "colab": {
          "base_uri": "https://localhost:8080/"
        },
        "id": "HF47_bH_dudz",
        "outputId": "48f95637-b175-433c-bf73-223fb36d2f47"
      },
      "execution_count": 48,
      "outputs": [
        {
          "output_type": "execute_result",
          "data": {
            "text/plain": [
              "tensor(36.3050, grad_fn=<MulBackward0>)"
            ]
          },
          "metadata": {},
          "execution_count": 48
        }
      ]
    },
    {
      "cell_type": "markdown",
      "source": [
        "$$ \\frac{\\partial C}{\\partial b} = \\frac{2}{n} \\sum (\\hat{y}_i - y_i) $$"
      ],
      "metadata": {
        "id": "HinxQd_GlzlV"
      }
    },
    {
      "cell_type": "code",
      "source": [
        "2/len(ys) * torch.sum( yhat - ys)"
      ],
      "metadata": {
        "id": "FP91Vb1llsrw",
        "outputId": "617f1d7b-8a4b-4006-ff26-b3f5330fd959",
        "colab": {
          "base_uri": "https://localhost:8080/"
        }
      },
      "execution_count": 49,
      "outputs": [
        {
          "output_type": "execute_result",
          "data": {
            "text/plain": [
              "tensor(6.2650, grad_fn=<MulBackward0>)"
            ]
          },
          "metadata": {},
          "execution_count": 49
        }
      ]
    },
    {
      "cell_type": "code",
      "source": [
        "gradients = torch.tensor([[b.grad.item(), m.grad.item()]]).T\n",
        "gradients"
      ],
      "metadata": {
        "id": "LaYznrlEl9Dw",
        "outputId": "35423848-48dd-4a6a-87cc-f1e7fd87cbe3",
        "colab": {
          "base_uri": "https://localhost:8080/"
        }
      },
      "execution_count": 50,
      "outputs": [
        {
          "output_type": "execute_result",
          "data": {
            "text/plain": [
              "tensor([[ 6.2650],\n",
              "        [36.3050]])"
            ]
          },
          "metadata": {},
          "execution_count": 50
        }
      ]
    },
    {
      "cell_type": "markdown",
      "source": [
        "Let's visualize the most pertinent metrics in a single plot: "
      ],
      "metadata": {
        "id": "pcuu2tt4nxaK"
      }
    },
    {
      "cell_type": "code",
      "source": [
        "def labelled_regression_plot(my_x, my_y, my_m, my_b, my_C, include_grad=True):\n",
        "  title = 'Cost = {}'.format('%.3g' % my_C.item())\n",
        "  if include_grad:\n",
        "    xlabel = 'm = {}, m grad = {}'.format('%.3g' % my_m.item(), '%.3g' % my_m.grad.item())\n",
        "    ylabel = 'b = {}, b grad {}'.format('%.3g' % my_b.item(), '%.3g' % my_b.grad.item())\n",
        "  else:\n",
        "    xlabel = 'm = {}'.format('%.3g' % my_m.item())\n",
        "    ylabel = 'b = {}'.format('%.3g' % b.item())\n",
        "\n",
        "  fix, ax = plt.subplots()\n",
        "\n",
        "  plt.title(title)\n",
        "  plt.xlabel(xlabel)\n",
        "  plt.ylabel(ylabel)\n",
        "\n",
        "  ax.scatter(my_x, my_y)\n",
        "\n",
        "  x_min, x_max = ax.get_xlim()\n",
        "  y_min = regression(x_min, my_m, my_b).detach().item()\n",
        "  y_max = regression(x_max, my_m, my_b).detach().item()\n",
        "\n",
        "  ax.set_xlim([x_min, x_max])\n",
        "  _ = plt.plot([x_min, x_max], [y_min, y_max], c='C01')"
      ],
      "metadata": {
        "id": "IFszug-snNcO"
      },
      "execution_count": 51,
      "outputs": []
    },
    {
      "cell_type": "code",
      "source": [
        "# With randomly initialized model parameters (m & b)\n",
        "labelled_regression_plot(xs, ys, m, b, C)"
      ],
      "metadata": {
        "id": "Ahyj8EY1qQTJ",
        "outputId": "2538581c-1a34-468d-d5fc-3a7ebfa39988",
        "colab": {
          "base_uri": "https://localhost:8080/",
          "height": 472
        }
      },
      "execution_count": 52,
      "outputs": [
        {
          "output_type": "display_data",
          "data": {
            "text/plain": [
              "<Figure size 640x480 with 1 Axes>"
            ],
            "image/png": "[encoded data removed]"
          },
          "metadata": {}
        }
      ]
    },
    {
      "cell_type": "markdown",
      "source": [
        "**Step 4**: Gradient descent"
      ],
      "metadata": {
        "id": "j4tvnVgrrxm6"
      }
    },
    {
      "cell_type": "markdown",
      "source": [
        "$\\frac{\\partial C}{\\partial m} = 36.3$ indicates that an increase in $m$ corresponds to a large increase in $C$. \n",
        "\n",
        "Meanwhile, $\\frac{\\partial C}{\\partial b} = 6.26$ indicates that an increase in $b$ also corresponds to an increase in $C$, though much less so than $m$.\n",
        "\n",
        "In the first round of training, the lowest hanging fruit with respect to reducing cost $C$ is therefore to decrease the slope of the regression line, $m$. There will also be a relatively small decrease in the $y$-intercept of the line, $b$. "
      ],
      "metadata": {
        "id": "sZMTbXD_rzvB"
      }
    },
    {
      "cell_type": "code",
      "source": [
        "# Initiaze optimizer\n",
        "optimzer = torch.optim.SGD([m, b], lr=0.01)"
      ],
      "metadata": {
        "id": "o_0UeNL_qUij"
      },
      "execution_count": 53,
      "outputs": []
    },
    {
      "cell_type": "code",
      "source": [
        "# Perform single optimization step (Performs gradient descent)\n",
        "optimzer.step()"
      ],
      "metadata": {
        "id": "ZaGKMdMYr9_J"
      },
      "execution_count": 54,
      "outputs": []
    },
    {
      "cell_type": "code",
      "source": [
        "# Step 1 & 2 (Forward pass + Calculation of Cost)\n",
        "C = mse(regression(xs, m, b), ys)"
      ],
      "metadata": {
        "id": "mrShw5G9sFLu"
      },
      "execution_count": 55,
      "outputs": []
    },
    {
      "cell_type": "code",
      "source": [
        "labelled_regression_plot(xs, ys, m, b, C, include_grad=False) # Gradient of C hasn't been recalculated"
      ],
      "metadata": {
        "id": "7zP0eQcmshWM",
        "outputId": "85787182-d24e-4b19-a84b-b8f874af9dd5",
        "colab": {
          "base_uri": "https://localhost:8080/",
          "height": 472
        }
      },
      "execution_count": 56,
      "outputs": [
        {
          "output_type": "display_data",
          "data": {
            "text/plain": [
              "<Figure size 640x480 with 1 Axes>"
            ],
            "image/png": "[encoded data removed]"
          },
          "metadata": {}
        }
      ]
    },
    {
      "cell_type": "markdown",
      "source": [
        "### Rinse and Repeat"
      ],
      "metadata": {
        "id": "MuswBgjkt22N"
      }
    },
    {
      "cell_type": "markdown",
      "source": [
        "Observe further rounds of training: "
      ],
      "metadata": {
        "id": "bZ6AdtU9t5Q1"
      }
    },
    {
      "cell_type": "code",
      "source": [
        "epochs = 8\n",
        "for epoch in range(epochs):\n",
        "\n",
        "  optimzer.zero_grad()  # Reset gradients to zero; else they accumulate\n",
        "\n",
        "  yhats = regression(xs, m, b)  # Step - 1\n",
        "  C = mse(yhats , ys)           # Step - 2\n",
        "\n",
        "  C. backward()                 # Step - 3\n",
        "\n",
        "  labelled_regression_plot(xs, ys, m, b, C)\n",
        "\n",
        "  optimzer.step()               # Step - 4"
      ],
      "metadata": {
        "id": "-28y1j_9spHQ"
      },
      "execution_count": 59,
      "outputs": []
    },
    {
      "cell_type": "code",
      "source": [
        "# At 1000 epochs\n",
        "#labelled_regression_plot(xs, ys, m, b, C)"
      ],
      "metadata": {
        "id": "ToHmxYtDwH5t",
        "outputId": "74c5927d-b721-4ad0-f727-b2527dd1a917",
        "colab": {
          "base_uri": "https://localhost:8080/",
          "height": 472
        }
      },
      "execution_count": 60,
      "outputs": [
        {
          "output_type": "display_data",
          "data": {
            "text/plain": [
              "<Figure size 640x480 with 1 Axes>"
            ],
            "image/png": "[encoded data removed]"
          },
          "metadata": {}
        }
      ]
    }
  ]
}