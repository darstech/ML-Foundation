{
  "nbformat": 4,
  "nbformat_minor": 0,
  "metadata": {
    "colab": {
      "provenance": [],
      "authorship_tag": "ABX9TyPE4yiZy0VQ+7o8s41fd2+5",
      "include_colab_link": true
    },
    "kernelspec": {
      "name": "python3",
      "display_name": "Python 3"
    },
    "language_info": {
      "name": "python"
    }
  },
  "cells": [
    {
      "cell_type": "markdown",
      "metadata": {
        "id": "view-in-github",
        "colab_type": "text"
      },
      "source": [
        "<a href=\"https://colab.research.google.com/github/darstech/ML-Foundation/blob/main/notebooks/batch_regression_gradient.ipynb\" target=\"_parent\"><img src=\"https://colab.research.google.com/assets/colab-badge.svg\" alt=\"Open In Colab\"/></a>"
      ]
    },
    {
      "cell_type": "markdown",
      "source": [
        "Ref: [John Krohn Github](https://github.com/jonkrohn/ML-foundations/blob/master/notebooks/batch-regression-gradient.ipynb)"
      ],
      "metadata": {
        "id": "JV0b2iSmNqib"
      }
    },
    {
      "cell_type": "markdown",
      "source": [
        "# Gradient of Cost on a Batch of Data"
      ],
      "metadata": {
        "id": "5b0QgnoiNnSH"
      }
    },
    {
      "cell_type": "markdown",
      "source": [
        "In this notebook, we expand on the partial derivative calculus of the [*Single Point Regression Gradient* notebook](https://github.com/darstech/ML-Foundation/blob/main/notebooks/single_point_regression_gradient.ipynb) to: \n",
        "\n",
        "* Calculate the gradient of mean squared error on a batch of data\n",
        "* Visualize gradient descent in action"
      ],
      "metadata": {
        "id": "vlCOnV6nOUq8"
      }
    },
    {
      "cell_type": "code",
      "execution_count": 1,
      "metadata": {
        "id": "6v9B4IohNkEg"
      },
      "outputs": [],
      "source": [
        "import torch\n",
        "import matplotlib.pyplot as plt"
      ]
    },
    {
      "cell_type": "code",
      "source": [
        "xs = torch.tensor([0, 1, 2, 3, 4, 5, 6, 7.])\n",
        "ys = torch.tensor([1.86, 1.31, .62, .33, .09, -.67, -1.23, -1.37])"
      ],
      "metadata": {
        "id": "S7u87MY8N7TU"
      },
      "execution_count": 2,
      "outputs": []
    },
    {
      "cell_type": "code",
      "source": [
        "def regression(my_x, my_m, my_b):\n",
        "  return my_m*my_x + my_b"
      ],
      "metadata": {
        "id": "PB1O-41JaSPV"
      },
      "execution_count": 4,
      "outputs": []
    },
    {
      "cell_type": "code",
      "source": [
        "m = torch.tensor([0.9]).requires_grad_()\n",
        "b = torch.tensor([0.1]).requires_grad_()"
      ],
      "metadata": {
        "id": "p_CQIIpeaZzM"
      },
      "execution_count": 6,
      "outputs": []
    },
    {
      "cell_type": "markdown",
      "source": [
        "**Step 1**: Forward pass"
      ],
      "metadata": {
        "id": "a42ujHpYa759"
      }
    },
    {
      "cell_type": "code",
      "source": [
        "yhat = regression(xs, m, b)\n",
        "yhat"
      ],
      "metadata": {
        "id": "Qf7rcN77anEe",
        "outputId": "7454cd19-c903-4df0-92c7-641c16751d7f",
        "colab": {
          "base_uri": "https://localhost:8080/"
        }
      },
      "execution_count": 9,
      "outputs": [
        {
          "output_type": "execute_result",
          "data": {
            "text/plain": [
              "tensor([0.1000, 1.0000, 1.9000, 2.8000, 3.7000, 4.6000, 5.5000, 6.4000],\n",
              "       grad_fn=<AddBackward0>)"
            ]
          },
          "metadata": {},
          "execution_count": 9
        }
      ]
    },
    {
      "cell_type": "markdown",
      "source": [
        "**Step 2**: Compare $\\hat{y}$ with true $y$ to calculate cost $C$"
      ],
      "metadata": {
        "id": "VVRSgN1Icq38"
      }
    },
    {
      "cell_type": "markdown",
      "source": [
        "As in the [*Regression in PyTorch* notebook](https://github.com/darstech/ML-Foundation/blob/main/notebooks/regression_in_pytorch.ipynb), let's use mean squared error, which averages quadratic cost across multiple data points: $$C = \\frac{1}{n} \\sum_{i=1}^n (\\hat{y_i}-y_i)^2 $$"
      ],
      "metadata": {
        "id": "a6opIoVzcymL"
      }
    },
    {
      "cell_type": "code",
      "source": [
        "def mse(my_yhat, my_y):\n",
        "  sigma = torch.sum((my_yhat - my_y)**2)\n",
        "  return sigma/len(my_y)"
      ],
      "metadata": {
        "id": "37fRy_ZrbDYg"
      },
      "execution_count": 10,
      "outputs": []
    },
    {
      "cell_type": "code",
      "source": [
        "C = mse(yhat, ys)\n",
        "C"
      ],
      "metadata": {
        "id": "Mw-Jt_ZTdS49",
        "outputId": "e22b39da-971c-4b10-f003-f1a179f4e70c",
        "colab": {
          "base_uri": "https://localhost:8080/"
        }
      },
      "execution_count": 11,
      "outputs": [
        {
          "output_type": "execute_result",
          "data": {
            "text/plain": [
              "tensor(19.6755, grad_fn=<DivBackward0>)"
            ]
          },
          "metadata": {},
          "execution_count": 11
        }
      ]
    },
    {
      "cell_type": "markdown",
      "source": [
        "**Step 3**: Use autodiff to calculate gradient of $C$ w.r.t. parameters"
      ],
      "metadata": {
        "id": "QYQhz3-ddmiP"
      }
    },
    {
      "cell_type": "code",
      "source": [
        "C.backward()"
      ],
      "metadata": {
        "id": "Ipz6Wd79dan8"
      },
      "execution_count": 12,
      "outputs": []
    },
    {
      "cell_type": "code",
      "source": [
        "m.grad"
      ],
      "metadata": {
        "id": "CxO1_6YudsAp",
        "outputId": "de479a41-c60f-4b4f-a17b-dcbb0cd157c6",
        "colab": {
          "base_uri": "https://localhost:8080/"
        }
      },
      "execution_count": 13,
      "outputs": [
        {
          "output_type": "execute_result",
          "data": {
            "text/plain": [
              "tensor([36.3050])"
            ]
          },
          "metadata": {},
          "execution_count": 13
        }
      ]
    },
    {
      "cell_type": "code",
      "source": [
        "b.grad"
      ],
      "metadata": {
        "id": "uDzu1rV6dtBZ",
        "outputId": "69e83f97-f38d-4b0c-d75f-5d2aad3b3d60",
        "colab": {
          "base_uri": "https://localhost:8080/"
        }
      },
      "execution_count": 14,
      "outputs": [
        {
          "output_type": "execute_result",
          "data": {
            "text/plain": [
              "tensor([6.2650])"
            ]
          },
          "metadata": {},
          "execution_count": 14
        }
      ]
    },
    {
      "cell_type": "code",
      "source": [],
      "metadata": {
        "id": "HF47_bH_dudz"
      },
      "execution_count": null,
      "outputs": []
    }
  ]
}