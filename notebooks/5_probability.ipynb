{
  "nbformat": 4,
  "nbformat_minor": 0,
  "metadata": {
    "colab": {
      "provenance": [],
      "authorship_tag": "ABX9TyPtvEA6i3TZxZNq/lJ0LdEq",
      "include_colab_link": true
    },
    "kernelspec": {
      "name": "python3",
      "display_name": "Python 3"
    },
    "language_info": {
      "name": "python"
    }
  },
  "cells": [
    {
      "cell_type": "markdown",
      "metadata": {
        "id": "view-in-github",
        "colab_type": "text"
      },
      "source": [
        "<a href=\"https://colab.research.google.com/github/darstech/ML-Foundation/blob/main/notebooks/5_probability.ipynb\" target=\"_parent\"><img src=\"https://colab.research.google.com/assets/colab-badge.svg\" alt=\"Open In Colab\"/></a>"
      ]
    },
    {
      "cell_type": "markdown",
      "source": [
        "Ref: [John Krohn Github](https://colab.research.google.com/github/jonkrohn/ML-foundations/blob/master/notebooks/5-probability.ipynb)"
      ],
      "metadata": {
        "id": "6fliECM_oCks"
      }
    },
    {
      "cell_type": "markdown",
      "source": [
        "# Probability & Information Theory"
      ],
      "metadata": {
        "id": "JiKwcMapnuFT"
      }
    },
    {
      "cell_type": "code",
      "execution_count": 1,
      "metadata": {
        "id": "Nk5cdH8DnsWC"
      },
      "outputs": [],
      "source": [
        "import numpy as np\n",
        "import scipy.stats as st\n",
        "import matplotlib.pyplot as plt\n",
        "import seaborn as sns"
      ]
    },
    {
      "cell_type": "markdown",
      "source": [
        "**Exercises**:\n",
        "\n",
        "1. What is the probability of drawing the ace of spades twice in a row? (Assume that any card drawn on the first draw will be put back in the deck before the second draw.)\n",
        "2. You draw a card from a deck of cards. After replacing the drawn card back in the deck and shuffling thoroughly, what is the probability of drawing the same card again? \n",
        "3. Use $n \\choose k$ to calculate the probability of throwing three heads in five coin tosses.\n",
        "4. Create a Python method that solves exercise 3 and incorporates the $n \\choose k$ formula $\\frac{n!}{k!(n - k)!}$. With the method in hand, calculate the probability of -- in five tosses -- throwing each of zero, one, two, three, four, and five heads."
      ],
      "metadata": {
        "id": "eHp9SEBE0dla"
      }
    },
    {
      "cell_type": "markdown",
      "source": [
        "1. $$ P(\\text{ace of spades}) \\times P(\\text{ace of spades}) = \\left(\\frac{1}{52}\\right)^2 = \\frac{1}{2704} = 0.00037 = 0.037\\% $$"
      ],
      "metadata": {
        "id": "Ypvq50MP1lD8"
      }
    },
    {
      "cell_type": "markdown",
      "source": [
        "2. $$ P(\\text{any card}) = \\frac{52}{52} = 1 $$\n",
        "$$ P(\\text{same card as first draw}) = \\frac{1}{52} \\approx 0.019 $$\n",
        "$$ P(\\text{any card})P(\\text{same card as first draw}) = (1)(\\frac{1}{52}) = \\frac{1}{52} \\approx 0.019$$"
      ],
      "metadata": {
        "id": "9En1fClv1nwW"
      }
    },
    {
      "cell_type": "markdown",
      "source": [
        "3. $$ {n \\choose k} = {5 \\choose 3} = \\frac{5!}{3!(5 - 3)!} = \\frac{5!}{(3!)(2!)} = \\frac{5 \\times 4 \\times 3 \\times 2 \\times 1}{(3 \\times 2 \\times 1)(2 \\times 1)} = \\frac{120}{(6)(2)} = \\frac{120}{12} = 10 $$"
      ],
      "metadata": {
        "id": "1GsEU-eb1qQq"
      }
    },
    {
      "cell_type": "markdown",
      "source": [
        "$$P = \\frac{10}{2^n} = \\frac{10}{2^5} = \\frac{10}{32} = 0.3125 $$"
      ],
      "metadata": {
        "id": "s4RKYyOi1s6O"
      }
    },
    {
      "cell_type": "code",
      "source": [
        "from math import factorial"
      ],
      "metadata": {
        "id": "m-Ub8XDbn5R1"
      },
      "execution_count": 2,
      "outputs": []
    },
    {
      "cell_type": "code",
      "source": [
        "def coinflip_prob(n, k):\n",
        "  n_choose_k = factorial(n)/(factorial(k)*factorial(n-k))\n",
        "  return n_choose_k/2**n"
      ],
      "metadata": {
        "id": "jztlPUAO12qP"
      },
      "execution_count": 3,
      "outputs": []
    },
    {
      "cell_type": "code",
      "source": [
        "coinflip_prob(5, 3)"
      ],
      "metadata": {
        "id": "TrYofeR82Kq0",
        "outputId": "79658d7f-2dd1-4ec4-cb56-e842a612f77f",
        "colab": {
          "base_uri": "https://localhost:8080/"
        }
      },
      "execution_count": 4,
      "outputs": [
        {
          "output_type": "execute_result",
          "data": {
            "text/plain": [
              "0.3125"
            ]
          },
          "metadata": {},
          "execution_count": 4
        }
      ]
    },
    {
      "cell_type": "code",
      "source": [
        "[coinflip_prob(5, h) for h in range(6)]"
      ],
      "metadata": {
        "id": "vbxo9Zkm2N8-",
        "outputId": "f3110aec-e4a3-4fe3-92a7-783c22620146",
        "colab": {
          "base_uri": "https://localhost:8080/"
        }
      },
      "execution_count": 5,
      "outputs": [
        {
          "output_type": "execute_result",
          "data": {
            "text/plain": [
              "[0.03125, 0.15625, 0.3125, 0.3125, 0.15625, 0.03125]"
            ]
          },
          "metadata": {},
          "execution_count": 5
        }
      ]
    },
    {
      "cell_type": "code",
      "source": [],
      "metadata": {
        "id": "oxKq80EL2fUV"
      },
      "execution_count": null,
      "outputs": []
    }
  ]
}