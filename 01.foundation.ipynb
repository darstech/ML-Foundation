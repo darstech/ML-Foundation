{
  "cells": [
    {
      "cell_type": "markdown",
      "source": [
        "#####Ref: https://github.com/jonkrohn/ML-foundations/blob/master/notebooks/1-intro-to-linear-algebra.ipynb"
      ],
      "metadata": {
        "id": "12B4THEZS_W7"
      }
    },
    {
      "cell_type": "code",
      "execution_count": 2,
      "metadata": {
        "id": "E4V2XHmTSggU"
      },
      "outputs": [],
      "source": [
        "import numpy as np\n",
        "import matplotlib.pyplot as plt\n"
      ]
    },
    {
      "cell_type": "code",
      "source": [
        "t = np.linspace(0, 40, 1000)  # start, finish, & points"
      ],
      "metadata": {
        "id": "nyfzSlADSvxq"
      },
      "execution_count": 3,
      "outputs": []
    },
    {
      "cell_type": "markdown",
      "source": [
        "Distance travelled by robber:d = 2.5t"
      ],
      "metadata": {
        "id": "7qf4PP9qTEbM"
      }
    },
    {
      "cell_type": "code",
      "source": [
        "d_r = 2.5 * t"
      ],
      "metadata": {
        "id": "br52Dow_S0pC"
      },
      "execution_count": 4,
      "outputs": []
    },
    {
      "cell_type": "markdown",
      "source": [
        "Distance travelled by sheriff:*d = 3(t-5)*"
      ],
      "metadata": {
        "id": "y3d8AANUTSOq"
      }
    },
    {
      "cell_type": "code",
      "source": [
        "d_s = 3 * (t - 5)"
      ],
      "metadata": {
        "id": "tRe3IMfNTeKz"
      },
      "execution_count": 5,
      "outputs": []
    },
    {
      "cell_type": "code",
      "source": [
        "# Visualize it\n",
        "fig, ax = plt.subplots()\n",
        "plt.title(\"A Bank Robber Caught\")\n",
        "plt.xlabel(\"Time (in minutes)\")\n",
        "plt.ylabel(\"Distance (in km)\")\n",
        "ax.set_xlim([0,40])\n",
        "ax.set_ylim([0,100])\n",
        "ax.plot(t, d_r, c=\"green\")\n",
        "ax.plot(t, d_s, c=\"brown\")\n",
        "plt.axvline(x=30, color=\"purple\", linestyle=\"--\")\n",
        "_ = plt.axhline(y=75, color=\"purple\", linestyle=\"--\")"
      ],
      "metadata": {
        "id": "l6S46bouTlYz",
        "outputId": "91f32a8e-b0de-4f96-eaa2-edb86c687ee6",
        "colab": {
          "base_uri": "https://localhost:8080/",
          "height": 0
        }
      },
      "execution_count": 6,
      "outputs": [
        {
          "output_type": "display_data",
          "data": {
            "text/plain": [
              "<Figure size 432x288 with 1 Axes>"
            ],
            "image/png": "[encoded data removed]"
          },
          "metadata": {
            "needs_background": "light"
          }
        }
      ]
    },
    {
      "cell_type": "markdown",
      "source": [
        "###Scalars (Rank 0 Tensors) in Base Python"
      ],
      "metadata": {
        "id": "IVJd16DCYfXQ"
      }
    },
    {
      "cell_type": "code",
      "source": [
        "x = 25\n",
        "x"
      ],
      "metadata": {
        "id": "kqDBlknWYhP8",
        "outputId": "ecafebcc-a348-4908-f920-4226962119fc",
        "colab": {
          "base_uri": "https://localhost:8080/"
        }
      },
      "execution_count": 7,
      "outputs": [
        {
          "output_type": "execute_result",
          "data": {
            "text/plain": [
              "25"
            ]
          },
          "metadata": {},
          "execution_count": 7
        }
      ]
    },
    {
      "cell_type": "code",
      "source": [
        "type(x)"
      ],
      "metadata": {
        "id": "zksUp_0TYkPD",
        "outputId": "4f3f365b-f1e8-427c-c784-7bb09f772202",
        "colab": {
          "base_uri": "https://localhost:8080/"
        }
      },
      "execution_count": 8,
      "outputs": [
        {
          "output_type": "execute_result",
          "data": {
            "text/plain": [
              "int"
            ]
          },
          "metadata": {},
          "execution_count": 8
        }
      ]
    },
    {
      "cell_type": "code",
      "source": [
        "y = 3"
      ],
      "metadata": {
        "id": "eTLzJIHtYp37"
      },
      "execution_count": 9,
      "outputs": []
    },
    {
      "cell_type": "code",
      "source": [
        "py_sum = x + y\n",
        "py_sum"
      ],
      "metadata": {
        "id": "cJ5_mQJkYroq",
        "outputId": "5f5a218e-1fe7-48b8-9039-f819e55d2bbd",
        "colab": {
          "base_uri": "https://localhost:8080/"
        }
      },
      "execution_count": 10,
      "outputs": [
        {
          "output_type": "execute_result",
          "data": {
            "text/plain": [
              "28"
            ]
          },
          "metadata": {},
          "execution_count": 10
        }
      ]
    },
    {
      "cell_type": "code",
      "source": [
        "type(py_sum)"
      ],
      "metadata": {
        "id": "eQtSn5kBYvKL",
        "outputId": "dc6fec8b-48c3-441e-bbac-7bb01f2f5860",
        "colab": {
          "base_uri": "https://localhost:8080/"
        }
      },
      "execution_count": 11,
      "outputs": [
        {
          "output_type": "execute_result",
          "data": {
            "text/plain": [
              "int"
            ]
          },
          "metadata": {},
          "execution_count": 11
        }
      ]
    },
    {
      "cell_type": "code",
      "source": [
        "x_float = 25.0\n",
        "float_sum = x_float + y\n",
        "float_sum"
      ],
      "metadata": {
        "id": "V8pZYCwsYviV",
        "outputId": "fbb90765-1045-4f0b-e8ce-e47e6c881243",
        "colab": {
          "base_uri": "https://localhost:8080/"
        }
      },
      "execution_count": 12,
      "outputs": [
        {
          "output_type": "execute_result",
          "data": {
            "text/plain": [
              "28.0"
            ]
          },
          "metadata": {},
          "execution_count": 12
        }
      ]
    },
    {
      "cell_type": "code",
      "source": [
        "type(float_sum)"
      ],
      "metadata": {
        "id": "QihsmQ-BYwQB",
        "outputId": "97251b45-933b-4fdc-faa0-183dbfc6f39d",
        "colab": {
          "base_uri": "https://localhost:8080/"
        }
      },
      "execution_count": 13,
      "outputs": [
        {
          "output_type": "execute_result",
          "data": {
            "text/plain": [
              "float"
            ]
          },
          "metadata": {},
          "execution_count": 13
        }
      ]
    },
    {
      "cell_type": "markdown",
      "source": [
        "####Scalars in PyTorch"
      ],
      "metadata": {
        "id": "3uzrQDjpY4EH"
      }
    },
    {
      "cell_type": "code",
      "source": [
        "import torch"
      ],
      "metadata": {
        "id": "w3wy0Ah6YwNG"
      },
      "execution_count": 14,
      "outputs": []
    },
    {
      "cell_type": "code",
      "source": [
        "x_pt = torch.tensor(25) # type specification is optional, e.g.: dtype=torch.float16\n",
        "x_pt"
      ],
      "metadata": {
        "id": "qLPO4LivYwJ1",
        "outputId": "9e885ea6-a4c4-4cdd-8800-28d6cb7ea29a",
        "colab": {
          "base_uri": "https://localhost:8080/"
        }
      },
      "execution_count": 15,
      "outputs": [
        {
          "output_type": "execute_result",
          "data": {
            "text/plain": [
              "tensor(25)"
            ]
          },
          "metadata": {},
          "execution_count": 15
        }
      ]
    },
    {
      "cell_type": "code",
      "source": [
        "x_pt.shape"
      ],
      "metadata": {
        "id": "lp2DNJkSYwFr",
        "outputId": "5e3f1e07-9738-443a-ec4c-1f4bbfd3b239",
        "colab": {
          "base_uri": "https://localhost:8080/"
        }
      },
      "execution_count": 16,
      "outputs": [
        {
          "output_type": "execute_result",
          "data": {
            "text/plain": [
              "torch.Size([])"
            ]
          },
          "metadata": {},
          "execution_count": 16
        }
      ]
    },
    {
      "cell_type": "markdown",
      "source": [
        "####Scalars in TensorFlow"
      ],
      "metadata": {
        "id": "EKXWZ18dZF2d"
      }
    },
    {
      "cell_type": "code",
      "source": [
        "import tensorflow as tf\n"
      ],
      "metadata": {
        "id": "Rgmd9h0FYv_R"
      },
      "execution_count": 17,
      "outputs": []
    },
    {
      "cell_type": "code",
      "source": [
        "x_tf = tf.Variable(25, dtype=tf.int16) # dtype is optional\n",
        "x_tf"
      ],
      "metadata": {
        "id": "GlMpKH8OYv2v",
        "outputId": "dcf82fb2-489f-42bf-e33c-a7c3c60aa6e4",
        "colab": {
          "base_uri": "https://localhost:8080/"
        }
      },
      "execution_count": 18,
      "outputs": [
        {
          "output_type": "execute_result",
          "data": {
            "text/plain": [
              "<tf.Variable 'Variable:0' shape=() dtype=int16, numpy=25>"
            ]
          },
          "metadata": {},
          "execution_count": 18
        }
      ]
    },
    {
      "cell_type": "code",
      "source": [
        "x_tf.shape"
      ],
      "metadata": {
        "id": "qkYhcW0pZSr1",
        "outputId": "706b3c92-facf-4d2a-b226-59c2438d43ca",
        "colab": {
          "base_uri": "https://localhost:8080/"
        }
      },
      "execution_count": 19,
      "outputs": [
        {
          "output_type": "execute_result",
          "data": {
            "text/plain": [
              "TensorShape([])"
            ]
          },
          "metadata": {},
          "execution_count": 19
        }
      ]
    },
    {
      "cell_type": "code",
      "source": [
        "y_tf = tf.Variable(3, dtype=tf.int16)"
      ],
      "metadata": {
        "id": "3CsJdYdJZSoV"
      },
      "execution_count": 20,
      "outputs": []
    },
    {
      "cell_type": "code",
      "source": [
        "x_tf + y_tf"
      ],
      "metadata": {
        "id": "UYyib9lFZSl7",
        "outputId": "6b0b3a46-7f0d-4527-a5b4-3f81911109bc",
        "colab": {
          "base_uri": "https://localhost:8080/"
        }
      },
      "execution_count": 21,
      "outputs": [
        {
          "output_type": "execute_result",
          "data": {
            "text/plain": [
              "<tf.Tensor: shape=(), dtype=int16, numpy=28>"
            ]
          },
          "metadata": {},
          "execution_count": 21
        }
      ]
    },
    {
      "cell_type": "code",
      "source": [
        "tf_sum = tf.add(x_tf, y_tf)\n",
        "tf_sum"
      ],
      "metadata": {
        "id": "kos9jGAtZSi-",
        "outputId": "6fbb70a5-a56a-47d2-b00c-4b472eb4e0fb",
        "colab": {
          "base_uri": "https://localhost:8080/"
        }
      },
      "execution_count": 22,
      "outputs": [
        {
          "output_type": "execute_result",
          "data": {
            "text/plain": [
              "<tf.Tensor: shape=(), dtype=int16, numpy=28>"
            ]
          },
          "metadata": {},
          "execution_count": 22
        }
      ]
    },
    {
      "cell_type": "code",
      "source": [
        "tf_sum.numpy() # note that NumPy operations automatically convert tensors to NumPy arrays, and vice versa"
      ],
      "metadata": {
        "id": "VsnkPRKMZSga",
        "outputId": "7595e487-84c6-4ea9-d524-6fd87ba8e6c6",
        "colab": {
          "base_uri": "https://localhost:8080/"
        }
      },
      "execution_count": 23,
      "outputs": [
        {
          "output_type": "execute_result",
          "data": {
            "text/plain": [
              "28"
            ]
          },
          "metadata": {},
          "execution_count": 23
        }
      ]
    },
    {
      "cell_type": "code",
      "source": [
        "type(tf_sum.numpy())"
      ],
      "metadata": {
        "id": "yyq7cncVZSdz",
        "outputId": "387195ec-17ae-48ba-8b9b-9ddfbd32b509",
        "colab": {
          "base_uri": "https://localhost:8080/"
        }
      },
      "execution_count": 24,
      "outputs": [
        {
          "output_type": "execute_result",
          "data": {
            "text/plain": [
              "numpy.int16"
            ]
          },
          "metadata": {},
          "execution_count": 24
        }
      ]
    },
    {
      "cell_type": "code",
      "source": [
        "tf_float = tf.Variable(25., dtype=tf.float16)\n",
        "tf_float"
      ],
      "metadata": {
        "id": "Bl11pRAqZSau",
        "outputId": "3a87448d-a720-423a-b898-ef131cb17805",
        "colab": {
          "base_uri": "https://localhost:8080/"
        }
      },
      "execution_count": 25,
      "outputs": [
        {
          "output_type": "execute_result",
          "data": {
            "text/plain": [
              "<tf.Variable 'Variable:0' shape=() dtype=float16, numpy=25.0>"
            ]
          },
          "metadata": {},
          "execution_count": 25
        }
      ]
    },
    {
      "cell_type": "markdown",
      "source": [
        "###Vectors (Rank 1 Tensors) in NumPy"
      ],
      "metadata": {
        "id": "1kUUErYbZm5p"
      }
    },
    {
      "cell_type": "code",
      "source": [
        "x = np.array([25, 2, 5]) # type argument is optional, e.g.: dtype=np.float16\n",
        "x"
      ],
      "metadata": {
        "id": "kbukC1lmZSYJ",
        "outputId": "c2157f19-879e-4759-e573-9c04bb357ac9",
        "colab": {
          "base_uri": "https://localhost:8080/"
        }
      },
      "execution_count": 26,
      "outputs": [
        {
          "output_type": "execute_result",
          "data": {
            "text/plain": [
              "array([25,  2,  5])"
            ]
          },
          "metadata": {},
          "execution_count": 26
        }
      ]
    },
    {
      "cell_type": "code",
      "source": [
        "len(x)"
      ],
      "metadata": {
        "id": "3TslRlvNZSVT",
        "outputId": "462234f3-9e44-4749-c54b-1234cfd52dd2",
        "colab": {
          "base_uri": "https://localhost:8080/"
        }
      },
      "execution_count": 27,
      "outputs": [
        {
          "output_type": "execute_result",
          "data": {
            "text/plain": [
              "3"
            ]
          },
          "metadata": {},
          "execution_count": 27
        }
      ]
    },
    {
      "cell_type": "code",
      "source": [
        "x.shape"
      ],
      "metadata": {
        "id": "wNpkdPrmZSSi",
        "outputId": "9ecb0ca1-31c4-4979-d3fd-6407a372dd1f",
        "colab": {
          "base_uri": "https://localhost:8080/"
        }
      },
      "execution_count": 28,
      "outputs": [
        {
          "output_type": "execute_result",
          "data": {
            "text/plain": [
              "(3,)"
            ]
          },
          "metadata": {},
          "execution_count": 28
        }
      ]
    },
    {
      "cell_type": "code",
      "source": [
        "type(x)"
      ],
      "metadata": {
        "id": "_jpUqExaZSPl",
        "outputId": "ada148b0-db07-4c48-88df-6482171b9938",
        "colab": {
          "base_uri": "https://localhost:8080/"
        }
      },
      "execution_count": 29,
      "outputs": [
        {
          "output_type": "execute_result",
          "data": {
            "text/plain": [
              "numpy.ndarray"
            ]
          },
          "metadata": {},
          "execution_count": 29
        }
      ]
    },
    {
      "cell_type": "code",
      "source": [
        "x.ndim"
      ],
      "metadata": {
        "id": "KMB_7KplZSMX",
        "outputId": "bfcb9b57-1cee-4da1-e3ed-fd8bd9caf1f7",
        "colab": {
          "base_uri": "https://localhost:8080/"
        }
      },
      "execution_count": 30,
      "outputs": [
        {
          "output_type": "execute_result",
          "data": {
            "text/plain": [
              "1"
            ]
          },
          "metadata": {},
          "execution_count": 30
        }
      ]
    },
    {
      "cell_type": "code",
      "source": [
        "x[0] # zero-indexed"
      ],
      "metadata": {
        "id": "CfpovbUOZ5Fn",
        "outputId": "ec5edf3a-9771-475a-8d13-55b8d2ed4b6d",
        "colab": {
          "base_uri": "https://localhost:8080/"
        }
      },
      "execution_count": 31,
      "outputs": [
        {
          "output_type": "execute_result",
          "data": {
            "text/plain": [
              "25"
            ]
          },
          "metadata": {},
          "execution_count": 31
        }
      ]
    },
    {
      "cell_type": "code",
      "source": [
        "type(x[0])"
      ],
      "metadata": {
        "id": "ZM0i1EaJZ5CJ",
        "outputId": "a1926b5b-2d04-47de-8618-76b801911a01",
        "colab": {
          "base_uri": "https://localhost:8080/"
        }
      },
      "execution_count": 32,
      "outputs": [
        {
          "output_type": "execute_result",
          "data": {
            "text/plain": [
              "numpy.int64"
            ]
          },
          "metadata": {},
          "execution_count": 32
        }
      ]
    },
    {
      "cell_type": "markdown",
      "source": [
        "####Vector Transposition"
      ],
      "metadata": {
        "id": "tiinEtoBZ-eP"
      }
    },
    {
      "cell_type": "code",
      "source": [
        "# Transposing a regular 1-D array has no effect...\n",
        "x_t = x.T\n",
        "x_t"
      ],
      "metadata": {
        "id": "4GrB0DfvZ4_L",
        "outputId": "bfa3f5b4-9d13-4cb7-d67f-41c5dd71a5ae",
        "colab": {
          "base_uri": "https://localhost:8080/"
        }
      },
      "execution_count": 33,
      "outputs": [
        {
          "output_type": "execute_result",
          "data": {
            "text/plain": [
              "array([25,  2,  5])"
            ]
          },
          "metadata": {},
          "execution_count": 33
        }
      ]
    },
    {
      "cell_type": "code",
      "source": [
        "x_t.shape"
      ],
      "metadata": {
        "id": "Cih-yl2TZ489",
        "outputId": "ffd705d3-15d8-4c12-df3d-73f969f53497",
        "colab": {
          "base_uri": "https://localhost:8080/"
        }
      },
      "execution_count": 34,
      "outputs": [
        {
          "output_type": "execute_result",
          "data": {
            "text/plain": [
              "(3,)"
            ]
          },
          "metadata": {},
          "execution_count": 34
        }
      ]
    },
    {
      "cell_type": "code",
      "source": [
        "# but it does when we use nested \"matrix-style\" brackets: \n",
        "y = np.array([[25, 2, 5]])\n",
        "y"
      ],
      "metadata": {
        "id": "yAESjj0EZ456",
        "outputId": "359f955c-6bbb-40b9-d290-1417bf400bed",
        "colab": {
          "base_uri": "https://localhost:8080/"
        }
      },
      "execution_count": 35,
      "outputs": [
        {
          "output_type": "execute_result",
          "data": {
            "text/plain": [
              "array([[25,  2,  5]])"
            ]
          },
          "metadata": {},
          "execution_count": 35
        }
      ]
    },
    {
      "cell_type": "code",
      "source": [
        "y.shape"
      ],
      "metadata": {
        "id": "o9lAIhOOZ43K",
        "outputId": "3b5e4824-03c2-46ed-f366-eebe898b7ada",
        "colab": {
          "base_uri": "https://localhost:8080/"
        }
      },
      "execution_count": 36,
      "outputs": [
        {
          "output_type": "execute_result",
          "data": {
            "text/plain": [
              "(1, 3)"
            ]
          },
          "metadata": {},
          "execution_count": 36
        }
      ]
    },
    {
      "cell_type": "code",
      "source": [
        "y_t = y.T\n",
        "y_t"
      ],
      "metadata": {
        "id": "4J4-okFUZ400",
        "outputId": "50f188e1-21fc-4e31-8553-da48ef80775b",
        "colab": {
          "base_uri": "https://localhost:8080/"
        }
      },
      "execution_count": 37,
      "outputs": [
        {
          "output_type": "execute_result",
          "data": {
            "text/plain": [
              "array([[25],\n",
              "       [ 2],\n",
              "       [ 5]])"
            ]
          },
          "metadata": {},
          "execution_count": 37
        }
      ]
    },
    {
      "cell_type": "code",
      "source": [
        "y_t.shape # this is a column vector as it has 3 rows and 1 column"
      ],
      "metadata": {
        "id": "YlvO7MPxZ4x4",
        "outputId": "909c7560-7726-49ee-e20d-f11ce0a508f1",
        "colab": {
          "base_uri": "https://localhost:8080/"
        }
      },
      "execution_count": 38,
      "outputs": [
        {
          "output_type": "execute_result",
          "data": {
            "text/plain": [
              "(3, 1)"
            ]
          },
          "metadata": {},
          "execution_count": 38
        }
      ]
    },
    {
      "cell_type": "code",
      "source": [
        "# Column vector can be transposed back to original row vector: \n",
        "y_t.T "
      ],
      "metadata": {
        "id": "S3V0iRUOZ4vJ",
        "outputId": "e1e88b36-d5eb-4c37-edce-17f7e9f413b1",
        "colab": {
          "base_uri": "https://localhost:8080/"
        }
      },
      "execution_count": 39,
      "outputs": [
        {
          "output_type": "execute_result",
          "data": {
            "text/plain": [
              "array([[25,  2,  5]])"
            ]
          },
          "metadata": {},
          "execution_count": 39
        }
      ]
    },
    {
      "cell_type": "code",
      "source": [
        "y_t.T.shape"
      ],
      "metadata": {
        "id": "-NIJFKigZ4en",
        "outputId": "4d6fd6ff-3f32-4d6f-ed6a-c99511b66930",
        "colab": {
          "base_uri": "https://localhost:8080/"
        }
      },
      "execution_count": 40,
      "outputs": [
        {
          "output_type": "execute_result",
          "data": {
            "text/plain": [
              "(1, 3)"
            ]
          },
          "metadata": {},
          "execution_count": 40
        }
      ]
    },
    {
      "cell_type": "markdown",
      "source": [
        "####Zero Vectors\n",
        "#####Have no effect if added to another vector"
      ],
      "metadata": {
        "id": "_SuAQqp7aoae"
      }
    },
    {
      "cell_type": "code",
      "source": [
        "z = np.zeros(3) \n",
        "z"
      ],
      "metadata": {
        "id": "wXNu9q7Yamp-",
        "outputId": "856340f7-9889-4b61-f720-6112102eeb5a",
        "colab": {
          "base_uri": "https://localhost:8080/"
        }
      },
      "execution_count": 41,
      "outputs": [
        {
          "output_type": "execute_result",
          "data": {
            "text/plain": [
              "array([0., 0., 0.])"
            ]
          },
          "metadata": {},
          "execution_count": 41
        }
      ]
    },
    {
      "cell_type": "markdown",
      "source": [
        "####Vectors in PyTorch and TensorFlow"
      ],
      "metadata": {
        "id": "Y-nPbc_QaxGc"
      }
    },
    {
      "cell_type": "code",
      "source": [
        "x_pt = torch.tensor([25, 2, 5])\n",
        "x_pt"
      ],
      "metadata": {
        "id": "KEW2DzOmamm5",
        "outputId": "920f604f-75df-429d-add2-eb1390e9f30b",
        "colab": {
          "base_uri": "https://localhost:8080/"
        }
      },
      "execution_count": 42,
      "outputs": [
        {
          "output_type": "execute_result",
          "data": {
            "text/plain": [
              "tensor([25,  2,  5])"
            ]
          },
          "metadata": {},
          "execution_count": 42
        }
      ]
    },
    {
      "cell_type": "code",
      "source": [
        "x_tf = tf.Variable([25, 2, 5])\n",
        "x_tf"
      ],
      "metadata": {
        "id": "JrHa9wjeamj-",
        "outputId": "0e9dd901-a70d-43c3-cf13-86c4b6e4cf91",
        "colab": {
          "base_uri": "https://localhost:8080/"
        }
      },
      "execution_count": 43,
      "outputs": [
        {
          "output_type": "execute_result",
          "data": {
            "text/plain": [
              "<tf.Variable 'Variable:0' shape=(3,) dtype=int32, numpy=array([25,  2,  5], dtype=int32)>"
            ]
          },
          "metadata": {},
          "execution_count": 43
        }
      ]
    },
    {
      "cell_type": "markdown",
      "source": [
        "### L2 Norm"
      ],
      "metadata": {
        "id": "eej5vN4Aa-SP"
      }
    },
    {
      "cell_type": "code",
      "source": [
        "x"
      ],
      "metadata": {
        "id": "Q1vT-ST5amg4",
        "outputId": "2b776851-feed-481a-c58b-c2f39531670a",
        "colab": {
          "base_uri": "https://localhost:8080/"
        }
      },
      "execution_count": 44,
      "outputs": [
        {
          "output_type": "execute_result",
          "data": {
            "text/plain": [
              "array([25,  2,  5])"
            ]
          },
          "metadata": {},
          "execution_count": 44
        }
      ]
    },
    {
      "cell_type": "code",
      "source": [
        "(25**2 + 2**2 + 5**2)**(1/2)"
      ],
      "metadata": {
        "id": "T52eJiW-amd1",
        "outputId": "98aebe10-fbe7-4518-e6d9-478235ee53a6",
        "colab": {
          "base_uri": "https://localhost:8080/"
        }
      },
      "execution_count": 45,
      "outputs": [
        {
          "output_type": "execute_result",
          "data": {
            "text/plain": [
              "25.573423705088842"
            ]
          },
          "metadata": {},
          "execution_count": 45
        }
      ]
    },
    {
      "cell_type": "code",
      "source": [
        "np.linalg.norm(x)"
      ],
      "metadata": {
        "id": "8dpzBnpUamay",
        "outputId": "eda619fb-1a38-4ee6-b94d-aef33233e2ac",
        "colab": {
          "base_uri": "https://localhost:8080/"
        }
      },
      "execution_count": 46,
      "outputs": [
        {
          "output_type": "execute_result",
          "data": {
            "text/plain": [
              "25.573423705088842"
            ]
          },
          "metadata": {},
          "execution_count": 46
        }
      ]
    },
    {
      "cell_type": "markdown",
      "source": [
        "#####So, if units in this 3-dimensional vector space are meters, then the vector \n",
        " has a length of 25.6m"
      ],
      "metadata": {
        "id": "aTSD_PDebKNQ"
      }
    },
    {
      "cell_type": "markdown",
      "source": [
        "###L1 Norm"
      ],
      "metadata": {
        "id": "ry8CPvx2bN2O"
      }
    },
    {
      "cell_type": "code",
      "source": [
        "x"
      ],
      "metadata": {
        "id": "eXx9y8RiamXc",
        "outputId": "b2e44e2a-b4c9-4f2a-ab34-28aa6d0f12da",
        "colab": {
          "base_uri": "https://localhost:8080/"
        }
      },
      "execution_count": 47,
      "outputs": [
        {
          "output_type": "execute_result",
          "data": {
            "text/plain": [
              "array([25,  2,  5])"
            ]
          },
          "metadata": {},
          "execution_count": 47
        }
      ]
    },
    {
      "cell_type": "code",
      "source": [
        "(25**2 + 2**2 + 5**2)"
      ],
      "metadata": {
        "id": "lTfDMFwzamNg",
        "outputId": "47ce9fbd-467a-4e1d-9c05-3c31363e4b90",
        "colab": {
          "base_uri": "https://localhost:8080/"
        }
      },
      "execution_count": 48,
      "outputs": [
        {
          "output_type": "execute_result",
          "data": {
            "text/plain": [
              "654"
            ]
          },
          "metadata": {},
          "execution_count": 48
        }
      ]
    },
    {
      "cell_type": "code",
      "source": [
        "np.dot(x, x)"
      ],
      "metadata": {
        "id": "vFvuH_4dZR81",
        "outputId": "93a20eea-b783-46d7-ceb4-49f1873ec455",
        "colab": {
          "base_uri": "https://localhost:8080/"
        }
      },
      "execution_count": 49,
      "outputs": [
        {
          "output_type": "execute_result",
          "data": {
            "text/plain": [
              "654"
            ]
          },
          "metadata": {},
          "execution_count": 49
        }
      ]
    },
    {
      "cell_type": "markdown",
      "source": [
        "###Max Norm"
      ],
      "metadata": {
        "id": "kR6PbUiXbwIO"
      }
    },
    {
      "cell_type": "code",
      "source": [
        "x"
      ],
      "metadata": {
        "id": "PfTtwN0Ibufh",
        "outputId": "7418262d-44df-40c4-fc31-77f5b6322e74",
        "colab": {
          "base_uri": "https://localhost:8080/"
        }
      },
      "execution_count": 50,
      "outputs": [
        {
          "output_type": "execute_result",
          "data": {
            "text/plain": [
              "array([25,  2,  5])"
            ]
          },
          "metadata": {},
          "execution_count": 50
        }
      ]
    },
    {
      "cell_type": "code",
      "source": [
        "np.max([np.abs(25), np.abs(2), np.abs(5)])"
      ],
      "metadata": {
        "id": "5dLsYujPbuZV",
        "outputId": "c1ec4eb9-b5a0-4933-9aa7-f7540d2c9ba5",
        "colab": {
          "base_uri": "https://localhost:8080/"
        }
      },
      "execution_count": 51,
      "outputs": [
        {
          "output_type": "execute_result",
          "data": {
            "text/plain": [
              "25"
            ]
          },
          "metadata": {},
          "execution_count": 51
        }
      ]
    },
    {
      "cell_type": "markdown",
      "source": [
        "###Orthogonal Vectors"
      ],
      "metadata": {
        "id": "hpR9ho7ob5zJ"
      }
    },
    {
      "cell_type": "code",
      "source": [
        "i = np.array([1, 0])\n",
        "i"
      ],
      "metadata": {
        "id": "fbcp3WYIb5c-",
        "outputId": "4d34cf77-f7c4-40fc-9b1e-23ea7ae8b6c7",
        "colab": {
          "base_uri": "https://localhost:8080/"
        }
      },
      "execution_count": 52,
      "outputs": [
        {
          "output_type": "execute_result",
          "data": {
            "text/plain": [
              "array([1, 0])"
            ]
          },
          "metadata": {},
          "execution_count": 52
        }
      ]
    },
    {
      "cell_type": "code",
      "source": [
        "j = np.array([0, 1])\n",
        "j"
      ],
      "metadata": {
        "id": "LOSAE1IRb5ZF",
        "outputId": "bbd29cde-4c15-4841-cb75-eb5ca70d21f6",
        "colab": {
          "base_uri": "https://localhost:8080/"
        }
      },
      "execution_count": 53,
      "outputs": [
        {
          "output_type": "execute_result",
          "data": {
            "text/plain": [
              "array([0, 1])"
            ]
          },
          "metadata": {},
          "execution_count": 53
        }
      ]
    },
    {
      "cell_type": "code",
      "source": [
        "np.dot(i, j)"
      ],
      "metadata": {
        "id": "VNovXluXb5Vn",
        "outputId": "f583e817-3a86-4ceb-d9a7-a0cb7040875c",
        "colab": {
          "base_uri": "https://localhost:8080/"
        }
      },
      "execution_count": 54,
      "outputs": [
        {
          "output_type": "execute_result",
          "data": {
            "text/plain": [
              "0"
            ]
          },
          "metadata": {},
          "execution_count": 54
        }
      ]
    },
    {
      "cell_type": "markdown",
      "source": [
        "###Matrices (Rank 2 Tensors) in NumPy"
      ],
      "metadata": {
        "id": "hfGeGO6idK1f"
      }
    },
    {
      "cell_type": "code",
      "source": [
        "X = np.array([[25, 2],\n",
        "              [5, 26],\n",
        "              [3, 7]])\n",
        "X"
      ],
      "metadata": {
        "id": "1_djS7bCdM7y",
        "outputId": "fe35eb85-d6df-4d20-f76d-e2942c9db9b0",
        "colab": {
          "base_uri": "https://localhost:8080/"
        }
      },
      "execution_count": 55,
      "outputs": [
        {
          "output_type": "execute_result",
          "data": {
            "text/plain": [
              "array([[25,  2],\n",
              "       [ 5, 26],\n",
              "       [ 3,  7]])"
            ]
          },
          "metadata": {},
          "execution_count": 55
        }
      ]
    },
    {
      "cell_type": "code",
      "source": [
        "X.shape"
      ],
      "metadata": {
        "id": "7hHtAyyMdM4G",
        "outputId": "ffd3af0a-0aa2-41c3-abdb-ab9d52587ffa",
        "colab": {
          "base_uri": "https://localhost:8080/"
        }
      },
      "execution_count": 56,
      "outputs": [
        {
          "output_type": "execute_result",
          "data": {
            "text/plain": [
              "(3, 2)"
            ]
          },
          "metadata": {},
          "execution_count": 56
        }
      ]
    },
    {
      "cell_type": "code",
      "source": [
        "X.size"
      ],
      "metadata": {
        "id": "MSMuLBwNdM1A",
        "outputId": "8dd246d1-3a99-4c30-b076-a04d061c6d17",
        "colab": {
          "base_uri": "https://localhost:8080/"
        }
      },
      "execution_count": 57,
      "outputs": [
        {
          "output_type": "execute_result",
          "data": {
            "text/plain": [
              "6"
            ]
          },
          "metadata": {},
          "execution_count": 57
        }
      ]
    },
    {
      "cell_type": "code",
      "source": [
        "# Select left column of matrix X (zero-indexed)\n",
        "X[:, 0]"
      ],
      "metadata": {
        "id": "VA6OGmLodMw5",
        "outputId": "d99ed8dd-b628-42de-c0d8-7f31534eecfd",
        "colab": {
          "base_uri": "https://localhost:8080/"
        }
      },
      "execution_count": 58,
      "outputs": [
        {
          "output_type": "execute_result",
          "data": {
            "text/plain": [
              "array([25,  5,  3])"
            ]
          },
          "metadata": {},
          "execution_count": 58
        }
      ]
    },
    {
      "cell_type": "code",
      "source": [
        "# Select middle row of matrix X: \n",
        "X[1, :]"
      ],
      "metadata": {
        "id": "g9LTK9XEbuWB",
        "outputId": "ccf83bd4-5d05-4407-b77f-a21686dc55f9",
        "colab": {
          "base_uri": "https://localhost:8080/"
        }
      },
      "execution_count": 59,
      "outputs": [
        {
          "output_type": "execute_result",
          "data": {
            "text/plain": [
              "array([ 5, 26])"
            ]
          },
          "metadata": {},
          "execution_count": 59
        }
      ]
    },
    {
      "cell_type": "code",
      "source": [
        "# Another slicing-by-index example: \n",
        "X[0:2, 0:2]"
      ],
      "metadata": {
        "colab": {
          "base_uri": "https://localhost:8080/"
        },
        "id": "xiRMBdnAZltR",
        "outputId": "4c7a4432-217c-40b7-a8fe-803467dce5b0"
      },
      "execution_count": 60,
      "outputs": [
        {
          "output_type": "execute_result",
          "data": {
            "text/plain": [
              "array([[25,  2],\n",
              "       [ 5, 26]])"
            ]
          },
          "metadata": {},
          "execution_count": 60
        }
      ]
    },
    {
      "cell_type": "markdown",
      "source": [
        "###Matrices in PyTorch"
      ],
      "metadata": {
        "id": "Hfpi1fExaL-d"
      }
    },
    {
      "cell_type": "code",
      "source": [
        "X_pt = torch.tensor([[25, 2],\n",
        "                     [5, 26],\n",
        "                     [3, 7]])\n",
        "X_pt"
      ],
      "metadata": {
        "colab": {
          "base_uri": "https://localhost:8080/"
        },
        "id": "ww_ZXN2iZlo_",
        "outputId": "cce40d75-5e04-4b43-fde9-e99814a1f2df"
      },
      "execution_count": 61,
      "outputs": [
        {
          "output_type": "execute_result",
          "data": {
            "text/plain": [
              "tensor([[25,  2],\n",
              "        [ 5, 26],\n",
              "        [ 3,  7]])"
            ]
          },
          "metadata": {},
          "execution_count": 61
        }
      ]
    },
    {
      "cell_type": "code",
      "source": [
        "X_pt.shape"
      ],
      "metadata": {
        "colab": {
          "base_uri": "https://localhost:8080/"
        },
        "id": "jfzW_0lHZll3",
        "outputId": "f0d48f01-f079-431c-b06f-75b0d022b7a1"
      },
      "execution_count": 62,
      "outputs": [
        {
          "output_type": "execute_result",
          "data": {
            "text/plain": [
              "torch.Size([3, 2])"
            ]
          },
          "metadata": {},
          "execution_count": 62
        }
      ]
    },
    {
      "cell_type": "code",
      "source": [
        "X_pt[1,:]"
      ],
      "metadata": {
        "colab": {
          "base_uri": "https://localhost:8080/"
        },
        "id": "IHJ0tik_Zljg",
        "outputId": "024cf7dd-d252-4862-f4ad-a6cf800149cd"
      },
      "execution_count": 63,
      "outputs": [
        {
          "output_type": "execute_result",
          "data": {
            "text/plain": [
              "tensor([ 5, 26])"
            ]
          },
          "metadata": {},
          "execution_count": 63
        }
      ]
    },
    {
      "cell_type": "markdown",
      "source": [
        "###Matrices in TensorFlow"
      ],
      "metadata": {
        "id": "N5mcaRgaakqU"
      }
    },
    {
      "cell_type": "code",
      "source": [
        "X_tf = tf.Variable([[25, 2], \n",
        "                    [5, 26], \n",
        "                    [3, 7]])\n",
        "X_tf"
      ],
      "metadata": {
        "colab": {
          "base_uri": "https://localhost:8080/"
        },
        "id": "0eLo2m9rZlgz",
        "outputId": "63cc9371-7ff7-48c1-8509-0cf539c87455"
      },
      "execution_count": 64,
      "outputs": [
        {
          "output_type": "execute_result",
          "data": {
            "text/plain": [
              "<tf.Variable 'Variable:0' shape=(3, 2) dtype=int32, numpy=\n",
              "array([[25,  2],\n",
              "       [ 5, 26],\n",
              "       [ 3,  7]], dtype=int32)>"
            ]
          },
          "metadata": {},
          "execution_count": 64
        }
      ]
    },
    {
      "cell_type": "code",
      "source": [
        "tf.rank(X_tf)"
      ],
      "metadata": {
        "colab": {
          "base_uri": "https://localhost:8080/"
        },
        "id": "t74gFX2iZldq",
        "outputId": "70d135ed-6b11-4cc1-be9c-baea365a7d69"
      },
      "execution_count": 65,
      "outputs": [
        {
          "output_type": "execute_result",
          "data": {
            "text/plain": [
              "<tf.Tensor: shape=(), dtype=int32, numpy=2>"
            ]
          },
          "metadata": {},
          "execution_count": 65
        }
      ]
    },
    {
      "cell_type": "code",
      "source": [
        "tf.shape(X_tf)"
      ],
      "metadata": {
        "id": "plLZvM5xbuS0",
        "colab": {
          "base_uri": "https://localhost:8080/"
        },
        "outputId": "af803f89-ca25-4496-c900-e94aafe404b2"
      },
      "execution_count": 66,
      "outputs": [
        {
          "output_type": "execute_result",
          "data": {
            "text/plain": [
              "<tf.Tensor: shape=(2,), dtype=int32, numpy=array([3, 2], dtype=int32)>"
            ]
          },
          "metadata": {},
          "execution_count": 66
        }
      ]
    },
    {
      "cell_type": "code",
      "source": [
        "X_tf[1, :]"
      ],
      "metadata": {
        "colab": {
          "base_uri": "https://localhost:8080/"
        },
        "id": "sR3vQ1oabAn9",
        "outputId": "485a9db8-1dfb-4be9-8c77-fca9cf257a53"
      },
      "execution_count": 67,
      "outputs": [
        {
          "output_type": "execute_result",
          "data": {
            "text/plain": [
              "<tf.Tensor: shape=(2,), dtype=int32, numpy=array([ 5, 26], dtype=int32)>"
            ]
          },
          "metadata": {},
          "execution_count": 67
        }
      ]
    },
    {
      "cell_type": "code",
      "source": [],
      "metadata": {
        "id": "Gq5uAqzlbAlK"
      },
      "execution_count": 67,
      "outputs": []
    },
    {
      "cell_type": "markdown",
      "source": [
        "###Assignment"
      ],
      "metadata": {
        "id": "TJRp5hJsbAiv"
      }
    },
    {
      "cell_type": "code",
      "source": [
        "X1 = np.array([\n",
        "    [25],\n",
        "    [2],\n",
        "    [-3],\n",
        "    [23]])\n",
        "X1"
      ],
      "metadata": {
        "id": "9fR1iCMyUs5n",
        "outputId": "a7c78989-bdc9-4e83-e19f-2e7cd2052571",
        "colab": {
          "base_uri": "https://localhost:8080/"
        }
      },
      "execution_count": 68,
      "outputs": [
        {
          "output_type": "execute_result",
          "data": {
            "text/plain": [
              "array([[25],\n",
              "       [ 2],\n",
              "       [-3],\n",
              "       [23]])"
            ]
          },
          "metadata": {},
          "execution_count": 68
        }
      ]
    },
    {
      "cell_type": "code",
      "source": [
        "X1_t = X1.T\n",
        "X1_t"
      ],
      "metadata": {
        "id": "-6QuA3HIWwAG",
        "outputId": "d1075070-44a4-4a5e-e1dc-c69a1c6d7c53",
        "colab": {
          "base_uri": "https://localhost:8080/"
        }
      },
      "execution_count": 69,
      "outputs": [
        {
          "output_type": "execute_result",
          "data": {
            "text/plain": [
              "array([[25,  2, -3, 23]])"
            ]
          },
          "metadata": {},
          "execution_count": 69
        }
      ]
    },
    {
      "cell_type": "code",
      "source": [
        "X1.shape, X1_t.shape"
      ],
      "metadata": {
        "id": "iehYhkQeWxw8",
        "outputId": "999e6ae8-fcea-402c-a7ff-665d1d8ae51d",
        "colab": {
          "base_uri": "https://localhost:8080/"
        }
      },
      "execution_count": 70,
      "outputs": [
        {
          "output_type": "execute_result",
          "data": {
            "text/plain": [
              "((4, 1), (1, 4))"
            ]
          },
          "metadata": {},
          "execution_count": 70
        }
      ]
    },
    {
      "cell_type": "markdown",
      "source": [
        "##Segment 2: Common Tensor Operations"
      ],
      "metadata": {
        "id": "kZOMQ8kEW5TQ"
      }
    },
    {
      "cell_type": "markdown",
      "source": [
        "###Tensor Transposition"
      ],
      "metadata": {
        "id": "6_S0E-_jXADE"
      }
    },
    {
      "cell_type": "code",
      "source": [
        "X"
      ],
      "metadata": {
        "colab": {
          "base_uri": "https://localhost:8080/"
        },
        "id": "Zq5iIiOTkCOY",
        "outputId": "41c921b9-80c0-49c5-e144-20a3240d5d4f"
      },
      "execution_count": 71,
      "outputs": [
        {
          "output_type": "execute_result",
          "data": {
            "text/plain": [
              "array([[25,  2],\n",
              "       [ 5, 26],\n",
              "       [ 3,  7]])"
            ]
          },
          "metadata": {},
          "execution_count": 71
        }
      ]
    },
    {
      "cell_type": "code",
      "source": [
        "X.T"
      ],
      "metadata": {
        "colab": {
          "base_uri": "https://localhost:8080/"
        },
        "id": "E2hQgGNAkCy_",
        "outputId": "7d49085b-8e49-4731-abe6-fa4601c2a7d2"
      },
      "execution_count": 72,
      "outputs": [
        {
          "output_type": "execute_result",
          "data": {
            "text/plain": [
              "array([[25,  5,  3],\n",
              "       [ 2, 26,  7]])"
            ]
          },
          "metadata": {},
          "execution_count": 72
        }
      ]
    },
    {
      "cell_type": "code",
      "source": [
        "X_pt.T  #Transpose in PyTorch"
      ],
      "metadata": {
        "colab": {
          "base_uri": "https://localhost:8080/"
        },
        "id": "OlQoB5iqkYCl",
        "outputId": "aa3a2108-e1bb-46dd-df8b-56752ae73669"
      },
      "execution_count": 73,
      "outputs": [
        {
          "output_type": "execute_result",
          "data": {
            "text/plain": [
              "tensor([[25,  5,  3],\n",
              "        [ 2, 26,  7]])"
            ]
          },
          "metadata": {},
          "execution_count": 73
        }
      ]
    },
    {
      "cell_type": "code",
      "source": [
        "tf.transpose(X_tf)  #Transpose in Tensorflow"
      ],
      "metadata": {
        "colab": {
          "base_uri": "https://localhost:8080/"
        },
        "id": "twDafHmFkzOY",
        "outputId": "8d40c10f-0e03-487c-faea-62da9da98606"
      },
      "execution_count": 74,
      "outputs": [
        {
          "output_type": "execute_result",
          "data": {
            "text/plain": [
              "<tf.Tensor: shape=(2, 3), dtype=int32, numpy=\n",
              "array([[25,  5,  3],\n",
              "       [ 2, 26,  7]], dtype=int32)>"
            ]
          },
          "metadata": {},
          "execution_count": 74
        }
      ]
    },
    {
      "cell_type": "markdown",
      "source": [
        "###Basic Tensor Arithmetic\n",
        "\n",
        "Adding or multiplying with scalar applies operation to all elements and tensor shape is retained"
      ],
      "metadata": {
        "id": "8gYIrF8rk5OH"
      }
    },
    {
      "cell_type": "code",
      "source": [
        "X"
      ],
      "metadata": {
        "colab": {
          "base_uri": "https://localhost:8080/"
        },
        "id": "J5Z5YdN3mHD3",
        "outputId": "947b11c8-187c-4bc0-a7e5-fcaac60b135d"
      },
      "execution_count": 75,
      "outputs": [
        {
          "output_type": "execute_result",
          "data": {
            "text/plain": [
              "array([[25,  2],\n",
              "       [ 5, 26],\n",
              "       [ 3,  7]])"
            ]
          },
          "metadata": {},
          "execution_count": 75
        }
      ]
    },
    {
      "cell_type": "code",
      "source": [
        "X*2"
      ],
      "metadata": {
        "colab": {
          "base_uri": "https://localhost:8080/"
        },
        "id": "3KVjfCjtlh6o",
        "outputId": "dc55027e-00c9-47a6-9905-a300ae61875b"
      },
      "execution_count": 76,
      "outputs": [
        {
          "output_type": "execute_result",
          "data": {
            "text/plain": [
              "array([[50,  4],\n",
              "       [10, 52],\n",
              "       [ 6, 14]])"
            ]
          },
          "metadata": {},
          "execution_count": 76
        }
      ]
    },
    {
      "cell_type": "code",
      "source": [
        "X + 2"
      ],
      "metadata": {
        "colab": {
          "base_uri": "https://localhost:8080/"
        },
        "id": "Cid3RzWaljcJ",
        "outputId": "e4f1f228-79e3-43a9-a0bf-725fe6a3249b"
      },
      "execution_count": 77,
      "outputs": [
        {
          "output_type": "execute_result",
          "data": {
            "text/plain": [
              "array([[27,  4],\n",
              "       [ 7, 28],\n",
              "       [ 5,  9]])"
            ]
          },
          "metadata": {},
          "execution_count": 77
        }
      ]
    },
    {
      "cell_type": "markdown",
      "source": [
        "Note: PEMDAS"
      ],
      "metadata": {
        "id": "pAY34SSlmdvC"
      }
    },
    {
      "cell_type": "code",
      "source": [
        "X * 2 + 2"
      ],
      "metadata": {
        "colab": {
          "base_uri": "https://localhost:8080/"
        },
        "id": "jc4BSGvQmBiV",
        "outputId": "8cf031f6-86ce-4ac1-973d-2972702a35aa"
      },
      "execution_count": 78,
      "outputs": [
        {
          "output_type": "execute_result",
          "data": {
            "text/plain": [
              "array([[52,  6],\n",
              "       [12, 54],\n",
              "       [ 8, 16]])"
            ]
          },
          "metadata": {},
          "execution_count": 78
        }
      ]
    },
    {
      "cell_type": "code",
      "source": [
        "X + 2 * 2"
      ],
      "metadata": {
        "colab": {
          "base_uri": "https://localhost:8080/"
        },
        "id": "I897uvYZmP0u",
        "outputId": "76cc5481-630a-4d49-b464-5f359f90d698"
      },
      "execution_count": 79,
      "outputs": [
        {
          "output_type": "execute_result",
          "data": {
            "text/plain": [
              "array([[29,  6],\n",
              "       [ 9, 30],\n",
              "       [ 7, 11]])"
            ]
          },
          "metadata": {},
          "execution_count": 79
        }
      ]
    },
    {
      "cell_type": "code",
      "source": [
        "X_pt*2+2  # Python operators are overloaded; could alternatively use torch.mul() or torch.add()"
      ],
      "metadata": {
        "colab": {
          "base_uri": "https://localhost:8080/"
        },
        "id": "wBiEGgQ2mY_X",
        "outputId": "a0694a7a-9b85-4c72-c9dd-6b43119bbdaa"
      },
      "execution_count": 80,
      "outputs": [
        {
          "output_type": "execute_result",
          "data": {
            "text/plain": [
              "tensor([[52,  6],\n",
              "        [12, 54],\n",
              "        [ 8, 16]])"
            ]
          },
          "metadata": {},
          "execution_count": 80
        }
      ]
    },
    {
      "cell_type": "code",
      "source": [
        "torch.add(torch.mul(X_pt, 2), 2)"
      ],
      "metadata": {
        "colab": {
          "base_uri": "https://localhost:8080/"
        },
        "id": "lMSUlM8R3JvL",
        "outputId": "630c6cf1-34b2-46c4-c5e9-9e0bffcbc171"
      },
      "execution_count": 81,
      "outputs": [
        {
          "output_type": "execute_result",
          "data": {
            "text/plain": [
              "tensor([[52,  6],\n",
              "        [12, 54],\n",
              "        [ 8, 16]])"
            ]
          },
          "metadata": {},
          "execution_count": 81
        }
      ]
    },
    {
      "cell_type": "code",
      "source": [
        "X_tf * 2 + 2  # equivalent to tf.multiply() or tf.add()"
      ],
      "metadata": {
        "colab": {
          "base_uri": "https://localhost:8080/"
        },
        "id": "lE2thQ5k3cKZ",
        "outputId": "a4ae9051-f535-4021-9dec-9aca161b4b3c"
      },
      "execution_count": 82,
      "outputs": [
        {
          "output_type": "execute_result",
          "data": {
            "text/plain": [
              "<tf.Tensor: shape=(3, 2), dtype=int32, numpy=\n",
              "array([[52,  6],\n",
              "       [12, 54],\n",
              "       [ 8, 16]], dtype=int32)>"
            ]
          },
          "metadata": {},
          "execution_count": 82
        }
      ]
    },
    {
      "cell_type": "code",
      "source": [
        "tf.add(tf.multiply(X_tf, 2), 2)"
      ],
      "metadata": {
        "colab": {
          "base_uri": "https://localhost:8080/"
        },
        "id": "ATYErljN3jKV",
        "outputId": "0127859e-ab24-49d0-d61c-37bd89f82948"
      },
      "execution_count": 83,
      "outputs": [
        {
          "output_type": "execute_result",
          "data": {
            "text/plain": [
              "<tf.Tensor: shape=(3, 2), dtype=int32, numpy=\n",
              "array([[52,  6],\n",
              "       [12, 54],\n",
              "       [ 8, 16]], dtype=int32)>"
            ]
          },
          "metadata": {},
          "execution_count": 83
        }
      ]
    },
    {
      "cell_type": "markdown",
      "source": [
        "#####If two tensors have the same size, operations are often by default applied element-wise. This is **not matrix multiplication** but is rather called **Hadamard product** or simply the **element-wise product**"
      ],
      "metadata": {
        "id": "X2i2LEFQ3vXC"
      }
    },
    {
      "cell_type": "code",
      "source": [
        "A = X + 2\n",
        "A"
      ],
      "metadata": {
        "colab": {
          "base_uri": "https://localhost:8080/"
        },
        "id": "A998Yd-94Wi5",
        "outputId": "bef08b01-4bd9-4c3d-d7ef-692ac4789c9a"
      },
      "execution_count": 84,
      "outputs": [
        {
          "output_type": "execute_result",
          "data": {
            "text/plain": [
              "array([[27,  4],\n",
              "       [ 7, 28],\n",
              "       [ 5,  9]])"
            ]
          },
          "metadata": {},
          "execution_count": 84
        }
      ]
    },
    {
      "cell_type": "code",
      "source": [
        "X"
      ],
      "metadata": {
        "colab": {
          "base_uri": "https://localhost:8080/"
        },
        "id": "H4iPGD7o_10d",
        "outputId": "38b79d91-a3e2-4579-e38f-7e760401d991"
      },
      "execution_count": 85,
      "outputs": [
        {
          "output_type": "execute_result",
          "data": {
            "text/plain": [
              "array([[25,  2],\n",
              "       [ 5, 26],\n",
              "       [ 3,  7]])"
            ]
          },
          "metadata": {},
          "execution_count": 85
        }
      ]
    },
    {
      "cell_type": "code",
      "source": [
        "A + X"
      ],
      "metadata": {
        "colab": {
          "base_uri": "https://localhost:8080/"
        },
        "id": "yinYSlyl410N",
        "outputId": "f02c9a3b-1f65-45e0-fc7a-5d10e333cc18"
      },
      "execution_count": 86,
      "outputs": [
        {
          "output_type": "execute_result",
          "data": {
            "text/plain": [
              "array([[52,  6],\n",
              "       [12, 54],\n",
              "       [ 8, 16]])"
            ]
          },
          "metadata": {},
          "execution_count": 86
        }
      ]
    },
    {
      "cell_type": "code",
      "source": [
        "A * X"
      ],
      "metadata": {
        "colab": {
          "base_uri": "https://localhost:8080/"
        },
        "id": "rSGTkZ9K_uAj",
        "outputId": "e943b518-5b5f-4e17-8e5b-d3c3f9b23eed"
      },
      "execution_count": 87,
      "outputs": [
        {
          "output_type": "execute_result",
          "data": {
            "text/plain": [
              "array([[675,   8],\n",
              "       [ 35, 728],\n",
              "       [ 15,  63]])"
            ]
          },
          "metadata": {},
          "execution_count": 87
        }
      ]
    },
    {
      "cell_type": "code",
      "source": [
        "A_pt = X_pt + 2\n",
        "A_pt"
      ],
      "metadata": {
        "colab": {
          "base_uri": "https://localhost:8080/"
        },
        "id": "UkgBJV58ABuk",
        "outputId": "eb4bd36f-eb7c-4176-d8fe-76da5f76452e"
      },
      "execution_count": 88,
      "outputs": [
        {
          "output_type": "execute_result",
          "data": {
            "text/plain": [
              "tensor([[27,  4],\n",
              "        [ 7, 28],\n",
              "        [ 5,  9]])"
            ]
          },
          "metadata": {},
          "execution_count": 88
        }
      ]
    },
    {
      "cell_type": "code",
      "source": [
        "A_pt + X_pt"
      ],
      "metadata": {
        "colab": {
          "base_uri": "https://localhost:8080/"
        },
        "id": "KrsiTfaeHU9C",
        "outputId": "c1fc22ee-742f-4f05-a240-2c1865769c19"
      },
      "execution_count": 89,
      "outputs": [
        {
          "output_type": "execute_result",
          "data": {
            "text/plain": [
              "tensor([[52,  6],\n",
              "        [12, 54],\n",
              "        [ 8, 16]])"
            ]
          },
          "metadata": {},
          "execution_count": 89
        }
      ]
    },
    {
      "cell_type": "code",
      "source": [
        "A_pt * X_pt"
      ],
      "metadata": {
        "colab": {
          "base_uri": "https://localhost:8080/"
        },
        "id": "8DO4p9xdHZTb",
        "outputId": "04e03651-c09b-4d03-aec1-37311141fc81"
      },
      "execution_count": 90,
      "outputs": [
        {
          "output_type": "execute_result",
          "data": {
            "text/plain": [
              "tensor([[675,   8],\n",
              "        [ 35, 728],\n",
              "        [ 15,  63]])"
            ]
          },
          "metadata": {},
          "execution_count": 90
        }
      ]
    },
    {
      "cell_type": "code",
      "source": [
        "A_tf = X_tf + 2\n",
        "A_tf"
      ],
      "metadata": {
        "colab": {
          "base_uri": "https://localhost:8080/"
        },
        "id": "2XUA7zaAHbJB",
        "outputId": "cf202561-6e5f-4d98-9bcf-c7049e5ef54e"
      },
      "execution_count": 91,
      "outputs": [
        {
          "output_type": "execute_result",
          "data": {
            "text/plain": [
              "<tf.Tensor: shape=(3, 2), dtype=int32, numpy=\n",
              "array([[27,  4],\n",
              "       [ 7, 28],\n",
              "       [ 5,  9]], dtype=int32)>"
            ]
          },
          "metadata": {},
          "execution_count": 91
        }
      ]
    },
    {
      "cell_type": "code",
      "source": [
        "A_tf + X_tf"
      ],
      "metadata": {
        "colab": {
          "base_uri": "https://localhost:8080/"
        },
        "id": "CkkeM7qdHgPp",
        "outputId": "09bf5f93-ffdc-4334-876a-a41abb4c9ab2"
      },
      "execution_count": 92,
      "outputs": [
        {
          "output_type": "execute_result",
          "data": {
            "text/plain": [
              "<tf.Tensor: shape=(3, 2), dtype=int32, numpy=\n",
              "array([[52,  6],\n",
              "       [12, 54],\n",
              "       [ 8, 16]], dtype=int32)>"
            ]
          },
          "metadata": {},
          "execution_count": 92
        }
      ]
    },
    {
      "cell_type": "code",
      "source": [
        "A_tf * X_tf"
      ],
      "metadata": {
        "colab": {
          "base_uri": "https://localhost:8080/"
        },
        "id": "vZJDXZGqHi8a",
        "outputId": "225360e4-1a4d-492e-b765-48e4fa1c0266"
      },
      "execution_count": 93,
      "outputs": [
        {
          "output_type": "execute_result",
          "data": {
            "text/plain": [
              "<tf.Tensor: shape=(3, 2), dtype=int32, numpy=\n",
              "array([[675,   8],\n",
              "       [ 35, 728],\n",
              "       [ 15,  63]], dtype=int32)>"
            ]
          },
          "metadata": {},
          "execution_count": 93
        }
      ]
    },
    {
      "cell_type": "markdown",
      "source": [
        "###Reduction"
      ],
      "metadata": {
        "id": "8mNbtFqWHkxk"
      }
    },
    {
      "cell_type": "markdown",
      "source": [
        "Calculating the sum across all elements of a tensor is a common operation"
      ],
      "metadata": {
        "id": "D3-8WvRaIbej"
      }
    },
    {
      "cell_type": "code",
      "source": [
        "X"
      ],
      "metadata": {
        "id": "Y9VSekMfIiMz",
        "outputId": "dc93531c-ecb8-4e3a-c2a0-8ce3f6eb7a23",
        "colab": {
          "base_uri": "https://localhost:8080/"
        }
      },
      "execution_count": 94,
      "outputs": [
        {
          "output_type": "execute_result",
          "data": {
            "text/plain": [
              "array([[25,  2],\n",
              "       [ 5, 26],\n",
              "       [ 3,  7]])"
            ]
          },
          "metadata": {},
          "execution_count": 94
        }
      ]
    },
    {
      "cell_type": "code",
      "source": [
        "X.sum()"
      ],
      "metadata": {
        "id": "T1-_A2gEIi_S",
        "outputId": "ec36bb84-9511-43fc-f328-7259e8e5114e",
        "colab": {
          "base_uri": "https://localhost:8080/"
        }
      },
      "execution_count": 95,
      "outputs": [
        {
          "output_type": "execute_result",
          "data": {
            "text/plain": [
              "68"
            ]
          },
          "metadata": {},
          "execution_count": 95
        }
      ]
    },
    {
      "cell_type": "code",
      "source": [
        "torch.sum(X_pt)"
      ],
      "metadata": {
        "id": "suZbQ1jPInW8",
        "outputId": "96483204-28cc-4698-b4b3-ad6c6182af41",
        "colab": {
          "base_uri": "https://localhost:8080/"
        }
      },
      "execution_count": 96,
      "outputs": [
        {
          "output_type": "execute_result",
          "data": {
            "text/plain": [
              "tensor(68)"
            ]
          },
          "metadata": {},
          "execution_count": 96
        }
      ]
    },
    {
      "cell_type": "code",
      "source": [
        "tf.reduce_sum(X_tf)"
      ],
      "metadata": {
        "id": "QlbJi3w3Is3E",
        "outputId": "df834db3-963a-4f51-e948-278f53a7bdfc",
        "colab": {
          "base_uri": "https://localhost:8080/"
        }
      },
      "execution_count": 97,
      "outputs": [
        {
          "output_type": "execute_result",
          "data": {
            "text/plain": [
              "<tf.Tensor: shape=(), dtype=int32, numpy=68>"
            ]
          },
          "metadata": {},
          "execution_count": 97
        }
      ]
    },
    {
      "cell_type": "code",
      "source": [
        "# Can also be performed along one specific axis. e.g.\n",
        "X.sum(axis=0)"
      ],
      "metadata": {
        "id": "tC8QClwGIvVg",
        "outputId": "18537211-857a-41dd-e3f3-964032095297",
        "colab": {
          "base_uri": "https://localhost:8080/"
        }
      },
      "execution_count": 98,
      "outputs": [
        {
          "output_type": "execute_result",
          "data": {
            "text/plain": [
              "array([33, 35])"
            ]
          },
          "metadata": {},
          "execution_count": 98
        }
      ]
    },
    {
      "cell_type": "code",
      "source": [
        "X.sum(axis=1)"
      ],
      "metadata": {
        "id": "PRE63k74Jda6",
        "outputId": "315ef0a6-fbb3-40cb-9d2d-8efebfd3e5a3",
        "colab": {
          "base_uri": "https://localhost:8080/"
        }
      },
      "execution_count": 99,
      "outputs": [
        {
          "output_type": "execute_result",
          "data": {
            "text/plain": [
              "array([27, 31, 10])"
            ]
          },
          "metadata": {},
          "execution_count": 99
        }
      ]
    },
    {
      "cell_type": "code",
      "source": [
        "torch.sum(X_pt, 0)"
      ],
      "metadata": {
        "id": "R-67hAHbzzMa",
        "outputId": "dcfbb935-1d17-444d-e832-124653d0bb97",
        "colab": {
          "base_uri": "https://localhost:8080/"
        }
      },
      "execution_count": 100,
      "outputs": [
        {
          "output_type": "execute_result",
          "data": {
            "text/plain": [
              "tensor([33, 35])"
            ]
          },
          "metadata": {},
          "execution_count": 100
        }
      ]
    },
    {
      "cell_type": "code",
      "source": [
        "torch.sum(X_pt, 1)"
      ],
      "metadata": {
        "id": "TC63UQF-z2uU",
        "outputId": "82b01bdb-a1a1-416e-b79b-8cf6a07443cb",
        "colab": {
          "base_uri": "https://localhost:8080/"
        }
      },
      "execution_count": 101,
      "outputs": [
        {
          "output_type": "execute_result",
          "data": {
            "text/plain": [
              "tensor([27, 31, 10])"
            ]
          },
          "metadata": {},
          "execution_count": 101
        }
      ]
    },
    {
      "cell_type": "code",
      "source": [
        "tf.reduce_sum(X_tf, axis=0)"
      ],
      "metadata": {
        "id": "v_mFX8v_z5e3",
        "outputId": "d48a27d0-9209-4482-8a09-3f5b8bb900c1",
        "colab": {
          "base_uri": "https://localhost:8080/"
        }
      },
      "execution_count": 102,
      "outputs": [
        {
          "output_type": "execute_result",
          "data": {
            "text/plain": [
              "<tf.Tensor: shape=(2,), dtype=int32, numpy=array([33, 35], dtype=int32)>"
            ]
          },
          "metadata": {},
          "execution_count": 102
        }
      ]
    },
    {
      "cell_type": "code",
      "source": [
        "tf.reduce_sum(X_tf, axis=1)"
      ],
      "metadata": {
        "id": "9SBVhd1Tz-JM",
        "outputId": "562d0ed2-fcca-4092-85d0-27f0c10b29f7",
        "colab": {
          "base_uri": "https://localhost:8080/"
        }
      },
      "execution_count": 103,
      "outputs": [
        {
          "output_type": "execute_result",
          "data": {
            "text/plain": [
              "<tf.Tensor: shape=(3,), dtype=int32, numpy=array([27, 31, 10], dtype=int32)>"
            ]
          },
          "metadata": {},
          "execution_count": 103
        }
      ]
    },
    {
      "cell_type": "code",
      "source": [
        "C= np.array([[[2, 5, 3, 4, 2], \n",
        "          [2, 5, 3, 4, 2]],\n",
        "          [[1, 4, 2, 3, 1], \n",
        "          [1, 3, 2, 3, 1]]])"
      ],
      "metadata": {
        "id": "k7KZb7nMJiPx"
      },
      "execution_count": 104,
      "outputs": []
    },
    {
      "cell_type": "code",
      "source": [
        "C"
      ],
      "metadata": {
        "id": "EDeKaxlU8bVF",
        "outputId": "e10c8140-5dc3-4ed5-ecb6-6d8a400e5f58",
        "colab": {
          "base_uri": "https://localhost:8080/"
        }
      },
      "execution_count": 105,
      "outputs": [
        {
          "output_type": "execute_result",
          "data": {
            "text/plain": [
              "array([[[2, 5, 3, 4, 2],\n",
              "        [2, 5, 3, 4, 2]],\n",
              "\n",
              "       [[1, 4, 2, 3, 1],\n",
              "        [1, 3, 2, 3, 1]]])"
            ]
          },
          "metadata": {},
          "execution_count": 105
        }
      ]
    },
    {
      "cell_type": "code",
      "source": [
        "C.sum(axis=2)\n"
      ],
      "metadata": {
        "id": "wOBevv3FJlTV",
        "outputId": "b1ccb3de-ec33-41e3-b7cc-80b269178165",
        "colab": {
          "base_uri": "https://localhost:8080/"
        }
      },
      "execution_count": 106,
      "outputs": [
        {
          "output_type": "execute_result",
          "data": {
            "text/plain": [
              "array([[16, 16],\n",
              "       [11, 10]])"
            ]
          },
          "metadata": {},
          "execution_count": 106
        }
      ]
    },
    {
      "cell_type": "code",
      "source": [
        "C.sum(axis=0)\n"
      ],
      "metadata": {
        "id": "Z1PLRBbWWVTB",
        "outputId": "eaa1b289-9e6c-43df-f630-aae26778d699",
        "colab": {
          "base_uri": "https://localhost:8080/"
        }
      },
      "execution_count": 107,
      "outputs": [
        {
          "output_type": "execute_result",
          "data": {
            "text/plain": [
              "array([[3, 9, 5, 7, 3],\n",
              "       [3, 8, 5, 7, 3]])"
            ]
          },
          "metadata": {},
          "execution_count": 107
        }
      ]
    },
    {
      "cell_type": "code",
      "source": [
        "C.sum(axis=1)"
      ],
      "metadata": {
        "id": "zDTA3e53WWod",
        "outputId": "b9eed3fe-aec4-4335-f5d2-3dd514158006",
        "colab": {
          "base_uri": "https://localhost:8080/"
        }
      },
      "execution_count": 108,
      "outputs": [
        {
          "output_type": "execute_result",
          "data": {
            "text/plain": [
              "array([[ 4, 10,  6,  8,  4],\n",
              "       [ 2,  7,  4,  6,  2]])"
            ]
          },
          "metadata": {},
          "execution_count": 108
        }
      ]
    },
    {
      "cell_type": "markdown",
      "source": [
        "###The Dot Product\n",
        "\n",
        "Dot product can be calculated between two vectors (say, *x* and *y) if they have same length n*"
      ],
      "metadata": {
        "id": "qUXnyJBRYq4D"
      }
    },
    {
      "cell_type": "code",
      "source": [
        "x"
      ],
      "metadata": {
        "colab": {
          "base_uri": "https://localhost:8080/"
        },
        "id": "Gbp85H6lww_H",
        "outputId": "ffeaf473-c570-4cff-dcb5-a5d3512baf5e"
      },
      "execution_count": 109,
      "outputs": [
        {
          "output_type": "execute_result",
          "data": {
            "text/plain": [
              "array([25,  2,  5])"
            ]
          },
          "metadata": {},
          "execution_count": 109
        }
      ]
    },
    {
      "cell_type": "code",
      "source": [
        "y = np.array([0, 1, 2])\n",
        "y"
      ],
      "metadata": {
        "colab": {
          "base_uri": "https://localhost:8080/"
        },
        "id": "e_8OMkeJw2yd",
        "outputId": "17913c13-0b9a-477c-e559-907306a887f8"
      },
      "execution_count": 110,
      "outputs": [
        {
          "output_type": "execute_result",
          "data": {
            "text/plain": [
              "array([0, 1, 2])"
            ]
          },
          "metadata": {},
          "execution_count": 110
        }
      ]
    },
    {
      "cell_type": "code",
      "source": [
        "25*0 + 2*1 + 5*2"
      ],
      "metadata": {
        "colab": {
          "base_uri": "https://localhost:8080/"
        },
        "id": "0IrGgZKnxAtc",
        "outputId": "143c3e4a-262d-4d79-e345-b41a3e5f8b00"
      },
      "execution_count": 111,
      "outputs": [
        {
          "output_type": "execute_result",
          "data": {
            "text/plain": [
              "12"
            ]
          },
          "metadata": {},
          "execution_count": 111
        }
      ]
    },
    {
      "cell_type": "code",
      "source": [
        "np.dot(x, y)"
      ],
      "metadata": {
        "colab": {
          "base_uri": "https://localhost:8080/"
        },
        "id": "oFjAd90jxJhN",
        "outputId": "b6dc8fcd-405d-4b5d-c6fb-146981d811cb"
      },
      "execution_count": 112,
      "outputs": [
        {
          "output_type": "execute_result",
          "data": {
            "text/plain": [
              "12"
            ]
          },
          "metadata": {},
          "execution_count": 112
        }
      ]
    },
    {
      "cell_type": "code",
      "source": [
        "x_pt"
      ],
      "metadata": {
        "colab": {
          "base_uri": "https://localhost:8080/"
        },
        "id": "sgh8UzVexNk8",
        "outputId": "70dce41e-aece-4444-c9f9-ca5b2eee1597"
      },
      "execution_count": 113,
      "outputs": [
        {
          "output_type": "execute_result",
          "data": {
            "text/plain": [
              "tensor([25,  2,  5])"
            ]
          },
          "metadata": {},
          "execution_count": 113
        }
      ]
    },
    {
      "cell_type": "code",
      "source": [
        "y_pt = torch.tensor([0, 1, 2])\n",
        "y_pt"
      ],
      "metadata": {
        "colab": {
          "base_uri": "https://localhost:8080/"
        },
        "id": "Wv9hufw3xkcF",
        "outputId": "dbee8a9f-21ee-497a-b0f0-a4533e7ab3cd"
      },
      "execution_count": 114,
      "outputs": [
        {
          "output_type": "execute_result",
          "data": {
            "text/plain": [
              "tensor([0, 1, 2])"
            ]
          },
          "metadata": {},
          "execution_count": 114
        }
      ]
    },
    {
      "cell_type": "code",
      "source": [
        "# numpy.dot can accept pytorch tensor\n",
        "np.dot(x_pt, y_pt)"
      ],
      "metadata": {
        "colab": {
          "base_uri": "https://localhost:8080/"
        },
        "id": "pEt5j0MZxpFI",
        "outputId": "2ecb72ba-58f6-453b-f835-482a3aa9f1d1"
      },
      "execution_count": 115,
      "outputs": [
        {
          "output_type": "execute_result",
          "data": {
            "text/plain": [
              "12"
            ]
          },
          "metadata": {},
          "execution_count": 115
        }
      ]
    },
    {
      "cell_type": "code",
      "source": [
        "torch.dot(x_pt, y_pt)"
      ],
      "metadata": {
        "colab": {
          "base_uri": "https://localhost:8080/"
        },
        "id": "Pwti4SUAxrm-",
        "outputId": "73841df3-376a-4e06-80af-583475854776"
      },
      "execution_count": 116,
      "outputs": [
        {
          "output_type": "execute_result",
          "data": {
            "text/plain": [
              "tensor(12)"
            ]
          },
          "metadata": {},
          "execution_count": 116
        }
      ]
    },
    {
      "cell_type": "code",
      "source": [
        "x_tf"
      ],
      "metadata": {
        "colab": {
          "base_uri": "https://localhost:8080/"
        },
        "id": "xDNYkwMcyH_X",
        "outputId": "7d7375c5-0d3f-4c01-a67c-73fbf9470a89"
      },
      "execution_count": 117,
      "outputs": [
        {
          "output_type": "execute_result",
          "data": {
            "text/plain": [
              "<tf.Variable 'Variable:0' shape=(3,) dtype=int32, numpy=array([25,  2,  5], dtype=int32)>"
            ]
          },
          "metadata": {},
          "execution_count": 117
        }
      ]
    },
    {
      "cell_type": "code",
      "source": [
        "y_tf = tf.Variable([0, 1, 2])\n",
        "y_tf"
      ],
      "metadata": {
        "colab": {
          "base_uri": "https://localhost:8080/"
        },
        "id": "DpUpvrhOyQTr",
        "outputId": "ac52ba5f-731f-4118-e7b3-0ef7c074cd28"
      },
      "execution_count": 118,
      "outputs": [
        {
          "output_type": "execute_result",
          "data": {
            "text/plain": [
              "<tf.Variable 'Variable:0' shape=(3,) dtype=int32, numpy=array([0, 1, 2], dtype=int32)>"
            ]
          },
          "metadata": {},
          "execution_count": 118
        }
      ]
    },
    {
      "cell_type": "code",
      "source": [
        "tf.reduce_sum(tf.multiply(x_tf, y_tf))"
      ],
      "metadata": {
        "colab": {
          "base_uri": "https://localhost:8080/"
        },
        "id": "9shaOJEZyqeV",
        "outputId": "250b0a2a-365d-47e6-baa5-a57435569bb5"
      },
      "execution_count": 119,
      "outputs": [
        {
          "output_type": "execute_result",
          "data": {
            "text/plain": [
              "<tf.Tensor: shape=(), dtype=int32, numpy=12>"
            ]
          },
          "metadata": {},
          "execution_count": 119
        }
      ]
    },
    {
      "cell_type": "code",
      "source": [
        "Q1 = np.array([[42, 4, 7, 99],\n",
        "              [-99, -3, 17, 22]])\n",
        "Q1"
      ],
      "metadata": {
        "colab": {
          "base_uri": "https://localhost:8080/"
        },
        "id": "PxvaaAm2ytET",
        "outputId": "9871365c-895e-41b9-ed44-7eee44b58725"
      },
      "execution_count": 120,
      "outputs": [
        {
          "output_type": "execute_result",
          "data": {
            "text/plain": [
              "array([[ 42,   4,   7,  99],\n",
              "       [-99,  -3,  17,  22]])"
            ]
          },
          "metadata": {},
          "execution_count": 120
        }
      ]
    },
    {
      "cell_type": "code",
      "source": [
        "Q1.T"
      ],
      "metadata": {
        "colab": {
          "base_uri": "https://localhost:8080/"
        },
        "id": "P2fJv6Gi0lcM",
        "outputId": "a539fdc1-7971-454a-aa01-2b531be7c176"
      },
      "execution_count": 121,
      "outputs": [
        {
          "output_type": "execute_result",
          "data": {
            "text/plain": [
              "array([[ 42, -99],\n",
              "       [  4,  -3],\n",
              "       [  7,  17],\n",
              "       [ 99,  22]])"
            ]
          },
          "metadata": {},
          "execution_count": 121
        }
      ]
    },
    {
      "cell_type": "code",
      "source": [
        "Q2a = torch.tensor([[25, 10],\n",
        "                   [-2, 1]])\n",
        "Q2b = torch.tensor([[-1, 7],\n",
        "                    [10, 8]])"
      ],
      "metadata": {
        "id": "Ua1njyFc0nRN"
      },
      "execution_count": 122,
      "outputs": []
    },
    {
      "cell_type": "code",
      "source": [
        "Q2a * Q2b"
      ],
      "metadata": {
        "colab": {
          "base_uri": "https://localhost:8080/"
        },
        "id": "WrzsqXms1EKE",
        "outputId": "01ac450d-5f31-4df7-ea19-236afb1c78ee"
      },
      "execution_count": 123,
      "outputs": [
        {
          "output_type": "execute_result",
          "data": {
            "text/plain": [
              "tensor([[-25,  70],\n",
              "        [-20,   8]])"
            ]
          },
          "metadata": {},
          "execution_count": 123
        }
      ]
    },
    {
      "cell_type": "code",
      "source": [
        "Q3a = np.array([-1, 2, -2])\n",
        "Q3b = np.array([5, 10, 0])\n",
        "\n",
        "np.dot(Q3a, Q3b)"
      ],
      "metadata": {
        "colab": {
          "base_uri": "https://localhost:8080/"
        },
        "id": "MhVStiXy1I3m",
        "outputId": "7327c73b-0745-40e4-e06d-194074051e26"
      },
      "execution_count": 124,
      "outputs": [
        {
          "output_type": "execute_result",
          "data": {
            "text/plain": [
              "15"
            ]
          },
          "metadata": {},
          "execution_count": 124
        }
      ]
    },
    {
      "cell_type": "markdown",
      "source": [
        "###Solving Linear Systems"
      ],
      "metadata": {
        "id": "YBo7Kmnk1ZBv"
      }
    },
    {
      "cell_type": "markdown",
      "source": [
        "In the **Substitution** example, the two equations in the system are: \n",
        "$$ y = 3x $$\n",
        "$$ -5x + 2y = 2 $$\n",
        "\n",
        "The second equation can be rearranged to isolate $y$: \n",
        "$$ 2y = 2 + 5x $$\n",
        "$$ y = \\frac{2 + 5x}{2} = 1 + \\frac{5x}{2} $$\n",
        "\n",
        "$$ (x, y) = (2, 6) $$"
      ],
      "metadata": {
        "id": "RKFCQLWNCp-_"
      }
    },
    {
      "cell_type": "code",
      "source": [
        "x = np.linspace(-10, 10, 1000)  # start, finish and points"
      ],
      "metadata": {
        "id": "PQYrlj-_FJt-"
      },
      "execution_count": 125,
      "outputs": []
    },
    {
      "cell_type": "code",
      "source": [
        "y1 = 3 * x\n",
        "y2 = 1 + (5 * x)/2"
      ],
      "metadata": {
        "id": "1qhoBHfeHavt"
      },
      "execution_count": 126,
      "outputs": []
    },
    {
      "cell_type": "code",
      "source": [
        "fig, ax = plt.subplots()\n",
        "plt.xlabel('x')\n",
        "plt.ylabel('y')\n",
        "ax.set_xlim([0, 3])\n",
        "ax.set_ylim([0, 8])\n",
        "ax.plot(x, y1, c='green')\n",
        "ax.plot(x, y2, c='brown')\n",
        "plt.axvline(x=2, color='purple', linestyle='--')\n",
        "_ = plt.axhline(y=6, color='purple', linestyle='--')"
      ],
      "metadata": {
        "colab": {
          "base_uri": "https://localhost:8080/",
          "height": 283
        },
        "id": "Lz5wNwFyHino",
        "outputId": "663dba17-84ac-431e-81a0-5272b1d38d15"
      },
      "execution_count": 127,
      "outputs": [
        {
          "output_type": "display_data",
          "data": {
            "text/plain": [
              "<Figure size 432x288 with 1 Axes>"
            ],
            "image/png": "[encoded data removed]"
          },
          "metadata": {
            "needs_background": "light"
          }
        }
      ]
    },
    {
      "cell_type": "markdown",
      "source": [
        "**Another example**, the two equations in the system are: \n",
        "$$ y = 6 - x $$\n",
        "$$ 2x + 3y = 16 $$\n",
        "\n",
        "The second equation can be rearranged to isolate $y$: \n",
        "$$ 3y = 16 - 2x $$\n",
        "$$ y = \\frac{16 - 2x}{3} $$\n",
        "\n",
        "$$ (x, y) = (2, 4) $$"
      ],
      "metadata": {
        "id": "CfU_7hLYIP3B"
      }
    },
    {
      "cell_type": "code",
      "source": [
        "x = np.linspace(-10, 10, 1000)  # start, finish and points\n",
        "y1 = 6 - x\n",
        "y2 = (16 - (2 * x))/3"
      ],
      "metadata": {
        "id": "oacEFihYM8qg"
      },
      "execution_count": 128,
      "outputs": []
    },
    {
      "cell_type": "code",
      "source": [
        "fix, ax = plt.subplots()\n",
        "plt.xlabel('x')\n",
        "plt.ylabel('y')\n",
        "\n",
        "# Add x & y axis\n",
        "#plt.axvline(x=0, color='lightgray')\n",
        "#plt.axhline(y=0, color='lightgray')\n",
        "\n",
        "ax.set_xlim([0, 4])\n",
        "ax.set_ylim([0, 7])\n",
        "ax.plot(x, y1, c='green')\n",
        "ax.plot(x, y2, c='brown')\n",
        "plt.axvline(x=2, color='purple', linestyle='--')\n",
        "_ = plt.axhline(y=4, color='purple', linestyle='--')"
      ],
      "metadata": {
        "colab": {
          "base_uri": "https://localhost:8080/",
          "height": 283
        },
        "id": "QQZ5j3ErNJDN",
        "outputId": "4396e232-8778-4857-da71-16cd80bf3629"
      },
      "execution_count": 129,
      "outputs": [
        {
          "output_type": "display_data",
          "data": {
            "text/plain": [
              "<Figure size 432x288 with 1 Axes>"
            ],
            "image/png": "[encoded data removed]"
          },
          "metadata": {
            "needs_background": "light"
          }
        }
      ]
    },
    {
      "cell_type": "markdown",
      "source": [
        "###Matrix Properties"
      ],
      "metadata": {
        "id": "CxHd9Qnv0qqw"
      }
    },
    {
      "cell_type": "markdown",
      "source": [
        "#####Frobenius Norm"
      ],
      "metadata": {
        "id": "jgVMyud28TyD"
      }
    },
    {
      "cell_type": "code",
      "source": [
        "X = np.array([[1, 2],\n",
        "              [3, 4]])\n",
        "X"
      ],
      "metadata": {
        "colab": {
          "base_uri": "https://localhost:8080/"
        },
        "id": "UZEjR5Tf8XLV",
        "outputId": "c79d68e1-adef-44dc-a477-a5aae7a0cfcf"
      },
      "execution_count": 130,
      "outputs": [
        {
          "output_type": "execute_result",
          "data": {
            "text/plain": [
              "array([[1, 2],\n",
              "       [3, 4]])"
            ]
          },
          "metadata": {},
          "execution_count": 130
        }
      ]
    },
    {
      "cell_type": "code",
      "source": [
        "(1**2 + 2**2 + 3**2 + 4**2)**(1/2)"
      ],
      "metadata": {
        "colab": {
          "base_uri": "https://localhost:8080/"
        },
        "id": "lUwuJb6A8bpT",
        "outputId": "0af014a3-0e49-47a6-9681-d00829e30058"
      },
      "execution_count": 131,
      "outputs": [
        {
          "output_type": "execute_result",
          "data": {
            "text/plain": [
              "5.477225575051661"
            ]
          },
          "metadata": {},
          "execution_count": 131
        }
      ]
    },
    {
      "cell_type": "code",
      "source": [
        "#np.linalg.norm(X, 'fro')\n",
        "# OR\n",
        "np.linalg.norm(X)"
      ],
      "metadata": {
        "colab": {
          "base_uri": "https://localhost:8080/"
        },
        "id": "34hlEMN-8ktE",
        "outputId": "dde5f05a-d4ea-4645-94d4-a1f5edac6241"
      },
      "execution_count": 132,
      "outputs": [
        {
          "output_type": "execute_result",
          "data": {
            "text/plain": [
              "5.477225575051661"
            ]
          },
          "metadata": {},
          "execution_count": 132
        }
      ]
    },
    {
      "cell_type": "code",
      "source": [
        "X_pt = torch.tensor([[1, 2],\n",
        "                     [3., 4.]]) # torch.norm() requires float type\n",
        "X_pt"
      ],
      "metadata": {
        "colab": {
          "base_uri": "https://localhost:8080/"
        },
        "id": "qwuBceY_85wg",
        "outputId": "1b0bee11-eb82-46cb-dc5a-f673fea2a5f7"
      },
      "execution_count": 133,
      "outputs": [
        {
          "output_type": "execute_result",
          "data": {
            "text/plain": [
              "tensor([[1., 2.],\n",
              "        [3., 4.]])"
            ]
          },
          "metadata": {},
          "execution_count": 133
        }
      ]
    },
    {
      "cell_type": "code",
      "source": [
        "torch.norm(X_pt)"
      ],
      "metadata": {
        "colab": {
          "base_uri": "https://localhost:8080/"
        },
        "id": "ECCQLGU39Pf7",
        "outputId": "c038d41c-1d4c-4b1f-aa36-6e6b3c454ec4"
      },
      "execution_count": 134,
      "outputs": [
        {
          "output_type": "execute_result",
          "data": {
            "text/plain": [
              "tensor(5.4772)"
            ]
          },
          "metadata": {},
          "execution_count": 134
        }
      ]
    },
    {
      "cell_type": "code",
      "source": [
        "X_tf = tf.Variable([[1, 2],\n",
        "                    [3., 4.]])  # tf.norm() requires float type\n",
        "X_tf"
      ],
      "metadata": {
        "colab": {
          "base_uri": "https://localhost:8080/"
        },
        "id": "hZj_4aUh9SMs",
        "outputId": "31ac3267-d0e9-4e85-876f-01df9b17c705"
      },
      "execution_count": 135,
      "outputs": [
        {
          "output_type": "execute_result",
          "data": {
            "text/plain": [
              "<tf.Variable 'Variable:0' shape=(2, 2) dtype=float32, numpy=\n",
              "array([[1., 2.],\n",
              "       [3., 4.]], dtype=float32)>"
            ]
          },
          "metadata": {},
          "execution_count": 135
        }
      ]
    },
    {
      "cell_type": "code",
      "source": [
        "tf.norm(X_tf)"
      ],
      "metadata": {
        "colab": {
          "base_uri": "https://localhost:8080/"
        },
        "id": "ruJxaDO490h_",
        "outputId": "6a17ff68-5756-4b0b-d90a-a4bc4b174a29"
      },
      "execution_count": 136,
      "outputs": [
        {
          "output_type": "execute_result",
          "data": {
            "text/plain": [
              "<tf.Tensor: shape=(), dtype=float32, numpy=5.477226>"
            ]
          },
          "metadata": {},
          "execution_count": 136
        }
      ]
    },
    {
      "cell_type": "markdown",
      "source": [
        "###Matrix Multiplication (with a Vector)"
      ],
      "metadata": {
        "id": "cPGOHyAs92fy"
      }
    },
    {
      "cell_type": "code",
      "source": [
        "A = np.array([[3, 4],\n",
        "              [5, 6],\n",
        "              [7, 8]])\n",
        "A"
      ],
      "metadata": {
        "colab": {
          "base_uri": "https://localhost:8080/"
        },
        "id": "Xo9UpfI9AiYh",
        "outputId": "11ad2e0a-ac3d-4c48-ad72-f98e0bd766ad"
      },
      "execution_count": 137,
      "outputs": [
        {
          "output_type": "execute_result",
          "data": {
            "text/plain": [
              "array([[3, 4],\n",
              "       [5, 6],\n",
              "       [7, 8]])"
            ]
          },
          "metadata": {},
          "execution_count": 137
        }
      ]
    },
    {
      "cell_type": "code",
      "source": [
        "b = np.array([1, 2])\n",
        "b"
      ],
      "metadata": {
        "colab": {
          "base_uri": "https://localhost:8080/"
        },
        "id": "2qYaIbFwAn60",
        "outputId": "b22abb9a-ff1c-4e10-9432-8b98a0a529b9"
      },
      "execution_count": 138,
      "outputs": [
        {
          "output_type": "execute_result",
          "data": {
            "text/plain": [
              "array([1, 2])"
            ]
          },
          "metadata": {},
          "execution_count": 138
        }
      ]
    },
    {
      "cell_type": "code",
      "source": [
        "np.dot(A, b)"
      ],
      "metadata": {
        "colab": {
          "base_uri": "https://localhost:8080/"
        },
        "id": "0mk_mfs9AshI",
        "outputId": "4e80bba2-a734-40ae-f9ef-470a5492c706"
      },
      "execution_count": 139,
      "outputs": [
        {
          "output_type": "execute_result",
          "data": {
            "text/plain": [
              "array([11, 17, 23])"
            ]
          },
          "metadata": {},
          "execution_count": 139
        }
      ]
    },
    {
      "cell_type": "code",
      "source": [
        "A_pt = torch.tensor([[3, 4],\n",
        "                     [5, 6],\n",
        "                     [7, 8]])\n",
        "A_pt"
      ],
      "metadata": {
        "colab": {
          "base_uri": "https://localhost:8080/"
        },
        "id": "q6HC7NKcA3Dk",
        "outputId": "920b3530-fe77-410c-d06c-aae21721d263"
      },
      "execution_count": 140,
      "outputs": [
        {
          "output_type": "execute_result",
          "data": {
            "text/plain": [
              "tensor([[3, 4],\n",
              "        [5, 6],\n",
              "        [7, 8]])"
            ]
          },
          "metadata": {},
          "execution_count": 140
        }
      ]
    },
    {
      "cell_type": "code",
      "source": [
        "b_pt = torch.tensor([1, 2])\n",
        "b_pt"
      ],
      "metadata": {
        "colab": {
          "base_uri": "https://localhost:8080/"
        },
        "id": "VQBZ0VbwBKcx",
        "outputId": "b080c9d2-92a2-437d-f39d-03ffc930565b"
      },
      "execution_count": 141,
      "outputs": [
        {
          "output_type": "execute_result",
          "data": {
            "text/plain": [
              "tensor([1, 2])"
            ]
          },
          "metadata": {},
          "execution_count": 141
        }
      ]
    },
    {
      "cell_type": "code",
      "source": [
        "torch.matmul(A_pt, b_pt)"
      ],
      "metadata": {
        "colab": {
          "base_uri": "https://localhost:8080/"
        },
        "id": "wM81IXEhBNDF",
        "outputId": "d1a193a4-a5a9-4894-b1b4-0d87fde2a1c5"
      },
      "execution_count": 142,
      "outputs": [
        {
          "output_type": "execute_result",
          "data": {
            "text/plain": [
              "tensor([11, 17, 23])"
            ]
          },
          "metadata": {},
          "execution_count": 142
        }
      ]
    },
    {
      "cell_type": "code",
      "source": [
        "A_tf = tf.Variable([[3, 4],\n",
        "                    [5, 6],\n",
        "                    [7, 8]])\n",
        "A_tf"
      ],
      "metadata": {
        "colab": {
          "base_uri": "https://localhost:8080/"
        },
        "id": "u2_HmkknBPny",
        "outputId": "f0330480-9170-4deb-9e95-fa4b7dbfa3ab"
      },
      "execution_count": 143,
      "outputs": [
        {
          "output_type": "execute_result",
          "data": {
            "text/plain": [
              "<tf.Variable 'Variable:0' shape=(3, 2) dtype=int32, numpy=\n",
              "array([[3, 4],\n",
              "       [5, 6],\n",
              "       [7, 8]], dtype=int32)>"
            ]
          },
          "metadata": {},
          "execution_count": 143
        }
      ]
    },
    {
      "cell_type": "code",
      "source": [
        "b_tf = tf.Variable([1, 2])\n",
        "b_tf"
      ],
      "metadata": {
        "colab": {
          "base_uri": "https://localhost:8080/"
        },
        "id": "9JYZBr8lBb7d",
        "outputId": "cd2cbc69-a3a1-4501-a9cb-e31268f283be"
      },
      "execution_count": 144,
      "outputs": [
        {
          "output_type": "execute_result",
          "data": {
            "text/plain": [
              "<tf.Variable 'Variable:0' shape=(2,) dtype=int32, numpy=array([1, 2], dtype=int32)>"
            ]
          },
          "metadata": {},
          "execution_count": 144
        }
      ]
    },
    {
      "cell_type": "code",
      "source": [
        "tf.linalg.matvec(A_tf, b_tf)  # matvec --> Matrix by Vector multiplication"
      ],
      "metadata": {
        "colab": {
          "base_uri": "https://localhost:8080/"
        },
        "id": "MoPmLKELBesc",
        "outputId": "60a246b5-185f-4fdc-eaa1-cc01dba7cd5d"
      },
      "execution_count": 145,
      "outputs": [
        {
          "output_type": "execute_result",
          "data": {
            "text/plain": [
              "<tf.Tensor: shape=(3,), dtype=int32, numpy=array([11, 17, 23], dtype=int32)>"
            ]
          },
          "metadata": {},
          "execution_count": 145
        }
      ]
    },
    {
      "cell_type": "markdown",
      "source": [
        "###Matrix Multiplication (with another Matrix)"
      ],
      "metadata": {
        "id": "ldJGvwfxBhBj"
      }
    },
    {
      "cell_type": "code",
      "source": [
        "A"
      ],
      "metadata": {
        "colab": {
          "base_uri": "https://localhost:8080/"
        },
        "id": "EmzzaPNTEVrQ",
        "outputId": "008c74f2-b2e4-4fe1-c747-f33ebfb3133c"
      },
      "execution_count": 146,
      "outputs": [
        {
          "output_type": "execute_result",
          "data": {
            "text/plain": [
              "array([[3, 4],\n",
              "       [5, 6],\n",
              "       [7, 8]])"
            ]
          },
          "metadata": {},
          "execution_count": 146
        }
      ]
    },
    {
      "cell_type": "code",
      "source": [
        "B = np.array([[1, 9],\n",
        "              [2, 0]])\n",
        "B"
      ],
      "metadata": {
        "colab": {
          "base_uri": "https://localhost:8080/"
        },
        "id": "-zsCWFmXEXKd",
        "outputId": "a4261570-664a-4ca4-d0fc-c282a3d837b4"
      },
      "execution_count": 147,
      "outputs": [
        {
          "output_type": "execute_result",
          "data": {
            "text/plain": [
              "array([[1, 9],\n",
              "       [2, 0]])"
            ]
          },
          "metadata": {},
          "execution_count": 147
        }
      ]
    },
    {
      "cell_type": "code",
      "source": [
        "np.dot(A, B)"
      ],
      "metadata": {
        "colab": {
          "base_uri": "https://localhost:8080/"
        },
        "id": "g6pyM9L1EcMD",
        "outputId": "16d57990-4a06-44ce-c88d-1363c7d55bfd"
      },
      "execution_count": 148,
      "outputs": [
        {
          "output_type": "execute_result",
          "data": {
            "text/plain": [
              "array([[11, 27],\n",
              "       [17, 45],\n",
              "       [23, 63]])"
            ]
          },
          "metadata": {},
          "execution_count": 148
        }
      ]
    },
    {
      "cell_type": "markdown",
      "source": [
        "Note that matrix multiplication is not \"commutative\" (i.e., $AB \\neq BA$) so uncommenting the following line will throw a size mismatch error:"
      ],
      "metadata": {
        "id": "f9nETF3IEd_G"
      }
    },
    {
      "cell_type": "code",
      "source": [
        "#np.dot(B, A)"
      ],
      "metadata": {
        "id": "iAG8MQQhFBxc"
      },
      "execution_count": 149,
      "outputs": []
    },
    {
      "cell_type": "code",
      "source": [
        "B_pt = torch.from_numpy(B)\n",
        "B_pt"
      ],
      "metadata": {
        "colab": {
          "base_uri": "https://localhost:8080/"
        },
        "id": "JnnpBFPCFEod",
        "outputId": "c9745b1c-05e3-4c04-b2b2-b7b4cbce5f0e"
      },
      "execution_count": 150,
      "outputs": [
        {
          "output_type": "execute_result",
          "data": {
            "text/plain": [
              "tensor([[1, 9],\n",
              "        [2, 0]])"
            ]
          },
          "metadata": {},
          "execution_count": 150
        }
      ]
    },
    {
      "cell_type": "code",
      "source": [
        "torch.matmul(A_pt, B_pt)"
      ],
      "metadata": {
        "colab": {
          "base_uri": "https://localhost:8080/"
        },
        "id": "6XH0V7ELFnZr",
        "outputId": "a1b28efe-329d-449a-de69-2a1c78777b33"
      },
      "execution_count": 151,
      "outputs": [
        {
          "output_type": "execute_result",
          "data": {
            "text/plain": [
              "tensor([[11, 27],\n",
              "        [17, 45],\n",
              "        [23, 63]])"
            ]
          },
          "metadata": {},
          "execution_count": 151
        }
      ]
    },
    {
      "cell_type": "code",
      "source": [
        "# Another way to create the same tensor with transposition\n",
        "B_pt = torch.tensor([[1, 2],\n",
        "                     [9, 0]]).T\n",
        "B_pt"
      ],
      "metadata": {
        "colab": {
          "base_uri": "https://localhost:8080/"
        },
        "id": "WNrdlIvLFtyE",
        "outputId": "2750314e-2627-4e4d-e1f7-04d5301c82a1"
      },
      "execution_count": 152,
      "outputs": [
        {
          "output_type": "execute_result",
          "data": {
            "text/plain": [
              "tensor([[1, 9],\n",
              "        [2, 0]])"
            ]
          },
          "metadata": {},
          "execution_count": 152
        }
      ]
    },
    {
      "cell_type": "code",
      "source": [
        "torch.matmul(A_pt, B_pt)"
      ],
      "metadata": {
        "id": "psfHqhu0IUVI",
        "outputId": "bd473ee1-e39b-4d6c-9d6d-7eb4f1d31b90",
        "colab": {
          "base_uri": "https://localhost:8080/"
        }
      },
      "execution_count": 153,
      "outputs": [
        {
          "output_type": "execute_result",
          "data": {
            "text/plain": [
              "tensor([[11, 27],\n",
              "        [17, 45],\n",
              "        [23, 63]])"
            ]
          },
          "metadata": {},
          "execution_count": 153
        }
      ]
    },
    {
      "cell_type": "code",
      "source": [
        "B_tf =tf.convert_to_tensor(B, dtype=tf.int32)\n",
        "B_tf"
      ],
      "metadata": {
        "id": "kEt55XxAIZet",
        "outputId": "1d23613f-0652-4bde-e21f-19990f4f31b0",
        "colab": {
          "base_uri": "https://localhost:8080/"
        }
      },
      "execution_count": 156,
      "outputs": [
        {
          "output_type": "execute_result",
          "data": {
            "text/plain": [
              "<tf.Tensor: shape=(2, 2), dtype=int32, numpy=\n",
              "array([[1, 9],\n",
              "       [2, 0]], dtype=int32)>"
            ]
          },
          "metadata": {},
          "execution_count": 156
        }
      ]
    },
    {
      "cell_type": "code",
      "source": [
        "tf.matmul(A_tf, B_tf)"
      ],
      "metadata": {
        "id": "2Jq_ew_-IfPo",
        "outputId": "cb3ac64f-6f10-4f18-c264-f05066caaad5",
        "colab": {
          "base_uri": "https://localhost:8080/"
        }
      },
      "execution_count": 157,
      "outputs": [
        {
          "output_type": "execute_result",
          "data": {
            "text/plain": [
              "<tf.Tensor: shape=(3, 2), dtype=int32, numpy=\n",
              "array([[11, 27],\n",
              "       [17, 45],\n",
              "       [23, 63]], dtype=int32)>"
            ]
          },
          "metadata": {},
          "execution_count": 157
        }
      ]
    },
    {
      "cell_type": "markdown",
      "source": [
        "###Symmetric Matrix\n",
        "\n",
        "\n",
        "\n",
        "*   Square (i.e. # of rows = # of columns)\n",
        "*   Matrix transpose should be same as original matrix\n",
        "\n"
      ],
      "metadata": {
        "id": "pRPzK4n-Iy6e"
      }
    },
    {
      "cell_type": "code",
      "source": [
        "X_sym = np.array([[0, 1, 2],\n",
        "                  [1, 7, 8],\n",
        "                  [2, 8, 9]])\n",
        "X_sym"
      ],
      "metadata": {
        "id": "c0IPNQcVPaW4",
        "outputId": "5421d26e-e046-47c6-d316-4bc8ac8fc00a",
        "colab": {
          "base_uri": "https://localhost:8080/"
        }
      },
      "execution_count": 166,
      "outputs": [
        {
          "output_type": "execute_result",
          "data": {
            "text/plain": [
              "array([[0, 1, 2],\n",
              "       [1, 7, 8],\n",
              "       [2, 8, 9]])"
            ]
          },
          "metadata": {},
          "execution_count": 166
        }
      ]
    },
    {
      "cell_type": "code",
      "source": [
        "X_sym.T"
      ],
      "metadata": {
        "id": "JKzbp3YMPib9",
        "outputId": "3bafef5d-ea77-476d-f3c7-ebedde2301f9",
        "colab": {
          "base_uri": "https://localhost:8080/"
        }
      },
      "execution_count": 167,
      "outputs": [
        {
          "output_type": "execute_result",
          "data": {
            "text/plain": [
              "array([[0, 1, 2],\n",
              "       [1, 7, 8],\n",
              "       [2, 8, 9]])"
            ]
          },
          "metadata": {},
          "execution_count": 167
        }
      ]
    },
    {
      "cell_type": "code",
      "source": [
        "X_sym == X_sym.T"
      ],
      "metadata": {
        "id": "2fk_mxI_PwvI",
        "outputId": "7ddb236a-3563-40f4-e112-8a40a4299478",
        "colab": {
          "base_uri": "https://localhost:8080/"
        }
      },
      "execution_count": 168,
      "outputs": [
        {
          "output_type": "execute_result",
          "data": {
            "text/plain": [
              "array([[ True,  True,  True],\n",
              "       [ True,  True,  True],\n",
              "       [ True,  True,  True]])"
            ]
          },
          "metadata": {},
          "execution_count": 168
        }
      ]
    },
    {
      "cell_type": "markdown",
      "source": [
        "###Identity Matrix"
      ],
      "metadata": {
        "id": "HZJ46bM-PzHi"
      }
    },
    {
      "cell_type": "code",
      "source": [
        "I = torch.tensor([[1, 0, 0],\n",
        "              [0, 1, 0],\n",
        "              [0, 0, 1]])\n",
        "I"
      ],
      "metadata": {
        "id": "jHWub-vKQfNa",
        "outputId": "6a85dfd1-e450-445b-b66e-55bf5a137608",
        "colab": {
          "base_uri": "https://localhost:8080/"
        }
      },
      "execution_count": 172,
      "outputs": [
        {
          "output_type": "execute_result",
          "data": {
            "text/plain": [
              "tensor([[1, 0, 0],\n",
              "        [0, 1, 0],\n",
              "        [0, 0, 1]])"
            ]
          },
          "metadata": {},
          "execution_count": 172
        }
      ]
    },
    {
      "cell_type": "code",
      "source": [
        "x_pt = torch.tensor ([25, 2, 5])\n",
        "x_pt"
      ],
      "metadata": {
        "id": "8W5RxIq-QlYB",
        "outputId": "cd9d8881-641d-4c15-8538-2a40955a4e5e",
        "colab": {
          "base_uri": "https://localhost:8080/"
        }
      },
      "execution_count": 173,
      "outputs": [
        {
          "output_type": "execute_result",
          "data": {
            "text/plain": [
              "tensor([25,  2,  5])"
            ]
          },
          "metadata": {},
          "execution_count": 173
        }
      ]
    },
    {
      "cell_type": "code",
      "source": [
        "torch.matmul(I, x_pt)"
      ],
      "metadata": {
        "id": "ulkaUv9KQxHN",
        "outputId": "2dc22fbf-0416-4a44-a7ef-b2b68e1f60bd",
        "colab": {
          "base_uri": "https://localhost:8080/"
        }
      },
      "execution_count": 174,
      "outputs": [
        {
          "output_type": "execute_result",
          "data": {
            "text/plain": [
              "tensor([25,  2,  5])"
            ]
          },
          "metadata": {},
          "execution_count": 174
        }
      ]
    },
    {
      "cell_type": "code",
      "source": [
        "torch.matmul(I, torch.tensor([[10, 15],\n",
        "                             [20, 25],\n",
        "                             [30, 35]]))"
      ],
      "metadata": {
        "id": "09_EfBoKQznZ",
        "outputId": "90fda6e6-836f-4238-b98a-a389b34b8700",
        "colab": {
          "base_uri": "https://localhost:8080/"
        }
      },
      "execution_count": 175,
      "outputs": [
        {
          "output_type": "execute_result",
          "data": {
            "text/plain": [
              "tensor([[10, 15],\n",
              "        [20, 25],\n",
              "        [30, 35]])"
            ]
          },
          "metadata": {},
          "execution_count": 175
        }
      ]
    },
    {
      "cell_type": "code",
      "source": [],
      "metadata": {
        "id": "qIqaY5ZnRTOy"
      },
      "execution_count": null,
      "outputs": []
    }
  ],
  "metadata": {
    "language_info": {
      "name": "python"
    },
    "orig_nbformat": 4,
    "colab": {
      "provenance": []
    },
    "kernelspec": {
      "name": "python3",
      "display_name": "Python 3"
    },
    "gpuClass": "standard"
  },
  "nbformat": 4,
  "nbformat_minor": 0
}