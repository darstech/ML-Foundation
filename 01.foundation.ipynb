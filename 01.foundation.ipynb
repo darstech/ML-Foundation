{
  "cells": [
    {
      "cell_type": "markdown",
      "source": [
        "#####Ref: https://github.com/jonkrohn/ML-foundations/blob/master/notebooks/1-intro-to-linear-algebra.ipynb"
      ],
      "metadata": {
        "id": "12B4THEZS_W7"
      }
    },
    {
      "cell_type": "code",
      "execution_count": 1,
      "metadata": {
        "id": "E4V2XHmTSggU"
      },
      "outputs": [],
      "source": [
        "import numpy as np\n",
        "import matplotlib.pyplot as plt\n"
      ]
    },
    {
      "cell_type": "code",
      "source": [
        "t = np.linspace(0, 40, 1000)  # start, finish, & points"
      ],
      "metadata": {
        "id": "nyfzSlADSvxq"
      },
      "execution_count": 2,
      "outputs": []
    },
    {
      "cell_type": "markdown",
      "source": [
        "Distance travelled by robber:d = 2.5t"
      ],
      "metadata": {
        "id": "7qf4PP9qTEbM"
      }
    },
    {
      "cell_type": "code",
      "source": [
        "d_r = 2.5 * t"
      ],
      "metadata": {
        "id": "br52Dow_S0pC"
      },
      "execution_count": 3,
      "outputs": []
    },
    {
      "cell_type": "markdown",
      "source": [
        "Distance travelled by sheriff:*d = 3(t-5)*"
      ],
      "metadata": {
        "id": "y3d8AANUTSOq"
      }
    },
    {
      "cell_type": "code",
      "source": [
        "d_s = 3 * (t - 5)"
      ],
      "metadata": {
        "id": "tRe3IMfNTeKz"
      },
      "execution_count": 4,
      "outputs": []
    },
    {
      "cell_type": "code",
      "source": [
        "# Visualize it\n",
        "fig, ax = plt.subplots()\n",
        "plt.title(\"A Bank Robber Caught\")\n",
        "plt.xlabel(\"Time (in minutes)\")\n",
        "plt.ylabel(\"Distance (in km)\")\n",
        "ax.set_xlim([0,40])\n",
        "ax.set_ylim([0,100])\n",
        "ax.plot(t, d_r, c=\"green\")\n",
        "ax.plot(t, d_s, c=\"brown\")\n",
        "plt.axvline(x=30, color=\"purple\", linestyle=\"--\")\n",
        "_ = plt.axhline(y=75, color=\"purple\", linestyle=\"--\")"
      ],
      "metadata": {
        "id": "l6S46bouTlYz",
        "outputId": "50d124e2-f81d-4a4f-9630-38bf71df7f89",
        "colab": {
          "base_uri": "https://localhost:8080/",
          "height": 295
        }
      },
      "execution_count": 5,
      "outputs": [
        {
          "output_type": "display_data",
          "data": {
            "text/plain": [
              "<Figure size 432x288 with 1 Axes>"
            ],
            "image/png": "[encoded data removed]"
          },
          "metadata": {
            "needs_background": "light"
          }
        }
      ]
    },
    {
      "cell_type": "markdown",
      "source": [
        "###Scalars (Rank 0 Tensors) in Base Python"
      ],
      "metadata": {
        "id": "IVJd16DCYfXQ"
      }
    },
    {
      "cell_type": "code",
      "source": [
        "x = 25\n",
        "x"
      ],
      "metadata": {
        "id": "kqDBlknWYhP8",
        "outputId": "d96b33aa-b845-43ff-af24-6ed49c822f99",
        "colab": {
          "base_uri": "https://localhost:8080/"
        }
      },
      "execution_count": 6,
      "outputs": [
        {
          "output_type": "execute_result",
          "data": {
            "text/plain": [
              "25"
            ]
          },
          "metadata": {},
          "execution_count": 6
        }
      ]
    },
    {
      "cell_type": "code",
      "source": [
        "type(x)"
      ],
      "metadata": {
        "id": "zksUp_0TYkPD",
        "outputId": "df78f0d8-af83-406f-8245-3f195c89e0f6",
        "colab": {
          "base_uri": "https://localhost:8080/"
        }
      },
      "execution_count": 7,
      "outputs": [
        {
          "output_type": "execute_result",
          "data": {
            "text/plain": [
              "int"
            ]
          },
          "metadata": {},
          "execution_count": 7
        }
      ]
    },
    {
      "cell_type": "code",
      "source": [
        "y = 3"
      ],
      "metadata": {
        "id": "eTLzJIHtYp37"
      },
      "execution_count": 8,
      "outputs": []
    },
    {
      "cell_type": "code",
      "source": [
        "py_sum = x + y\n",
        "py_sum"
      ],
      "metadata": {
        "id": "cJ5_mQJkYroq",
        "outputId": "0794f254-c49a-40bd-c684-b06fcd971a9f",
        "colab": {
          "base_uri": "https://localhost:8080/"
        }
      },
      "execution_count": 9,
      "outputs": [
        {
          "output_type": "execute_result",
          "data": {
            "text/plain": [
              "28"
            ]
          },
          "metadata": {},
          "execution_count": 9
        }
      ]
    },
    {
      "cell_type": "code",
      "source": [
        "type(py_sum)"
      ],
      "metadata": {
        "id": "eQtSn5kBYvKL",
        "outputId": "ea99d685-dc07-4e5a-9ec4-b98f9358e8f8",
        "colab": {
          "base_uri": "https://localhost:8080/"
        }
      },
      "execution_count": 10,
      "outputs": [
        {
          "output_type": "execute_result",
          "data": {
            "text/plain": [
              "int"
            ]
          },
          "metadata": {},
          "execution_count": 10
        }
      ]
    },
    {
      "cell_type": "code",
      "source": [
        "x_float = 25.0\n",
        "float_sum = x_float + y\n",
        "float_sum"
      ],
      "metadata": {
        "id": "V8pZYCwsYviV",
        "outputId": "a454d680-b8f0-4fe7-e183-913b231971d1",
        "colab": {
          "base_uri": "https://localhost:8080/"
        }
      },
      "execution_count": 11,
      "outputs": [
        {
          "output_type": "execute_result",
          "data": {
            "text/plain": [
              "28.0"
            ]
          },
          "metadata": {},
          "execution_count": 11
        }
      ]
    },
    {
      "cell_type": "code",
      "source": [
        "type(float_sum)"
      ],
      "metadata": {
        "id": "QihsmQ-BYwQB",
        "outputId": "c54ebb20-f87c-4648-9ddb-eb697bbd0cae",
        "colab": {
          "base_uri": "https://localhost:8080/"
        }
      },
      "execution_count": 12,
      "outputs": [
        {
          "output_type": "execute_result",
          "data": {
            "text/plain": [
              "float"
            ]
          },
          "metadata": {},
          "execution_count": 12
        }
      ]
    },
    {
      "cell_type": "markdown",
      "source": [
        "####Scalars in PyTorch"
      ],
      "metadata": {
        "id": "3uzrQDjpY4EH"
      }
    },
    {
      "cell_type": "code",
      "source": [
        "import torch"
      ],
      "metadata": {
        "id": "w3wy0Ah6YwNG"
      },
      "execution_count": 13,
      "outputs": []
    },
    {
      "cell_type": "code",
      "source": [
        "x_pt = torch.tensor(25) # type specification is optional, e.g.: dtype=torch.float16\n",
        "x_pt"
      ],
      "metadata": {
        "id": "qLPO4LivYwJ1",
        "outputId": "36186236-e18c-487b-a86c-7656e422b58f",
        "colab": {
          "base_uri": "https://localhost:8080/"
        }
      },
      "execution_count": 14,
      "outputs": [
        {
          "output_type": "execute_result",
          "data": {
            "text/plain": [
              "tensor(25)"
            ]
          },
          "metadata": {},
          "execution_count": 14
        }
      ]
    },
    {
      "cell_type": "code",
      "source": [
        "x_pt.shape"
      ],
      "metadata": {
        "id": "lp2DNJkSYwFr",
        "outputId": "44f46434-b6ed-47c0-d2d1-ee895256ecf0",
        "colab": {
          "base_uri": "https://localhost:8080/"
        }
      },
      "execution_count": 15,
      "outputs": [
        {
          "output_type": "execute_result",
          "data": {
            "text/plain": [
              "torch.Size([])"
            ]
          },
          "metadata": {},
          "execution_count": 15
        }
      ]
    },
    {
      "cell_type": "markdown",
      "source": [
        "####Scalars in TensorFlow"
      ],
      "metadata": {
        "id": "EKXWZ18dZF2d"
      }
    },
    {
      "cell_type": "code",
      "source": [
        "import tensorflow as tf\n"
      ],
      "metadata": {
        "id": "Rgmd9h0FYv_R"
      },
      "execution_count": 16,
      "outputs": []
    },
    {
      "cell_type": "code",
      "source": [
        "x_tf = tf.Variable(25, dtype=tf.int16) # dtype is optional\n",
        "x_tf"
      ],
      "metadata": {
        "id": "GlMpKH8OYv2v",
        "outputId": "1f840aff-a8d7-4a8e-bd4b-214f900c4891",
        "colab": {
          "base_uri": "https://localhost:8080/"
        }
      },
      "execution_count": 17,
      "outputs": [
        {
          "output_type": "execute_result",
          "data": {
            "text/plain": [
              "<tf.Variable 'Variable:0' shape=() dtype=int16, numpy=25>"
            ]
          },
          "metadata": {},
          "execution_count": 17
        }
      ]
    },
    {
      "cell_type": "code",
      "source": [
        "x_tf.shape"
      ],
      "metadata": {
        "id": "qkYhcW0pZSr1",
        "outputId": "1a4178a6-b764-4534-d31e-9f257b1c1490",
        "colab": {
          "base_uri": "https://localhost:8080/"
        }
      },
      "execution_count": 18,
      "outputs": [
        {
          "output_type": "execute_result",
          "data": {
            "text/plain": [
              "TensorShape([])"
            ]
          },
          "metadata": {},
          "execution_count": 18
        }
      ]
    },
    {
      "cell_type": "code",
      "source": [
        "y_tf = tf.Variable(3, dtype=tf.int16)"
      ],
      "metadata": {
        "id": "3CsJdYdJZSoV"
      },
      "execution_count": 19,
      "outputs": []
    },
    {
      "cell_type": "code",
      "source": [
        "x_tf + y_tf"
      ],
      "metadata": {
        "id": "UYyib9lFZSl7",
        "outputId": "647dc3dd-cbd4-4634-87e9-dd7df3ef16e9",
        "colab": {
          "base_uri": "https://localhost:8080/"
        }
      },
      "execution_count": 20,
      "outputs": [
        {
          "output_type": "execute_result",
          "data": {
            "text/plain": [
              "<tf.Tensor: shape=(), dtype=int16, numpy=28>"
            ]
          },
          "metadata": {},
          "execution_count": 20
        }
      ]
    },
    {
      "cell_type": "code",
      "source": [
        "tf_sum = tf.add(x_tf, y_tf)\n",
        "tf_sum"
      ],
      "metadata": {
        "id": "kos9jGAtZSi-",
        "outputId": "72d3fec9-9952-4704-ed5b-0aab0ea71742",
        "colab": {
          "base_uri": "https://localhost:8080/"
        }
      },
      "execution_count": 21,
      "outputs": [
        {
          "output_type": "execute_result",
          "data": {
            "text/plain": [
              "<tf.Tensor: shape=(), dtype=int16, numpy=28>"
            ]
          },
          "metadata": {},
          "execution_count": 21
        }
      ]
    },
    {
      "cell_type": "code",
      "source": [
        "tf_sum.numpy() # note that NumPy operations automatically convert tensors to NumPy arrays, and vice versa"
      ],
      "metadata": {
        "id": "VsnkPRKMZSga",
        "outputId": "6217eb12-56e2-4e09-df29-53cb8644ad8e",
        "colab": {
          "base_uri": "https://localhost:8080/"
        }
      },
      "execution_count": 22,
      "outputs": [
        {
          "output_type": "execute_result",
          "data": {
            "text/plain": [
              "28"
            ]
          },
          "metadata": {},
          "execution_count": 22
        }
      ]
    },
    {
      "cell_type": "code",
      "source": [
        "type(tf_sum.numpy())"
      ],
      "metadata": {
        "id": "yyq7cncVZSdz",
        "outputId": "e9faaa0a-b6cf-4995-e51c-8a718f9208fc",
        "colab": {
          "base_uri": "https://localhost:8080/"
        }
      },
      "execution_count": 23,
      "outputs": [
        {
          "output_type": "execute_result",
          "data": {
            "text/plain": [
              "numpy.int16"
            ]
          },
          "metadata": {},
          "execution_count": 23
        }
      ]
    },
    {
      "cell_type": "code",
      "source": [
        "tf_float = tf.Variable(25., dtype=tf.float16)\n",
        "tf_float"
      ],
      "metadata": {
        "id": "Bl11pRAqZSau",
        "outputId": "66d261f7-bf9f-4d5c-9a3f-77fa4078c1fd",
        "colab": {
          "base_uri": "https://localhost:8080/"
        }
      },
      "execution_count": 24,
      "outputs": [
        {
          "output_type": "execute_result",
          "data": {
            "text/plain": [
              "<tf.Variable 'Variable:0' shape=() dtype=float16, numpy=25.0>"
            ]
          },
          "metadata": {},
          "execution_count": 24
        }
      ]
    },
    {
      "cell_type": "markdown",
      "source": [
        "###Vectors (Rank 1 Tensors) in NumPy"
      ],
      "metadata": {
        "id": "1kUUErYbZm5p"
      }
    },
    {
      "cell_type": "code",
      "source": [
        "x = np.array([25, 2, 5]) # type argument is optional, e.g.: dtype=np.float16\n",
        "x"
      ],
      "metadata": {
        "id": "kbukC1lmZSYJ",
        "outputId": "8300ca9a-7ba3-43ff-f3b4-c761b363ea87",
        "colab": {
          "base_uri": "https://localhost:8080/"
        }
      },
      "execution_count": 25,
      "outputs": [
        {
          "output_type": "execute_result",
          "data": {
            "text/plain": [
              "array([25,  2,  5])"
            ]
          },
          "metadata": {},
          "execution_count": 25
        }
      ]
    },
    {
      "cell_type": "code",
      "source": [
        "len(x)"
      ],
      "metadata": {
        "id": "3TslRlvNZSVT",
        "outputId": "ed206ab7-2a9c-4659-f68b-d6a9e410d0c1",
        "colab": {
          "base_uri": "https://localhost:8080/"
        }
      },
      "execution_count": 26,
      "outputs": [
        {
          "output_type": "execute_result",
          "data": {
            "text/plain": [
              "3"
            ]
          },
          "metadata": {},
          "execution_count": 26
        }
      ]
    },
    {
      "cell_type": "code",
      "source": [
        "x.shape"
      ],
      "metadata": {
        "id": "wNpkdPrmZSSi",
        "outputId": "eb57c88d-4e5f-4ad8-e163-f51445c090a7",
        "colab": {
          "base_uri": "https://localhost:8080/"
        }
      },
      "execution_count": 27,
      "outputs": [
        {
          "output_type": "execute_result",
          "data": {
            "text/plain": [
              "(3,)"
            ]
          },
          "metadata": {},
          "execution_count": 27
        }
      ]
    },
    {
      "cell_type": "code",
      "source": [
        "type(x)"
      ],
      "metadata": {
        "id": "_jpUqExaZSPl",
        "outputId": "31e42e66-5f3e-4e92-db8d-8fb3d5adf231",
        "colab": {
          "base_uri": "https://localhost:8080/"
        }
      },
      "execution_count": 28,
      "outputs": [
        {
          "output_type": "execute_result",
          "data": {
            "text/plain": [
              "numpy.ndarray"
            ]
          },
          "metadata": {},
          "execution_count": 28
        }
      ]
    },
    {
      "cell_type": "code",
      "source": [
        "x.ndim"
      ],
      "metadata": {
        "id": "KMB_7KplZSMX",
        "outputId": "f21607b7-3a52-4724-ef1f-b5dab51f378e",
        "colab": {
          "base_uri": "https://localhost:8080/"
        }
      },
      "execution_count": 29,
      "outputs": [
        {
          "output_type": "execute_result",
          "data": {
            "text/plain": [
              "1"
            ]
          },
          "metadata": {},
          "execution_count": 29
        }
      ]
    },
    {
      "cell_type": "code",
      "source": [
        "x[0] # zero-indexed"
      ],
      "metadata": {
        "id": "CfpovbUOZ5Fn",
        "outputId": "521e9622-6d91-4081-c561-ef0c6d45499d",
        "colab": {
          "base_uri": "https://localhost:8080/"
        }
      },
      "execution_count": 30,
      "outputs": [
        {
          "output_type": "execute_result",
          "data": {
            "text/plain": [
              "25"
            ]
          },
          "metadata": {},
          "execution_count": 30
        }
      ]
    },
    {
      "cell_type": "code",
      "source": [
        "type(x[0])"
      ],
      "metadata": {
        "id": "ZM0i1EaJZ5CJ",
        "outputId": "f29a57cd-4e89-47ae-aa14-a5ee652147af",
        "colab": {
          "base_uri": "https://localhost:8080/"
        }
      },
      "execution_count": 31,
      "outputs": [
        {
          "output_type": "execute_result",
          "data": {
            "text/plain": [
              "numpy.int64"
            ]
          },
          "metadata": {},
          "execution_count": 31
        }
      ]
    },
    {
      "cell_type": "markdown",
      "source": [
        "####Vector Transposition"
      ],
      "metadata": {
        "id": "tiinEtoBZ-eP"
      }
    },
    {
      "cell_type": "code",
      "source": [
        "# Transposing a regular 1-D array has no effect...\n",
        "x_t = x.T\n",
        "x_t"
      ],
      "metadata": {
        "id": "4GrB0DfvZ4_L",
        "outputId": "a179c517-1895-48c5-d16d-13b8d5788f7e",
        "colab": {
          "base_uri": "https://localhost:8080/"
        }
      },
      "execution_count": 32,
      "outputs": [
        {
          "output_type": "execute_result",
          "data": {
            "text/plain": [
              "array([25,  2,  5])"
            ]
          },
          "metadata": {},
          "execution_count": 32
        }
      ]
    },
    {
      "cell_type": "code",
      "source": [
        "x_t.shape"
      ],
      "metadata": {
        "id": "Cih-yl2TZ489",
        "outputId": "b7c955cb-1174-4fe6-f6b4-dab35918ba3c",
        "colab": {
          "base_uri": "https://localhost:8080/"
        }
      },
      "execution_count": 33,
      "outputs": [
        {
          "output_type": "execute_result",
          "data": {
            "text/plain": [
              "(3,)"
            ]
          },
          "metadata": {},
          "execution_count": 33
        }
      ]
    },
    {
      "cell_type": "code",
      "source": [
        "# but it does when we use nested \"matrix-style\" brackets: \n",
        "y = np.array([[25, 2, 5]])\n",
        "y"
      ],
      "metadata": {
        "id": "yAESjj0EZ456",
        "outputId": "cf0862f5-c29b-4e0e-fe8c-7d0dfb6eb844",
        "colab": {
          "base_uri": "https://localhost:8080/"
        }
      },
      "execution_count": 34,
      "outputs": [
        {
          "output_type": "execute_result",
          "data": {
            "text/plain": [
              "array([[25,  2,  5]])"
            ]
          },
          "metadata": {},
          "execution_count": 34
        }
      ]
    },
    {
      "cell_type": "code",
      "source": [
        "y.shape"
      ],
      "metadata": {
        "id": "o9lAIhOOZ43K",
        "outputId": "a54574ed-da79-422c-f793-d021aaec5379",
        "colab": {
          "base_uri": "https://localhost:8080/"
        }
      },
      "execution_count": 35,
      "outputs": [
        {
          "output_type": "execute_result",
          "data": {
            "text/plain": [
              "(1, 3)"
            ]
          },
          "metadata": {},
          "execution_count": 35
        }
      ]
    },
    {
      "cell_type": "code",
      "source": [
        "y_t = y.T\n",
        "y_t"
      ],
      "metadata": {
        "id": "4J4-okFUZ400",
        "outputId": "6dd33a06-85f6-46a8-c4bf-c168380b86d8",
        "colab": {
          "base_uri": "https://localhost:8080/"
        }
      },
      "execution_count": 36,
      "outputs": [
        {
          "output_type": "execute_result",
          "data": {
            "text/plain": [
              "array([[25],\n",
              "       [ 2],\n",
              "       [ 5]])"
            ]
          },
          "metadata": {},
          "execution_count": 36
        }
      ]
    },
    {
      "cell_type": "code",
      "source": [
        "y_t.shape # this is a column vector as it has 3 rows and 1 column"
      ],
      "metadata": {
        "id": "YlvO7MPxZ4x4",
        "outputId": "ce2f854c-5300-4585-c5f0-f4eab8bfefa5",
        "colab": {
          "base_uri": "https://localhost:8080/"
        }
      },
      "execution_count": 37,
      "outputs": [
        {
          "output_type": "execute_result",
          "data": {
            "text/plain": [
              "(3, 1)"
            ]
          },
          "metadata": {},
          "execution_count": 37
        }
      ]
    },
    {
      "cell_type": "code",
      "source": [
        "# Column vector can be transposed back to original row vector: \n",
        "y_t.T "
      ],
      "metadata": {
        "id": "S3V0iRUOZ4vJ",
        "outputId": "0732a1d9-e1b8-411f-cbd4-7219332b9870",
        "colab": {
          "base_uri": "https://localhost:8080/"
        }
      },
      "execution_count": 38,
      "outputs": [
        {
          "output_type": "execute_result",
          "data": {
            "text/plain": [
              "array([[25,  2,  5]])"
            ]
          },
          "metadata": {},
          "execution_count": 38
        }
      ]
    },
    {
      "cell_type": "code",
      "source": [
        "y_t.T.shape"
      ],
      "metadata": {
        "id": "-NIJFKigZ4en",
        "outputId": "fe7c6e94-95d0-4098-bc7a-5016110b35da",
        "colab": {
          "base_uri": "https://localhost:8080/"
        }
      },
      "execution_count": 39,
      "outputs": [
        {
          "output_type": "execute_result",
          "data": {
            "text/plain": [
              "(1, 3)"
            ]
          },
          "metadata": {},
          "execution_count": 39
        }
      ]
    },
    {
      "cell_type": "markdown",
      "source": [
        "####Zero Vectors\n",
        "#####Have no effect if added to another vector"
      ],
      "metadata": {
        "id": "_SuAQqp7aoae"
      }
    },
    {
      "cell_type": "code",
      "source": [
        "z = np.zeros(3) \n",
        "z"
      ],
      "metadata": {
        "id": "wXNu9q7Yamp-",
        "outputId": "6d6e9835-86df-4bfe-e271-cff6a1fe22f4",
        "colab": {
          "base_uri": "https://localhost:8080/"
        }
      },
      "execution_count": 40,
      "outputs": [
        {
          "output_type": "execute_result",
          "data": {
            "text/plain": [
              "array([0., 0., 0.])"
            ]
          },
          "metadata": {},
          "execution_count": 40
        }
      ]
    },
    {
      "cell_type": "markdown",
      "source": [
        "####Vectors in PyTorch and TensorFlow"
      ],
      "metadata": {
        "id": "Y-nPbc_QaxGc"
      }
    },
    {
      "cell_type": "code",
      "source": [
        "x_pt = torch.tensor([25, 2, 5])\n",
        "x_pt"
      ],
      "metadata": {
        "id": "KEW2DzOmamm5",
        "outputId": "b68ac788-66a0-4c64-9290-957676d3b976",
        "colab": {
          "base_uri": "https://localhost:8080/"
        }
      },
      "execution_count": 41,
      "outputs": [
        {
          "output_type": "execute_result",
          "data": {
            "text/plain": [
              "tensor([25,  2,  5])"
            ]
          },
          "metadata": {},
          "execution_count": 41
        }
      ]
    },
    {
      "cell_type": "code",
      "source": [
        "x_tf = tf.Variable([25, 2, 5])\n",
        "x_tf"
      ],
      "metadata": {
        "id": "JrHa9wjeamj-",
        "outputId": "954b4b37-461a-42ea-d7ce-c55f87c64972",
        "colab": {
          "base_uri": "https://localhost:8080/"
        }
      },
      "execution_count": 42,
      "outputs": [
        {
          "output_type": "execute_result",
          "data": {
            "text/plain": [
              "<tf.Variable 'Variable:0' shape=(3,) dtype=int32, numpy=array([25,  2,  5], dtype=int32)>"
            ]
          },
          "metadata": {},
          "execution_count": 42
        }
      ]
    },
    {
      "cell_type": "markdown",
      "source": [
        "### L2 Norm"
      ],
      "metadata": {
        "id": "eej5vN4Aa-SP"
      }
    },
    {
      "cell_type": "code",
      "source": [
        "x"
      ],
      "metadata": {
        "id": "Q1vT-ST5amg4",
        "outputId": "f9346289-c8ae-49c5-cb88-601916ee5ad5",
        "colab": {
          "base_uri": "https://localhost:8080/"
        }
      },
      "execution_count": 43,
      "outputs": [
        {
          "output_type": "execute_result",
          "data": {
            "text/plain": [
              "array([25,  2,  5])"
            ]
          },
          "metadata": {},
          "execution_count": 43
        }
      ]
    },
    {
      "cell_type": "code",
      "source": [
        "(25**2 + 2**2 + 5**2)**(1/2)"
      ],
      "metadata": {
        "id": "T52eJiW-amd1",
        "outputId": "339e3c8f-19bb-43d5-b42f-819a6352869d",
        "colab": {
          "base_uri": "https://localhost:8080/"
        }
      },
      "execution_count": 44,
      "outputs": [
        {
          "output_type": "execute_result",
          "data": {
            "text/plain": [
              "25.573423705088842"
            ]
          },
          "metadata": {},
          "execution_count": 44
        }
      ]
    },
    {
      "cell_type": "code",
      "source": [
        "np.linalg.norm(x)"
      ],
      "metadata": {
        "id": "8dpzBnpUamay",
        "outputId": "cb4fdbff-3cf0-4577-a672-cacde4b7dc64",
        "colab": {
          "base_uri": "https://localhost:8080/"
        }
      },
      "execution_count": 45,
      "outputs": [
        {
          "output_type": "execute_result",
          "data": {
            "text/plain": [
              "25.573423705088842"
            ]
          },
          "metadata": {},
          "execution_count": 45
        }
      ]
    },
    {
      "cell_type": "markdown",
      "source": [
        "#####So, if units in this 3-dimensional vector space are meters, then the vector \n",
        " has a length of 25.6m"
      ],
      "metadata": {
        "id": "aTSD_PDebKNQ"
      }
    },
    {
      "cell_type": "markdown",
      "source": [
        "###L1 Norm"
      ],
      "metadata": {
        "id": "ry8CPvx2bN2O"
      }
    },
    {
      "cell_type": "code",
      "source": [
        "x"
      ],
      "metadata": {
        "id": "eXx9y8RiamXc",
        "outputId": "ccfa300f-ee6e-4566-a478-db336b3ffac8",
        "colab": {
          "base_uri": "https://localhost:8080/"
        }
      },
      "execution_count": 46,
      "outputs": [
        {
          "output_type": "execute_result",
          "data": {
            "text/plain": [
              "array([25,  2,  5])"
            ]
          },
          "metadata": {},
          "execution_count": 46
        }
      ]
    },
    {
      "cell_type": "code",
      "source": [
        "(25**2 + 2**2 + 5**2)"
      ],
      "metadata": {
        "id": "lTfDMFwzamNg",
        "outputId": "0b7fe4d6-0c00-42d6-e2c7-e2fef495df3e",
        "colab": {
          "base_uri": "https://localhost:8080/"
        }
      },
      "execution_count": 47,
      "outputs": [
        {
          "output_type": "execute_result",
          "data": {
            "text/plain": [
              "654"
            ]
          },
          "metadata": {},
          "execution_count": 47
        }
      ]
    },
    {
      "cell_type": "code",
      "source": [
        "np.dot(x, x)"
      ],
      "metadata": {
        "id": "vFvuH_4dZR81",
        "outputId": "015c4c6b-62b2-48c9-a4cf-585f335b6c52",
        "colab": {
          "base_uri": "https://localhost:8080/"
        }
      },
      "execution_count": 48,
      "outputs": [
        {
          "output_type": "execute_result",
          "data": {
            "text/plain": [
              "654"
            ]
          },
          "metadata": {},
          "execution_count": 48
        }
      ]
    },
    {
      "cell_type": "markdown",
      "source": [
        "###Max Norm"
      ],
      "metadata": {
        "id": "kR6PbUiXbwIO"
      }
    },
    {
      "cell_type": "code",
      "source": [
        "x"
      ],
      "metadata": {
        "id": "PfTtwN0Ibufh",
        "outputId": "23f7b621-51ef-4b6d-b872-7579b8892d36",
        "colab": {
          "base_uri": "https://localhost:8080/"
        }
      },
      "execution_count": 49,
      "outputs": [
        {
          "output_type": "execute_result",
          "data": {
            "text/plain": [
              "array([25,  2,  5])"
            ]
          },
          "metadata": {},
          "execution_count": 49
        }
      ]
    },
    {
      "cell_type": "code",
      "source": [
        "np.max([np.abs(25), np.abs(2), np.abs(5)])"
      ],
      "metadata": {
        "id": "5dLsYujPbuZV",
        "outputId": "2edb181c-cf89-4f31-cdb6-b20b30c4ec91",
        "colab": {
          "base_uri": "https://localhost:8080/"
        }
      },
      "execution_count": 50,
      "outputs": [
        {
          "output_type": "execute_result",
          "data": {
            "text/plain": [
              "25"
            ]
          },
          "metadata": {},
          "execution_count": 50
        }
      ]
    },
    {
      "cell_type": "markdown",
      "source": [
        "###Orthogonal Vectors"
      ],
      "metadata": {
        "id": "hpR9ho7ob5zJ"
      }
    },
    {
      "cell_type": "code",
      "source": [
        "i = np.array([1, 0])\n",
        "i"
      ],
      "metadata": {
        "id": "fbcp3WYIb5c-",
        "outputId": "61e1a178-011e-42d2-b925-5a27272bdc02",
        "colab": {
          "base_uri": "https://localhost:8080/"
        }
      },
      "execution_count": 51,
      "outputs": [
        {
          "output_type": "execute_result",
          "data": {
            "text/plain": [
              "array([1, 0])"
            ]
          },
          "metadata": {},
          "execution_count": 51
        }
      ]
    },
    {
      "cell_type": "code",
      "source": [
        "j = np.array([0, 1])\n",
        "j"
      ],
      "metadata": {
        "id": "LOSAE1IRb5ZF",
        "outputId": "9f9b020f-a71a-4364-b1e7-31d4fc79d62d",
        "colab": {
          "base_uri": "https://localhost:8080/"
        }
      },
      "execution_count": 52,
      "outputs": [
        {
          "output_type": "execute_result",
          "data": {
            "text/plain": [
              "array([0, 1])"
            ]
          },
          "metadata": {},
          "execution_count": 52
        }
      ]
    },
    {
      "cell_type": "code",
      "source": [
        "np.dot(i, j)"
      ],
      "metadata": {
        "id": "VNovXluXb5Vn",
        "outputId": "2c8ea26d-ad20-4e37-c2ad-bf931fdd2319",
        "colab": {
          "base_uri": "https://localhost:8080/"
        }
      },
      "execution_count": 53,
      "outputs": [
        {
          "output_type": "execute_result",
          "data": {
            "text/plain": [
              "0"
            ]
          },
          "metadata": {},
          "execution_count": 53
        }
      ]
    },
    {
      "cell_type": "markdown",
      "source": [
        "###Matrices (Rank 2 Tensors) in NumPy"
      ],
      "metadata": {
        "id": "hfGeGO6idK1f"
      }
    },
    {
      "cell_type": "code",
      "source": [
        "X = np.array([[25, 2],\n",
        "              [5, 26],\n",
        "              [3, 7]])\n",
        "X"
      ],
      "metadata": {
        "id": "1_djS7bCdM7y",
        "outputId": "997f8889-2df1-4ca5-a3d8-6409ac3d13a9",
        "colab": {
          "base_uri": "https://localhost:8080/"
        }
      },
      "execution_count": 54,
      "outputs": [
        {
          "output_type": "execute_result",
          "data": {
            "text/plain": [
              "array([[25,  2],\n",
              "       [ 5, 26],\n",
              "       [ 3,  7]])"
            ]
          },
          "metadata": {},
          "execution_count": 54
        }
      ]
    },
    {
      "cell_type": "code",
      "source": [
        "X.shape"
      ],
      "metadata": {
        "id": "7hHtAyyMdM4G",
        "outputId": "d7830a7d-5455-4e03-fd8d-07a3f19f10e4",
        "colab": {
          "base_uri": "https://localhost:8080/"
        }
      },
      "execution_count": 55,
      "outputs": [
        {
          "output_type": "execute_result",
          "data": {
            "text/plain": [
              "(3, 2)"
            ]
          },
          "metadata": {},
          "execution_count": 55
        }
      ]
    },
    {
      "cell_type": "code",
      "source": [
        "X.size"
      ],
      "metadata": {
        "id": "MSMuLBwNdM1A",
        "outputId": "8b522437-bb30-413c-fde4-bfc0387a5d6f",
        "colab": {
          "base_uri": "https://localhost:8080/"
        }
      },
      "execution_count": 56,
      "outputs": [
        {
          "output_type": "execute_result",
          "data": {
            "text/plain": [
              "6"
            ]
          },
          "metadata": {},
          "execution_count": 56
        }
      ]
    },
    {
      "cell_type": "code",
      "source": [
        "# Select left column of matrix X (zero-indexed)\n",
        "X[:, 0]"
      ],
      "metadata": {
        "id": "VA6OGmLodMw5",
        "outputId": "030a72d6-39b9-419c-cf6c-5d5f0443956c",
        "colab": {
          "base_uri": "https://localhost:8080/"
        }
      },
      "execution_count": 57,
      "outputs": [
        {
          "output_type": "execute_result",
          "data": {
            "text/plain": [
              "array([25,  5,  3])"
            ]
          },
          "metadata": {},
          "execution_count": 57
        }
      ]
    },
    {
      "cell_type": "code",
      "source": [
        "# Select middle row of matrix X: \n",
        "X[1, :]"
      ],
      "metadata": {
        "id": "g9LTK9XEbuWB",
        "outputId": "eb75bdfa-4f22-448a-8042-4d87b9fb2613",
        "colab": {
          "base_uri": "https://localhost:8080/"
        }
      },
      "execution_count": 58,
      "outputs": [
        {
          "output_type": "execute_result",
          "data": {
            "text/plain": [
              "array([ 5, 26])"
            ]
          },
          "metadata": {},
          "execution_count": 58
        }
      ]
    },
    {
      "cell_type": "code",
      "source": [
        "# Another slicing-by-index example: \n",
        "X[0:2, 0:2]"
      ],
      "metadata": {
        "colab": {
          "base_uri": "https://localhost:8080/"
        },
        "id": "xiRMBdnAZltR",
        "outputId": "03362b1f-be3e-4c45-c91c-58ae5d89e8fd"
      },
      "execution_count": 59,
      "outputs": [
        {
          "output_type": "execute_result",
          "data": {
            "text/plain": [
              "array([[25,  2],\n",
              "       [ 5, 26]])"
            ]
          },
          "metadata": {},
          "execution_count": 59
        }
      ]
    },
    {
      "cell_type": "markdown",
      "source": [
        "###Matrices in PyTorch"
      ],
      "metadata": {
        "id": "Hfpi1fExaL-d"
      }
    },
    {
      "cell_type": "code",
      "source": [
        "X_pt = torch.tensor([[25, 2],\n",
        "                     [5, 26],\n",
        "                     [3, 7]])\n",
        "X_pt"
      ],
      "metadata": {
        "colab": {
          "base_uri": "https://localhost:8080/"
        },
        "id": "ww_ZXN2iZlo_",
        "outputId": "e2e8b954-9f65-4252-8433-d2079cdc470b"
      },
      "execution_count": 60,
      "outputs": [
        {
          "output_type": "execute_result",
          "data": {
            "text/plain": [
              "tensor([[25,  2],\n",
              "        [ 5, 26],\n",
              "        [ 3,  7]])"
            ]
          },
          "metadata": {},
          "execution_count": 60
        }
      ]
    },
    {
      "cell_type": "code",
      "source": [
        "X_pt.shape"
      ],
      "metadata": {
        "colab": {
          "base_uri": "https://localhost:8080/"
        },
        "id": "jfzW_0lHZll3",
        "outputId": "c2b539f7-0eef-445c-c720-9b1ae608eab6"
      },
      "execution_count": 61,
      "outputs": [
        {
          "output_type": "execute_result",
          "data": {
            "text/plain": [
              "torch.Size([3, 2])"
            ]
          },
          "metadata": {},
          "execution_count": 61
        }
      ]
    },
    {
      "cell_type": "code",
      "source": [
        "X_pt[1,:]"
      ],
      "metadata": {
        "colab": {
          "base_uri": "https://localhost:8080/"
        },
        "id": "IHJ0tik_Zljg",
        "outputId": "8615f88f-a8c6-437f-c0d9-6dfddcb50605"
      },
      "execution_count": 62,
      "outputs": [
        {
          "output_type": "execute_result",
          "data": {
            "text/plain": [
              "tensor([ 5, 26])"
            ]
          },
          "metadata": {},
          "execution_count": 62
        }
      ]
    },
    {
      "cell_type": "markdown",
      "source": [
        "###Matrices in TensorFlow"
      ],
      "metadata": {
        "id": "N5mcaRgaakqU"
      }
    },
    {
      "cell_type": "code",
      "source": [
        "X_tf = tf.Variable([[25, 2], \n",
        "                    [5, 26], \n",
        "                    [3, 7]])\n",
        "X_tf"
      ],
      "metadata": {
        "colab": {
          "base_uri": "https://localhost:8080/"
        },
        "id": "0eLo2m9rZlgz",
        "outputId": "c6ae35d8-e1a2-46dc-f6b4-80c3ff45f9a0"
      },
      "execution_count": 63,
      "outputs": [
        {
          "output_type": "execute_result",
          "data": {
            "text/plain": [
              "<tf.Variable 'Variable:0' shape=(3, 2) dtype=int32, numpy=\n",
              "array([[25,  2],\n",
              "       [ 5, 26],\n",
              "       [ 3,  7]], dtype=int32)>"
            ]
          },
          "metadata": {},
          "execution_count": 63
        }
      ]
    },
    {
      "cell_type": "code",
      "source": [
        "tf.rank(X_tf)"
      ],
      "metadata": {
        "colab": {
          "base_uri": "https://localhost:8080/"
        },
        "id": "t74gFX2iZldq",
        "outputId": "2e4cbf53-3b7c-43a1-e6e9-5def97360cdc"
      },
      "execution_count": 64,
      "outputs": [
        {
          "output_type": "execute_result",
          "data": {
            "text/plain": [
              "<tf.Tensor: shape=(), dtype=int32, numpy=2>"
            ]
          },
          "metadata": {},
          "execution_count": 64
        }
      ]
    },
    {
      "cell_type": "code",
      "source": [
        "tf.shape(X_tf)"
      ],
      "metadata": {
        "id": "plLZvM5xbuS0",
        "colab": {
          "base_uri": "https://localhost:8080/"
        },
        "outputId": "2818d119-2c94-488a-db3c-c1e96e55c545"
      },
      "execution_count": 65,
      "outputs": [
        {
          "output_type": "execute_result",
          "data": {
            "text/plain": [
              "<tf.Tensor: shape=(2,), dtype=int32, numpy=array([3, 2], dtype=int32)>"
            ]
          },
          "metadata": {},
          "execution_count": 65
        }
      ]
    },
    {
      "cell_type": "code",
      "source": [
        "X_tf[1, :]"
      ],
      "metadata": {
        "colab": {
          "base_uri": "https://localhost:8080/"
        },
        "id": "sR3vQ1oabAn9",
        "outputId": "96d40aa7-33ad-4ece-8dd7-16f4bef284ad"
      },
      "execution_count": 66,
      "outputs": [
        {
          "output_type": "execute_result",
          "data": {
            "text/plain": [
              "<tf.Tensor: shape=(2,), dtype=int32, numpy=array([ 5, 26], dtype=int32)>"
            ]
          },
          "metadata": {},
          "execution_count": 66
        }
      ]
    },
    {
      "cell_type": "code",
      "source": [],
      "metadata": {
        "id": "Gq5uAqzlbAlK"
      },
      "execution_count": 66,
      "outputs": []
    },
    {
      "cell_type": "markdown",
      "source": [
        "###Assignment"
      ],
      "metadata": {
        "id": "TJRp5hJsbAiv"
      }
    },
    {
      "cell_type": "code",
      "source": [
        "X1 = np.array([\n",
        "    [25],\n",
        "    [2],\n",
        "    [-3],\n",
        "    [23]])\n",
        "X1"
      ],
      "metadata": {
        "id": "9fR1iCMyUs5n",
        "outputId": "643cf6f0-64d1-4992-ae57-955471e41710",
        "colab": {
          "base_uri": "https://localhost:8080/"
        }
      },
      "execution_count": 67,
      "outputs": [
        {
          "output_type": "execute_result",
          "data": {
            "text/plain": [
              "array([[25],\n",
              "       [ 2],\n",
              "       [-3],\n",
              "       [23]])"
            ]
          },
          "metadata": {},
          "execution_count": 67
        }
      ]
    },
    {
      "cell_type": "code",
      "source": [
        "X1_t = X1.T\n",
        "X1_t"
      ],
      "metadata": {
        "id": "-6QuA3HIWwAG",
        "outputId": "34ada711-4899-4a3f-d6f2-0745d803875e",
        "colab": {
          "base_uri": "https://localhost:8080/"
        }
      },
      "execution_count": 68,
      "outputs": [
        {
          "output_type": "execute_result",
          "data": {
            "text/plain": [
              "array([[25,  2, -3, 23]])"
            ]
          },
          "metadata": {},
          "execution_count": 68
        }
      ]
    },
    {
      "cell_type": "code",
      "source": [
        "X1.shape, X1_t.shape"
      ],
      "metadata": {
        "id": "iehYhkQeWxw8",
        "outputId": "70e6f66a-fbee-4483-9aeb-930fcb23f9b3",
        "colab": {
          "base_uri": "https://localhost:8080/"
        }
      },
      "execution_count": 69,
      "outputs": [
        {
          "output_type": "execute_result",
          "data": {
            "text/plain": [
              "((4, 1), (1, 4))"
            ]
          },
          "metadata": {},
          "execution_count": 69
        }
      ]
    },
    {
      "cell_type": "markdown",
      "source": [
        "##Segment 2: Common Tensor Operations"
      ],
      "metadata": {
        "id": "kZOMQ8kEW5TQ"
      }
    },
    {
      "cell_type": "markdown",
      "source": [
        "###Tensor Transposition"
      ],
      "metadata": {
        "id": "6_S0E-_jXADE"
      }
    },
    {
      "cell_type": "code",
      "source": [
        "X"
      ],
      "metadata": {
        "colab": {
          "base_uri": "https://localhost:8080/"
        },
        "id": "Zq5iIiOTkCOY",
        "outputId": "1c5b7e1c-b1a8-4883-edc1-5c0eca9fe341"
      },
      "execution_count": 70,
      "outputs": [
        {
          "output_type": "execute_result",
          "data": {
            "text/plain": [
              "array([[25,  2],\n",
              "       [ 5, 26],\n",
              "       [ 3,  7]])"
            ]
          },
          "metadata": {},
          "execution_count": 70
        }
      ]
    },
    {
      "cell_type": "code",
      "source": [
        "X.T"
      ],
      "metadata": {
        "colab": {
          "base_uri": "https://localhost:8080/"
        },
        "id": "E2hQgGNAkCy_",
        "outputId": "74bb5933-19ce-45d8-970b-f37cb156694e"
      },
      "execution_count": 71,
      "outputs": [
        {
          "output_type": "execute_result",
          "data": {
            "text/plain": [
              "array([[25,  5,  3],\n",
              "       [ 2, 26,  7]])"
            ]
          },
          "metadata": {},
          "execution_count": 71
        }
      ]
    },
    {
      "cell_type": "code",
      "source": [
        "X_pt.T  #Transpose in PyTorch"
      ],
      "metadata": {
        "colab": {
          "base_uri": "https://localhost:8080/"
        },
        "id": "OlQoB5iqkYCl",
        "outputId": "b968b414-fbca-401c-825a-29d4a6191594"
      },
      "execution_count": 72,
      "outputs": [
        {
          "output_type": "execute_result",
          "data": {
            "text/plain": [
              "tensor([[25,  5,  3],\n",
              "        [ 2, 26,  7]])"
            ]
          },
          "metadata": {},
          "execution_count": 72
        }
      ]
    },
    {
      "cell_type": "code",
      "source": [
        "tf.transpose(X_tf)  #Transpose in Tensorflow"
      ],
      "metadata": {
        "colab": {
          "base_uri": "https://localhost:8080/"
        },
        "id": "twDafHmFkzOY",
        "outputId": "86416fb9-04ee-449a-cf82-d3428b22eabf"
      },
      "execution_count": 73,
      "outputs": [
        {
          "output_type": "execute_result",
          "data": {
            "text/plain": [
              "<tf.Tensor: shape=(2, 3), dtype=int32, numpy=\n",
              "array([[25,  5,  3],\n",
              "       [ 2, 26,  7]], dtype=int32)>"
            ]
          },
          "metadata": {},
          "execution_count": 73
        }
      ]
    },
    {
      "cell_type": "markdown",
      "source": [
        "###Basic Tensor Arithmetic\n",
        "\n",
        "Adding or multiplying with scalar applies operation to all elements and tensor shape is retained"
      ],
      "metadata": {
        "id": "8gYIrF8rk5OH"
      }
    },
    {
      "cell_type": "code",
      "source": [
        "X"
      ],
      "metadata": {
        "colab": {
          "base_uri": "https://localhost:8080/"
        },
        "id": "J5Z5YdN3mHD3",
        "outputId": "531f90f8-8bca-41a2-af4b-7e3cb6caef3a"
      },
      "execution_count": 74,
      "outputs": [
        {
          "output_type": "execute_result",
          "data": {
            "text/plain": [
              "array([[25,  2],\n",
              "       [ 5, 26],\n",
              "       [ 3,  7]])"
            ]
          },
          "metadata": {},
          "execution_count": 74
        }
      ]
    },
    {
      "cell_type": "code",
      "source": [
        "X*2"
      ],
      "metadata": {
        "colab": {
          "base_uri": "https://localhost:8080/"
        },
        "id": "3KVjfCjtlh6o",
        "outputId": "caf9de21-419b-4732-93d6-5a71633fa5e9"
      },
      "execution_count": 75,
      "outputs": [
        {
          "output_type": "execute_result",
          "data": {
            "text/plain": [
              "array([[50,  4],\n",
              "       [10, 52],\n",
              "       [ 6, 14]])"
            ]
          },
          "metadata": {},
          "execution_count": 75
        }
      ]
    },
    {
      "cell_type": "code",
      "source": [
        "X + 2"
      ],
      "metadata": {
        "colab": {
          "base_uri": "https://localhost:8080/"
        },
        "id": "Cid3RzWaljcJ",
        "outputId": "ada0d937-718a-4c53-dce3-87192b2621c4"
      },
      "execution_count": 76,
      "outputs": [
        {
          "output_type": "execute_result",
          "data": {
            "text/plain": [
              "array([[27,  4],\n",
              "       [ 7, 28],\n",
              "       [ 5,  9]])"
            ]
          },
          "metadata": {},
          "execution_count": 76
        }
      ]
    },
    {
      "cell_type": "markdown",
      "source": [
        "Note: PEMDAS"
      ],
      "metadata": {
        "id": "pAY34SSlmdvC"
      }
    },
    {
      "cell_type": "code",
      "source": [
        "X * 2 + 2"
      ],
      "metadata": {
        "colab": {
          "base_uri": "https://localhost:8080/"
        },
        "id": "jc4BSGvQmBiV",
        "outputId": "9a01caba-9d36-40c4-ac31-2ab6718d7e22"
      },
      "execution_count": 77,
      "outputs": [
        {
          "output_type": "execute_result",
          "data": {
            "text/plain": [
              "array([[52,  6],\n",
              "       [12, 54],\n",
              "       [ 8, 16]])"
            ]
          },
          "metadata": {},
          "execution_count": 77
        }
      ]
    },
    {
      "cell_type": "code",
      "source": [
        "X + 2 * 2"
      ],
      "metadata": {
        "colab": {
          "base_uri": "https://localhost:8080/"
        },
        "id": "I897uvYZmP0u",
        "outputId": "76c3383e-e088-4780-e51b-e6b001da55df"
      },
      "execution_count": 78,
      "outputs": [
        {
          "output_type": "execute_result",
          "data": {
            "text/plain": [
              "array([[29,  6],\n",
              "       [ 9, 30],\n",
              "       [ 7, 11]])"
            ]
          },
          "metadata": {},
          "execution_count": 78
        }
      ]
    },
    {
      "cell_type": "code",
      "source": [
        "X_pt*2+2  # Python operators are overloaded; could alternatively use torch.mul() or torch.add()"
      ],
      "metadata": {
        "colab": {
          "base_uri": "https://localhost:8080/"
        },
        "id": "wBiEGgQ2mY_X",
        "outputId": "8574be12-b7b0-4d28-fda3-2d77eaa44db7"
      },
      "execution_count": 79,
      "outputs": [
        {
          "output_type": "execute_result",
          "data": {
            "text/plain": [
              "tensor([[52,  6],\n",
              "        [12, 54],\n",
              "        [ 8, 16]])"
            ]
          },
          "metadata": {},
          "execution_count": 79
        }
      ]
    },
    {
      "cell_type": "code",
      "source": [
        "torch.add(torch.mul(X_pt, 2), 2)"
      ],
      "metadata": {
        "colab": {
          "base_uri": "https://localhost:8080/"
        },
        "id": "lMSUlM8R3JvL",
        "outputId": "b36c9d5e-4edb-4b54-c020-b5b68d3cd518"
      },
      "execution_count": 80,
      "outputs": [
        {
          "output_type": "execute_result",
          "data": {
            "text/plain": [
              "tensor([[52,  6],\n",
              "        [12, 54],\n",
              "        [ 8, 16]])"
            ]
          },
          "metadata": {},
          "execution_count": 80
        }
      ]
    },
    {
      "cell_type": "code",
      "source": [
        "X_tf * 2 + 2  # equivalent to tf.multiply() or tf.add()"
      ],
      "metadata": {
        "colab": {
          "base_uri": "https://localhost:8080/"
        },
        "id": "lE2thQ5k3cKZ",
        "outputId": "87138d04-2b02-4f94-f8d7-fb2e433ca391"
      },
      "execution_count": 81,
      "outputs": [
        {
          "output_type": "execute_result",
          "data": {
            "text/plain": [
              "<tf.Tensor: shape=(3, 2), dtype=int32, numpy=\n",
              "array([[52,  6],\n",
              "       [12, 54],\n",
              "       [ 8, 16]], dtype=int32)>"
            ]
          },
          "metadata": {},
          "execution_count": 81
        }
      ]
    },
    {
      "cell_type": "code",
      "source": [
        "tf.add(tf.multiply(X_tf, 2), 2)"
      ],
      "metadata": {
        "colab": {
          "base_uri": "https://localhost:8080/"
        },
        "id": "ATYErljN3jKV",
        "outputId": "242908ca-495c-4c8b-c7ab-a6b4312e43cb"
      },
      "execution_count": 82,
      "outputs": [
        {
          "output_type": "execute_result",
          "data": {
            "text/plain": [
              "<tf.Tensor: shape=(3, 2), dtype=int32, numpy=\n",
              "array([[52,  6],\n",
              "       [12, 54],\n",
              "       [ 8, 16]], dtype=int32)>"
            ]
          },
          "metadata": {},
          "execution_count": 82
        }
      ]
    },
    {
      "cell_type": "markdown",
      "source": [
        "#####If two tensors have the same size, operations are often by default applied element-wise. This is **not matrix multiplication** but is rather called **Hadamard product** or simply the **element-wise product**"
      ],
      "metadata": {
        "id": "X2i2LEFQ3vXC"
      }
    },
    {
      "cell_type": "code",
      "source": [
        "A = X + 2\n",
        "A"
      ],
      "metadata": {
        "colab": {
          "base_uri": "https://localhost:8080/"
        },
        "id": "A998Yd-94Wi5",
        "outputId": "47d159b6-5302-4c9d-c566-9742d9827372"
      },
      "execution_count": 83,
      "outputs": [
        {
          "output_type": "execute_result",
          "data": {
            "text/plain": [
              "array([[27,  4],\n",
              "       [ 7, 28],\n",
              "       [ 5,  9]])"
            ]
          },
          "metadata": {},
          "execution_count": 83
        }
      ]
    },
    {
      "cell_type": "code",
      "source": [
        "X"
      ],
      "metadata": {
        "colab": {
          "base_uri": "https://localhost:8080/"
        },
        "id": "H4iPGD7o_10d",
        "outputId": "ad167cac-60f8-4b97-eadd-452991ccd80c"
      },
      "execution_count": 84,
      "outputs": [
        {
          "output_type": "execute_result",
          "data": {
            "text/plain": [
              "array([[25,  2],\n",
              "       [ 5, 26],\n",
              "       [ 3,  7]])"
            ]
          },
          "metadata": {},
          "execution_count": 84
        }
      ]
    },
    {
      "cell_type": "code",
      "source": [
        "A + X"
      ],
      "metadata": {
        "colab": {
          "base_uri": "https://localhost:8080/"
        },
        "id": "yinYSlyl410N",
        "outputId": "c73463b4-41b7-4962-8029-d6bc28de4c04"
      },
      "execution_count": 85,
      "outputs": [
        {
          "output_type": "execute_result",
          "data": {
            "text/plain": [
              "array([[52,  6],\n",
              "       [12, 54],\n",
              "       [ 8, 16]])"
            ]
          },
          "metadata": {},
          "execution_count": 85
        }
      ]
    },
    {
      "cell_type": "code",
      "source": [
        "A * X"
      ],
      "metadata": {
        "colab": {
          "base_uri": "https://localhost:8080/"
        },
        "id": "rSGTkZ9K_uAj",
        "outputId": "ce9b096d-3251-483f-f2ec-1ddfc7847e7a"
      },
      "execution_count": 86,
      "outputs": [
        {
          "output_type": "execute_result",
          "data": {
            "text/plain": [
              "array([[675,   8],\n",
              "       [ 35, 728],\n",
              "       [ 15,  63]])"
            ]
          },
          "metadata": {},
          "execution_count": 86
        }
      ]
    },
    {
      "cell_type": "code",
      "source": [
        "A_pt = X_pt + 2\n",
        "A_pt"
      ],
      "metadata": {
        "colab": {
          "base_uri": "https://localhost:8080/"
        },
        "id": "UkgBJV58ABuk",
        "outputId": "486049a7-56a1-44b3-a8a7-bbc7b1a518c0"
      },
      "execution_count": 87,
      "outputs": [
        {
          "output_type": "execute_result",
          "data": {
            "text/plain": [
              "tensor([[27,  4],\n",
              "        [ 7, 28],\n",
              "        [ 5,  9]])"
            ]
          },
          "metadata": {},
          "execution_count": 87
        }
      ]
    },
    {
      "cell_type": "code",
      "source": [
        "A_pt + X_pt"
      ],
      "metadata": {
        "colab": {
          "base_uri": "https://localhost:8080/"
        },
        "id": "KrsiTfaeHU9C",
        "outputId": "648e8ec5-1e73-47fc-ce9d-f220f4616343"
      },
      "execution_count": 88,
      "outputs": [
        {
          "output_type": "execute_result",
          "data": {
            "text/plain": [
              "tensor([[52,  6],\n",
              "        [12, 54],\n",
              "        [ 8, 16]])"
            ]
          },
          "metadata": {},
          "execution_count": 88
        }
      ]
    },
    {
      "cell_type": "code",
      "source": [
        "A_pt * X_pt"
      ],
      "metadata": {
        "colab": {
          "base_uri": "https://localhost:8080/"
        },
        "id": "8DO4p9xdHZTb",
        "outputId": "2c50c94c-e1e5-4f7c-b0ab-2d53737640cb"
      },
      "execution_count": 89,
      "outputs": [
        {
          "output_type": "execute_result",
          "data": {
            "text/plain": [
              "tensor([[675,   8],\n",
              "        [ 35, 728],\n",
              "        [ 15,  63]])"
            ]
          },
          "metadata": {},
          "execution_count": 89
        }
      ]
    },
    {
      "cell_type": "code",
      "source": [
        "A_tf = X_tf + 2\n",
        "A_tf"
      ],
      "metadata": {
        "colab": {
          "base_uri": "https://localhost:8080/"
        },
        "id": "2XUA7zaAHbJB",
        "outputId": "1d325d6b-796c-4711-c771-33eaa05e5fca"
      },
      "execution_count": 90,
      "outputs": [
        {
          "output_type": "execute_result",
          "data": {
            "text/plain": [
              "<tf.Tensor: shape=(3, 2), dtype=int32, numpy=\n",
              "array([[27,  4],\n",
              "       [ 7, 28],\n",
              "       [ 5,  9]], dtype=int32)>"
            ]
          },
          "metadata": {},
          "execution_count": 90
        }
      ]
    },
    {
      "cell_type": "code",
      "source": [
        "A_tf + X_tf"
      ],
      "metadata": {
        "colab": {
          "base_uri": "https://localhost:8080/"
        },
        "id": "CkkeM7qdHgPp",
        "outputId": "a43e7864-3472-436d-8a02-c8117b6e7a0f"
      },
      "execution_count": 91,
      "outputs": [
        {
          "output_type": "execute_result",
          "data": {
            "text/plain": [
              "<tf.Tensor: shape=(3, 2), dtype=int32, numpy=\n",
              "array([[52,  6],\n",
              "       [12, 54],\n",
              "       [ 8, 16]], dtype=int32)>"
            ]
          },
          "metadata": {},
          "execution_count": 91
        }
      ]
    },
    {
      "cell_type": "code",
      "source": [
        "A_tf * X_tf"
      ],
      "metadata": {
        "colab": {
          "base_uri": "https://localhost:8080/"
        },
        "id": "vZJDXZGqHi8a",
        "outputId": "6a70eaf6-553d-4bed-f138-33e9f449aa54"
      },
      "execution_count": 92,
      "outputs": [
        {
          "output_type": "execute_result",
          "data": {
            "text/plain": [
              "<tf.Tensor: shape=(3, 2), dtype=int32, numpy=\n",
              "array([[675,   8],\n",
              "       [ 35, 728],\n",
              "       [ 15,  63]], dtype=int32)>"
            ]
          },
          "metadata": {},
          "execution_count": 92
        }
      ]
    },
    {
      "cell_type": "markdown",
      "source": [
        "###Reduction"
      ],
      "metadata": {
        "id": "8mNbtFqWHkxk"
      }
    },
    {
      "cell_type": "markdown",
      "source": [
        "Calculating the sum across all elements of a tensor is a common operation"
      ],
      "metadata": {
        "id": "D3-8WvRaIbej"
      }
    },
    {
      "cell_type": "code",
      "source": [
        "X"
      ],
      "metadata": {
        "id": "Y9VSekMfIiMz",
        "outputId": "3732a8bf-7a9b-4a07-9167-11bcd3a999e5",
        "colab": {
          "base_uri": "https://localhost:8080/"
        }
      },
      "execution_count": 93,
      "outputs": [
        {
          "output_type": "execute_result",
          "data": {
            "text/plain": [
              "array([[25,  2],\n",
              "       [ 5, 26],\n",
              "       [ 3,  7]])"
            ]
          },
          "metadata": {},
          "execution_count": 93
        }
      ]
    },
    {
      "cell_type": "code",
      "source": [
        "X.sum()"
      ],
      "metadata": {
        "id": "T1-_A2gEIi_S",
        "outputId": "87cdaeb3-d7eb-47d6-f25f-9a6e1d2454c6",
        "colab": {
          "base_uri": "https://localhost:8080/"
        }
      },
      "execution_count": 94,
      "outputs": [
        {
          "output_type": "execute_result",
          "data": {
            "text/plain": [
              "68"
            ]
          },
          "metadata": {},
          "execution_count": 94
        }
      ]
    },
    {
      "cell_type": "code",
      "source": [
        "torch.sum(X_pt)"
      ],
      "metadata": {
        "id": "suZbQ1jPInW8",
        "outputId": "6001f563-db0d-4360-db35-5723021cc6a9",
        "colab": {
          "base_uri": "https://localhost:8080/"
        }
      },
      "execution_count": 95,
      "outputs": [
        {
          "output_type": "execute_result",
          "data": {
            "text/plain": [
              "tensor(68)"
            ]
          },
          "metadata": {},
          "execution_count": 95
        }
      ]
    },
    {
      "cell_type": "code",
      "source": [
        "tf.reduce_sum(X_tf)"
      ],
      "metadata": {
        "id": "QlbJi3w3Is3E",
        "outputId": "bd9b43b1-dde6-4701-ab3f-5c573bf23754",
        "colab": {
          "base_uri": "https://localhost:8080/"
        }
      },
      "execution_count": 96,
      "outputs": [
        {
          "output_type": "execute_result",
          "data": {
            "text/plain": [
              "<tf.Tensor: shape=(), dtype=int32, numpy=68>"
            ]
          },
          "metadata": {},
          "execution_count": 96
        }
      ]
    },
    {
      "cell_type": "code",
      "source": [
        "# Can also be performed along one specific axis. e.g.\n",
        "X.sum(axis=0)"
      ],
      "metadata": {
        "id": "tC8QClwGIvVg",
        "outputId": "747f485c-8e4e-4081-f51f-77c1e7e1b0b0",
        "colab": {
          "base_uri": "https://localhost:8080/"
        }
      },
      "execution_count": 97,
      "outputs": [
        {
          "output_type": "execute_result",
          "data": {
            "text/plain": [
              "array([33, 35])"
            ]
          },
          "metadata": {},
          "execution_count": 97
        }
      ]
    },
    {
      "cell_type": "code",
      "source": [
        "X.sum(axis=1)"
      ],
      "metadata": {
        "id": "PRE63k74Jda6",
        "outputId": "6ad4a496-372b-4ffb-91ea-ad38349c3433",
        "colab": {
          "base_uri": "https://localhost:8080/"
        }
      },
      "execution_count": 98,
      "outputs": [
        {
          "output_type": "execute_result",
          "data": {
            "text/plain": [
              "array([27, 31, 10])"
            ]
          },
          "metadata": {},
          "execution_count": 98
        }
      ]
    },
    {
      "cell_type": "code",
      "source": [
        "torch.sum(X_pt, 0)"
      ],
      "metadata": {
        "id": "R-67hAHbzzMa",
        "outputId": "1193ebb1-a135-46ad-e473-2a6e1aa5eecc",
        "colab": {
          "base_uri": "https://localhost:8080/"
        }
      },
      "execution_count": 99,
      "outputs": [
        {
          "output_type": "execute_result",
          "data": {
            "text/plain": [
              "tensor([33, 35])"
            ]
          },
          "metadata": {},
          "execution_count": 99
        }
      ]
    },
    {
      "cell_type": "code",
      "source": [
        "torch.sum(X_pt, 1)"
      ],
      "metadata": {
        "id": "TC63UQF-z2uU",
        "outputId": "c73e2870-e74b-4bac-e299-695cc18b4ca2",
        "colab": {
          "base_uri": "https://localhost:8080/"
        }
      },
      "execution_count": 100,
      "outputs": [
        {
          "output_type": "execute_result",
          "data": {
            "text/plain": [
              "tensor([27, 31, 10])"
            ]
          },
          "metadata": {},
          "execution_count": 100
        }
      ]
    },
    {
      "cell_type": "code",
      "source": [
        "tf.reduce_sum(X_tf, axis=0)"
      ],
      "metadata": {
        "id": "v_mFX8v_z5e3",
        "outputId": "3308ee45-7015-4255-fbe6-25b2bc3f95aa",
        "colab": {
          "base_uri": "https://localhost:8080/"
        }
      },
      "execution_count": 101,
      "outputs": [
        {
          "output_type": "execute_result",
          "data": {
            "text/plain": [
              "<tf.Tensor: shape=(2,), dtype=int32, numpy=array([33, 35], dtype=int32)>"
            ]
          },
          "metadata": {},
          "execution_count": 101
        }
      ]
    },
    {
      "cell_type": "code",
      "source": [
        "tf.reduce_sum(X_tf, axis=1)"
      ],
      "metadata": {
        "id": "9SBVhd1Tz-JM",
        "outputId": "5645407d-60ac-4d22-98a3-b1d76d94232d",
        "colab": {
          "base_uri": "https://localhost:8080/"
        }
      },
      "execution_count": 102,
      "outputs": [
        {
          "output_type": "execute_result",
          "data": {
            "text/plain": [
              "<tf.Tensor: shape=(3,), dtype=int32, numpy=array([27, 31, 10], dtype=int32)>"
            ]
          },
          "metadata": {},
          "execution_count": 102
        }
      ]
    },
    {
      "cell_type": "code",
      "source": [
        "C= np.array([[[2, 5, 3, 4, 2], \n",
        "          [2, 5, 3, 4, 2]],\n",
        "          [[1, 4, 2, 3, 1], \n",
        "          [1, 3, 2, 3, 1]]])"
      ],
      "metadata": {
        "id": "k7KZb7nMJiPx"
      },
      "execution_count": 103,
      "outputs": []
    },
    {
      "cell_type": "code",
      "source": [
        "C"
      ],
      "metadata": {
        "id": "EDeKaxlU8bVF",
        "outputId": "db7e9d5f-c434-4287-c14b-b9e100b5c51a",
        "colab": {
          "base_uri": "https://localhost:8080/"
        }
      },
      "execution_count": 104,
      "outputs": [
        {
          "output_type": "execute_result",
          "data": {
            "text/plain": [
              "array([[[2, 5, 3, 4, 2],\n",
              "        [2, 5, 3, 4, 2]],\n",
              "\n",
              "       [[1, 4, 2, 3, 1],\n",
              "        [1, 3, 2, 3, 1]]])"
            ]
          },
          "metadata": {},
          "execution_count": 104
        }
      ]
    },
    {
      "cell_type": "code",
      "source": [
        "C.sum(axis=2)\n"
      ],
      "metadata": {
        "id": "wOBevv3FJlTV",
        "outputId": "cc152d3d-742c-499a-d39e-2ebc7df16c50",
        "colab": {
          "base_uri": "https://localhost:8080/"
        }
      },
      "execution_count": 105,
      "outputs": [
        {
          "output_type": "execute_result",
          "data": {
            "text/plain": [
              "array([[16, 16],\n",
              "       [11, 10]])"
            ]
          },
          "metadata": {},
          "execution_count": 105
        }
      ]
    },
    {
      "cell_type": "code",
      "source": [
        "C.sum(axis=0)\n"
      ],
      "metadata": {
        "id": "Z1PLRBbWWVTB",
        "outputId": "6cc7d61f-4b7f-41fb-c6fb-e5cda436bc80",
        "colab": {
          "base_uri": "https://localhost:8080/"
        }
      },
      "execution_count": 106,
      "outputs": [
        {
          "output_type": "execute_result",
          "data": {
            "text/plain": [
              "array([[3, 9, 5, 7, 3],\n",
              "       [3, 8, 5, 7, 3]])"
            ]
          },
          "metadata": {},
          "execution_count": 106
        }
      ]
    },
    {
      "cell_type": "code",
      "source": [
        "C.sum(axis=1)"
      ],
      "metadata": {
        "id": "zDTA3e53WWod",
        "outputId": "fd1451a6-7dd5-43b6-ea8c-c1d03451031d",
        "colab": {
          "base_uri": "https://localhost:8080/"
        }
      },
      "execution_count": 107,
      "outputs": [
        {
          "output_type": "execute_result",
          "data": {
            "text/plain": [
              "array([[ 4, 10,  6,  8,  4],\n",
              "       [ 2,  7,  4,  6,  2]])"
            ]
          },
          "metadata": {},
          "execution_count": 107
        }
      ]
    },
    {
      "cell_type": "markdown",
      "source": [
        "###The Dot Product\n",
        "\n",
        "Dot product can be calculated between two vectors (say, *x* and *y) if they have same length n*"
      ],
      "metadata": {
        "id": "qUXnyJBRYq4D"
      }
    },
    {
      "cell_type": "code",
      "source": [
        "x"
      ],
      "metadata": {
        "colab": {
          "base_uri": "https://localhost:8080/"
        },
        "id": "Gbp85H6lww_H",
        "outputId": "7143f7be-86d5-4546-949d-1e05dce8ad4f"
      },
      "execution_count": 108,
      "outputs": [
        {
          "output_type": "execute_result",
          "data": {
            "text/plain": [
              "array([25,  2,  5])"
            ]
          },
          "metadata": {},
          "execution_count": 108
        }
      ]
    },
    {
      "cell_type": "code",
      "source": [
        "y = np.array([0, 1, 2])\n",
        "y"
      ],
      "metadata": {
        "colab": {
          "base_uri": "https://localhost:8080/"
        },
        "id": "e_8OMkeJw2yd",
        "outputId": "b78ce7ec-38aa-4327-8369-5d3ddcc7f26d"
      },
      "execution_count": 109,
      "outputs": [
        {
          "output_type": "execute_result",
          "data": {
            "text/plain": [
              "array([0, 1, 2])"
            ]
          },
          "metadata": {},
          "execution_count": 109
        }
      ]
    },
    {
      "cell_type": "code",
      "source": [
        "25*0 + 2*1 + 5*2"
      ],
      "metadata": {
        "colab": {
          "base_uri": "https://localhost:8080/"
        },
        "id": "0IrGgZKnxAtc",
        "outputId": "7df933ff-f1bf-4443-d721-097a790aec08"
      },
      "execution_count": 110,
      "outputs": [
        {
          "output_type": "execute_result",
          "data": {
            "text/plain": [
              "12"
            ]
          },
          "metadata": {},
          "execution_count": 110
        }
      ]
    },
    {
      "cell_type": "code",
      "source": [
        "np.dot(x, y)"
      ],
      "metadata": {
        "colab": {
          "base_uri": "https://localhost:8080/"
        },
        "id": "oFjAd90jxJhN",
        "outputId": "1785e1f0-5f1d-4795-85e2-ce77c3b00cf3"
      },
      "execution_count": 111,
      "outputs": [
        {
          "output_type": "execute_result",
          "data": {
            "text/plain": [
              "12"
            ]
          },
          "metadata": {},
          "execution_count": 111
        }
      ]
    },
    {
      "cell_type": "code",
      "source": [
        "x_pt"
      ],
      "metadata": {
        "colab": {
          "base_uri": "https://localhost:8080/"
        },
        "id": "sgh8UzVexNk8",
        "outputId": "226b1388-7009-4b1c-eab0-44c1e5866b9d"
      },
      "execution_count": 112,
      "outputs": [
        {
          "output_type": "execute_result",
          "data": {
            "text/plain": [
              "tensor([25,  2,  5])"
            ]
          },
          "metadata": {},
          "execution_count": 112
        }
      ]
    },
    {
      "cell_type": "code",
      "source": [
        "y_pt = torch.tensor([0, 1, 2])\n",
        "y_pt"
      ],
      "metadata": {
        "colab": {
          "base_uri": "https://localhost:8080/"
        },
        "id": "Wv9hufw3xkcF",
        "outputId": "d547312a-db1a-44e2-9d09-49fc6022a354"
      },
      "execution_count": 113,
      "outputs": [
        {
          "output_type": "execute_result",
          "data": {
            "text/plain": [
              "tensor([0, 1, 2])"
            ]
          },
          "metadata": {},
          "execution_count": 113
        }
      ]
    },
    {
      "cell_type": "code",
      "source": [
        "# numpy.dot can accept pytorch tensor\n",
        "np.dot(x_pt, y_pt)"
      ],
      "metadata": {
        "colab": {
          "base_uri": "https://localhost:8080/"
        },
        "id": "pEt5j0MZxpFI",
        "outputId": "f127b0b3-b692-4caa-fcc1-4eecf9aac6c0"
      },
      "execution_count": 114,
      "outputs": [
        {
          "output_type": "execute_result",
          "data": {
            "text/plain": [
              "12"
            ]
          },
          "metadata": {},
          "execution_count": 114
        }
      ]
    },
    {
      "cell_type": "code",
      "source": [
        "torch.dot(x_pt, y_pt)"
      ],
      "metadata": {
        "colab": {
          "base_uri": "https://localhost:8080/"
        },
        "id": "Pwti4SUAxrm-",
        "outputId": "03756e08-316d-4519-b888-3378372415c0"
      },
      "execution_count": 115,
      "outputs": [
        {
          "output_type": "execute_result",
          "data": {
            "text/plain": [
              "tensor(12)"
            ]
          },
          "metadata": {},
          "execution_count": 115
        }
      ]
    },
    {
      "cell_type": "code",
      "source": [
        "x_tf"
      ],
      "metadata": {
        "colab": {
          "base_uri": "https://localhost:8080/"
        },
        "id": "xDNYkwMcyH_X",
        "outputId": "a0a25af0-f03f-43ff-a8b0-c34569806d1d"
      },
      "execution_count": 116,
      "outputs": [
        {
          "output_type": "execute_result",
          "data": {
            "text/plain": [
              "<tf.Variable 'Variable:0' shape=(3,) dtype=int32, numpy=array([25,  2,  5], dtype=int32)>"
            ]
          },
          "metadata": {},
          "execution_count": 116
        }
      ]
    },
    {
      "cell_type": "code",
      "source": [
        "y_tf = tf.Variable([0, 1, 2])\n",
        "y_tf"
      ],
      "metadata": {
        "colab": {
          "base_uri": "https://localhost:8080/"
        },
        "id": "DpUpvrhOyQTr",
        "outputId": "a30ab041-1499-4c23-dd3f-30d4d521ed2d"
      },
      "execution_count": 117,
      "outputs": [
        {
          "output_type": "execute_result",
          "data": {
            "text/plain": [
              "<tf.Variable 'Variable:0' shape=(3,) dtype=int32, numpy=array([0, 1, 2], dtype=int32)>"
            ]
          },
          "metadata": {},
          "execution_count": 117
        }
      ]
    },
    {
      "cell_type": "code",
      "source": [
        "tf.reduce_sum(tf.multiply(x_tf, y_tf))"
      ],
      "metadata": {
        "colab": {
          "base_uri": "https://localhost:8080/"
        },
        "id": "9shaOJEZyqeV",
        "outputId": "a93663cd-c0a9-44f9-e28d-3d2a19756009"
      },
      "execution_count": 118,
      "outputs": [
        {
          "output_type": "execute_result",
          "data": {
            "text/plain": [
              "<tf.Tensor: shape=(), dtype=int32, numpy=12>"
            ]
          },
          "metadata": {},
          "execution_count": 118
        }
      ]
    },
    {
      "cell_type": "code",
      "source": [
        "Q1 = np.array([[42, 4, 7, 99],\n",
        "              [-99, -3, 17, 22]])\n",
        "Q1"
      ],
      "metadata": {
        "colab": {
          "base_uri": "https://localhost:8080/"
        },
        "id": "PxvaaAm2ytET",
        "outputId": "563e4dd3-982c-48be-f6c1-304aee8dba31"
      },
      "execution_count": 119,
      "outputs": [
        {
          "output_type": "execute_result",
          "data": {
            "text/plain": [
              "array([[ 42,   4,   7,  99],\n",
              "       [-99,  -3,  17,  22]])"
            ]
          },
          "metadata": {},
          "execution_count": 119
        }
      ]
    },
    {
      "cell_type": "code",
      "source": [
        "Q1.T"
      ],
      "metadata": {
        "colab": {
          "base_uri": "https://localhost:8080/"
        },
        "id": "P2fJv6Gi0lcM",
        "outputId": "efa376b4-4331-40e4-8d72-127bfa06ea82"
      },
      "execution_count": 120,
      "outputs": [
        {
          "output_type": "execute_result",
          "data": {
            "text/plain": [
              "array([[ 42, -99],\n",
              "       [  4,  -3],\n",
              "       [  7,  17],\n",
              "       [ 99,  22]])"
            ]
          },
          "metadata": {},
          "execution_count": 120
        }
      ]
    },
    {
      "cell_type": "code",
      "source": [
        "Q2a = torch.tensor([[25, 10],\n",
        "                   [-2, 1]])\n",
        "Q2b = torch.tensor([[-1, 7],\n",
        "                    [10, 8]])"
      ],
      "metadata": {
        "id": "Ua1njyFc0nRN"
      },
      "execution_count": 121,
      "outputs": []
    },
    {
      "cell_type": "code",
      "source": [
        "Q2a * Q2b"
      ],
      "metadata": {
        "colab": {
          "base_uri": "https://localhost:8080/"
        },
        "id": "WrzsqXms1EKE",
        "outputId": "0c2e9ce7-d8af-486a-9f04-dff6acb02530"
      },
      "execution_count": 122,
      "outputs": [
        {
          "output_type": "execute_result",
          "data": {
            "text/plain": [
              "tensor([[-25,  70],\n",
              "        [-20,   8]])"
            ]
          },
          "metadata": {},
          "execution_count": 122
        }
      ]
    },
    {
      "cell_type": "code",
      "source": [
        "Q3a = np.array([-1, 2, -2])\n",
        "Q3b = np.array([5, 10, 0])\n",
        "\n",
        "np.dot(Q3a, Q3b)"
      ],
      "metadata": {
        "colab": {
          "base_uri": "https://localhost:8080/"
        },
        "id": "MhVStiXy1I3m",
        "outputId": "c2849835-2574-45f3-c706-eed005ba36b9"
      },
      "execution_count": 123,
      "outputs": [
        {
          "output_type": "execute_result",
          "data": {
            "text/plain": [
              "15"
            ]
          },
          "metadata": {},
          "execution_count": 123
        }
      ]
    },
    {
      "cell_type": "markdown",
      "source": [
        "###Solving Linear Systems"
      ],
      "metadata": {
        "id": "YBo7Kmnk1ZBv"
      }
    },
    {
      "cell_type": "markdown",
      "source": [
        "In the **Substitution** example, the two equations in the system are: \n",
        "$$ y = 3x $$\n",
        "$$ -5x + 2y = 2 $$\n",
        "\n",
        "The second equation can be rearranged to isolate $y$: \n",
        "$$ 2y = 2 + 5x $$\n",
        "$$ y = \\frac{2 + 5x}{2} = 1 + \\frac{5x}{2} $$\n",
        "\n",
        "$$ (x, y) = (2, 6) $$"
      ],
      "metadata": {
        "id": "RKFCQLWNCp-_"
      }
    },
    {
      "cell_type": "code",
      "source": [
        "x = np.linspace(-10, 10, 1000)  # start, finish and points"
      ],
      "metadata": {
        "id": "PQYrlj-_FJt-"
      },
      "execution_count": 124,
      "outputs": []
    },
    {
      "cell_type": "code",
      "source": [
        "y1 = 3 * x\n",
        "y2 = 1 + (5 * x)/2"
      ],
      "metadata": {
        "id": "1qhoBHfeHavt"
      },
      "execution_count": 125,
      "outputs": []
    },
    {
      "cell_type": "code",
      "source": [
        "fig, ax = plt.subplots()\n",
        "plt.xlabel('x')\n",
        "plt.ylabel('y')\n",
        "ax.set_xlim([0, 3])\n",
        "ax.set_ylim([0, 8])\n",
        "ax.plot(x, y1, c='green')\n",
        "ax.plot(x, y2, c='brown')\n",
        "plt.axvline(x=2, color='purple', linestyle='--')\n",
        "_ = plt.axhline(y=6, color='purple', linestyle='--')"
      ],
      "metadata": {
        "colab": {
          "base_uri": "https://localhost:8080/",
          "height": 283
        },
        "id": "Lz5wNwFyHino",
        "outputId": "a3a454c7-a238-4c04-c943-b7bf82e586b7"
      },
      "execution_count": 126,
      "outputs": [
        {
          "output_type": "display_data",
          "data": {
            "text/plain": [
              "<Figure size 432x288 with 1 Axes>"
            ],
            "image/png": "[encoded data removed]"
          },
          "metadata": {
            "needs_background": "light"
          }
        }
      ]
    },
    {
      "cell_type": "markdown",
      "source": [
        "**Another example**, the two equations in the system are: \n",
        "$$ y = 6 - x $$\n",
        "$$ 2x + 3y = 16 $$\n",
        "\n",
        "The second equation can be rearranged to isolate $y$: \n",
        "$$ 3y = 16 - 2x $$\n",
        "$$ y = \\frac{16 - 2x}{3} $$\n",
        "\n",
        "$$ (x, y) = (2, 4) $$"
      ],
      "metadata": {
        "id": "CfU_7hLYIP3B"
      }
    },
    {
      "cell_type": "code",
      "source": [
        "x = np.linspace(-10, 10, 1000)  # start, finish and points\n",
        "y1 = 6 - x\n",
        "y2 = (16 - (2 * x))/3"
      ],
      "metadata": {
        "id": "oacEFihYM8qg"
      },
      "execution_count": 127,
      "outputs": []
    },
    {
      "cell_type": "code",
      "source": [
        "fix, ax = plt.subplots()\n",
        "plt.xlabel('x')\n",
        "plt.ylabel('y')\n",
        "\n",
        "# Add x & y axis\n",
        "#plt.axvline(x=0, color='lightgray')\n",
        "#plt.axhline(y=0, color='lightgray')\n",
        "\n",
        "ax.set_xlim([0, 4])\n",
        "ax.set_ylim([0, 7])\n",
        "ax.plot(x, y1, c='green')\n",
        "ax.plot(x, y2, c='brown')\n",
        "plt.axvline(x=2, color='purple', linestyle='--')\n",
        "_ = plt.axhline(y=4, color='purple', linestyle='--')"
      ],
      "metadata": {
        "colab": {
          "base_uri": "https://localhost:8080/",
          "height": 283
        },
        "id": "QQZ5j3ErNJDN",
        "outputId": "64ceee52-a142-4e0e-8b0e-ff2f79c7c480"
      },
      "execution_count": 128,
      "outputs": [
        {
          "output_type": "display_data",
          "data": {
            "text/plain": [
              "<Figure size 432x288 with 1 Axes>"
            ],
            "image/png": "[encoded data removed]"
          },
          "metadata": {
            "needs_background": "light"
          }
        }
      ]
    },
    {
      "cell_type": "markdown",
      "source": [
        "###Matrix Properties"
      ],
      "metadata": {
        "id": "CxHd9Qnv0qqw"
      }
    },
    {
      "cell_type": "markdown",
      "source": [
        "#####Frobenius Norm"
      ],
      "metadata": {
        "id": "jgVMyud28TyD"
      }
    },
    {
      "cell_type": "code",
      "source": [
        "X = np.array([[1, 2],\n",
        "              [3, 4]])\n",
        "X"
      ],
      "metadata": {
        "colab": {
          "base_uri": "https://localhost:8080/"
        },
        "id": "UZEjR5Tf8XLV",
        "outputId": "d437d0b1-a945-450d-c770-829c37cdc025"
      },
      "execution_count": 129,
      "outputs": [
        {
          "output_type": "execute_result",
          "data": {
            "text/plain": [
              "array([[1, 2],\n",
              "       [3, 4]])"
            ]
          },
          "metadata": {},
          "execution_count": 129
        }
      ]
    },
    {
      "cell_type": "code",
      "source": [
        "(1**2 + 2**2 + 3**2 + 4**2)**(1/2)"
      ],
      "metadata": {
        "colab": {
          "base_uri": "https://localhost:8080/"
        },
        "id": "lUwuJb6A8bpT",
        "outputId": "8db1d91b-c23f-4be7-e844-8518d111ea28"
      },
      "execution_count": 130,
      "outputs": [
        {
          "output_type": "execute_result",
          "data": {
            "text/plain": [
              "5.477225575051661"
            ]
          },
          "metadata": {},
          "execution_count": 130
        }
      ]
    },
    {
      "cell_type": "code",
      "source": [
        "#np.linalg.norm(X, 'fro')\n",
        "# OR\n",
        "np.linalg.norm(X)"
      ],
      "metadata": {
        "colab": {
          "base_uri": "https://localhost:8080/"
        },
        "id": "34hlEMN-8ktE",
        "outputId": "6e07af7a-03ba-48c5-8b61-291b715b19fc"
      },
      "execution_count": 131,
      "outputs": [
        {
          "output_type": "execute_result",
          "data": {
            "text/plain": [
              "5.477225575051661"
            ]
          },
          "metadata": {},
          "execution_count": 131
        }
      ]
    },
    {
      "cell_type": "code",
      "source": [
        "X_pt = torch.tensor([[1, 2],\n",
        "                     [3., 4.]]) # torch.norm() requires float type\n",
        "X_pt"
      ],
      "metadata": {
        "colab": {
          "base_uri": "https://localhost:8080/"
        },
        "id": "qwuBceY_85wg",
        "outputId": "340d1167-948e-47c7-b884-a6605a59c7bc"
      },
      "execution_count": 132,
      "outputs": [
        {
          "output_type": "execute_result",
          "data": {
            "text/plain": [
              "tensor([[1., 2.],\n",
              "        [3., 4.]])"
            ]
          },
          "metadata": {},
          "execution_count": 132
        }
      ]
    },
    {
      "cell_type": "code",
      "source": [
        "torch.norm(X_pt)"
      ],
      "metadata": {
        "colab": {
          "base_uri": "https://localhost:8080/"
        },
        "id": "ECCQLGU39Pf7",
        "outputId": "9cb96517-8f6d-4f78-99d0-cd20cf4ea7ad"
      },
      "execution_count": 133,
      "outputs": [
        {
          "output_type": "execute_result",
          "data": {
            "text/plain": [
              "tensor(5.4772)"
            ]
          },
          "metadata": {},
          "execution_count": 133
        }
      ]
    },
    {
      "cell_type": "code",
      "source": [
        "X_tf = tf.Variable([[1, 2],\n",
        "                    [3., 4.]])  # tf.norm() requires float type\n",
        "X_tf"
      ],
      "metadata": {
        "colab": {
          "base_uri": "https://localhost:8080/"
        },
        "id": "hZj_4aUh9SMs",
        "outputId": "b2c44ef8-8817-48b6-f9e1-c08cc74090e0"
      },
      "execution_count": 134,
      "outputs": [
        {
          "output_type": "execute_result",
          "data": {
            "text/plain": [
              "<tf.Variable 'Variable:0' shape=(2, 2) dtype=float32, numpy=\n",
              "array([[1., 2.],\n",
              "       [3., 4.]], dtype=float32)>"
            ]
          },
          "metadata": {},
          "execution_count": 134
        }
      ]
    },
    {
      "cell_type": "code",
      "source": [
        "tf.norm(X_tf)"
      ],
      "metadata": {
        "colab": {
          "base_uri": "https://localhost:8080/"
        },
        "id": "ruJxaDO490h_",
        "outputId": "9d94c50b-8208-47ac-cdb8-f0944bf55fe9"
      },
      "execution_count": 135,
      "outputs": [
        {
          "output_type": "execute_result",
          "data": {
            "text/plain": [
              "<tf.Tensor: shape=(), dtype=float32, numpy=5.477226>"
            ]
          },
          "metadata": {},
          "execution_count": 135
        }
      ]
    },
    {
      "cell_type": "markdown",
      "source": [
        "###Matrix Multiplication (with a Vector)"
      ],
      "metadata": {
        "id": "cPGOHyAs92fy"
      }
    },
    {
      "cell_type": "code",
      "source": [
        "A = np.array([[3, 4],\n",
        "              [5, 6],\n",
        "              [7, 8]])\n",
        "A"
      ],
      "metadata": {
        "colab": {
          "base_uri": "https://localhost:8080/"
        },
        "id": "Xo9UpfI9AiYh",
        "outputId": "732c1685-37d6-47f2-92d6-ffcad31c5f1c"
      },
      "execution_count": 136,
      "outputs": [
        {
          "output_type": "execute_result",
          "data": {
            "text/plain": [
              "array([[3, 4],\n",
              "       [5, 6],\n",
              "       [7, 8]])"
            ]
          },
          "metadata": {},
          "execution_count": 136
        }
      ]
    },
    {
      "cell_type": "code",
      "source": [
        "b = np.array([1, 2])\n",
        "b"
      ],
      "metadata": {
        "colab": {
          "base_uri": "https://localhost:8080/"
        },
        "id": "2qYaIbFwAn60",
        "outputId": "e239bb19-e0bb-4a86-ce59-4cdf2542b714"
      },
      "execution_count": 137,
      "outputs": [
        {
          "output_type": "execute_result",
          "data": {
            "text/plain": [
              "array([1, 2])"
            ]
          },
          "metadata": {},
          "execution_count": 137
        }
      ]
    },
    {
      "cell_type": "code",
      "source": [
        "np.dot(A, b)"
      ],
      "metadata": {
        "colab": {
          "base_uri": "https://localhost:8080/"
        },
        "id": "0mk_mfs9AshI",
        "outputId": "c0f5cf97-a6ba-4312-fb77-fde659b73d56"
      },
      "execution_count": 138,
      "outputs": [
        {
          "output_type": "execute_result",
          "data": {
            "text/plain": [
              "array([11, 17, 23])"
            ]
          },
          "metadata": {},
          "execution_count": 138
        }
      ]
    },
    {
      "cell_type": "code",
      "source": [
        "A_pt = torch.tensor([[3, 4],\n",
        "                     [5, 6],\n",
        "                     [7, 8]])\n",
        "A_pt"
      ],
      "metadata": {
        "colab": {
          "base_uri": "https://localhost:8080/"
        },
        "id": "q6HC7NKcA3Dk",
        "outputId": "e71bff5d-480e-46d8-bf39-f020a0d570c3"
      },
      "execution_count": 139,
      "outputs": [
        {
          "output_type": "execute_result",
          "data": {
            "text/plain": [
              "tensor([[3, 4],\n",
              "        [5, 6],\n",
              "        [7, 8]])"
            ]
          },
          "metadata": {},
          "execution_count": 139
        }
      ]
    },
    {
      "cell_type": "code",
      "source": [
        "b_pt = torch.tensor([1, 2])\n",
        "b_pt"
      ],
      "metadata": {
        "colab": {
          "base_uri": "https://localhost:8080/"
        },
        "id": "VQBZ0VbwBKcx",
        "outputId": "b4646654-10f9-4001-e254-7d7932e2601b"
      },
      "execution_count": 140,
      "outputs": [
        {
          "output_type": "execute_result",
          "data": {
            "text/plain": [
              "tensor([1, 2])"
            ]
          },
          "metadata": {},
          "execution_count": 140
        }
      ]
    },
    {
      "cell_type": "code",
      "source": [
        "torch.matmul(A_pt, b_pt)"
      ],
      "metadata": {
        "colab": {
          "base_uri": "https://localhost:8080/"
        },
        "id": "wM81IXEhBNDF",
        "outputId": "88a487dc-380b-458e-dd1c-7bc73cd8ea9b"
      },
      "execution_count": 141,
      "outputs": [
        {
          "output_type": "execute_result",
          "data": {
            "text/plain": [
              "tensor([11, 17, 23])"
            ]
          },
          "metadata": {},
          "execution_count": 141
        }
      ]
    },
    {
      "cell_type": "code",
      "source": [
        "A_tf = tf.Variable([[3, 4],\n",
        "                    [5, 6],\n",
        "                    [7, 8]])\n",
        "A_tf"
      ],
      "metadata": {
        "colab": {
          "base_uri": "https://localhost:8080/"
        },
        "id": "u2_HmkknBPny",
        "outputId": "c164e6f6-2833-4326-b579-cc2d858e783d"
      },
      "execution_count": 142,
      "outputs": [
        {
          "output_type": "execute_result",
          "data": {
            "text/plain": [
              "<tf.Variable 'Variable:0' shape=(3, 2) dtype=int32, numpy=\n",
              "array([[3, 4],\n",
              "       [5, 6],\n",
              "       [7, 8]], dtype=int32)>"
            ]
          },
          "metadata": {},
          "execution_count": 142
        }
      ]
    },
    {
      "cell_type": "code",
      "source": [
        "b_tf = tf.Variable([1, 2])\n",
        "b_tf"
      ],
      "metadata": {
        "colab": {
          "base_uri": "https://localhost:8080/"
        },
        "id": "9JYZBr8lBb7d",
        "outputId": "179f7637-30ac-4a90-a69c-81b34f8a4c28"
      },
      "execution_count": 143,
      "outputs": [
        {
          "output_type": "execute_result",
          "data": {
            "text/plain": [
              "<tf.Variable 'Variable:0' shape=(2,) dtype=int32, numpy=array([1, 2], dtype=int32)>"
            ]
          },
          "metadata": {},
          "execution_count": 143
        }
      ]
    },
    {
      "cell_type": "code",
      "source": [
        "tf.linalg.matvec(A_tf, b_tf)  # matvec --> Matrix by Vector multiplication"
      ],
      "metadata": {
        "colab": {
          "base_uri": "https://localhost:8080/"
        },
        "id": "MoPmLKELBesc",
        "outputId": "10fe653b-96ed-44b5-e2f1-b0d5336753ee"
      },
      "execution_count": 144,
      "outputs": [
        {
          "output_type": "execute_result",
          "data": {
            "text/plain": [
              "<tf.Tensor: shape=(3,), dtype=int32, numpy=array([11, 17, 23], dtype=int32)>"
            ]
          },
          "metadata": {},
          "execution_count": 144
        }
      ]
    },
    {
      "cell_type": "markdown",
      "source": [
        "###Matrix Multiplication (with another Matrix)"
      ],
      "metadata": {
        "id": "ldJGvwfxBhBj"
      }
    },
    {
      "cell_type": "code",
      "source": [
        "A"
      ],
      "metadata": {
        "colab": {
          "base_uri": "https://localhost:8080/"
        },
        "id": "EmzzaPNTEVrQ",
        "outputId": "e5a04bee-ed50-442d-dd27-d7d60b8b6f62"
      },
      "execution_count": 145,
      "outputs": [
        {
          "output_type": "execute_result",
          "data": {
            "text/plain": [
              "array([[3, 4],\n",
              "       [5, 6],\n",
              "       [7, 8]])"
            ]
          },
          "metadata": {},
          "execution_count": 145
        }
      ]
    },
    {
      "cell_type": "code",
      "source": [
        "B = np.array([[1, 9],\n",
        "              [2, 0]])\n",
        "B"
      ],
      "metadata": {
        "colab": {
          "base_uri": "https://localhost:8080/"
        },
        "id": "-zsCWFmXEXKd",
        "outputId": "4ea9728f-9240-4fb5-b788-0dc9c78bd868"
      },
      "execution_count": 146,
      "outputs": [
        {
          "output_type": "execute_result",
          "data": {
            "text/plain": [
              "array([[1, 9],\n",
              "       [2, 0]])"
            ]
          },
          "metadata": {},
          "execution_count": 146
        }
      ]
    },
    {
      "cell_type": "code",
      "source": [
        "np.dot(A, B)"
      ],
      "metadata": {
        "colab": {
          "base_uri": "https://localhost:8080/"
        },
        "id": "g6pyM9L1EcMD",
        "outputId": "c75ab373-b32b-4b61-bf09-0736840cf30e"
      },
      "execution_count": 147,
      "outputs": [
        {
          "output_type": "execute_result",
          "data": {
            "text/plain": [
              "array([[11, 27],\n",
              "       [17, 45],\n",
              "       [23, 63]])"
            ]
          },
          "metadata": {},
          "execution_count": 147
        }
      ]
    },
    {
      "cell_type": "markdown",
      "source": [
        "Note that matrix multiplication is not \"commutative\" (i.e., $AB \\neq BA$) so uncommenting the following line will throw a size mismatch error:"
      ],
      "metadata": {
        "id": "f9nETF3IEd_G"
      }
    },
    {
      "cell_type": "code",
      "source": [
        "#np.dot(B, A)"
      ],
      "metadata": {
        "id": "iAG8MQQhFBxc"
      },
      "execution_count": 148,
      "outputs": []
    },
    {
      "cell_type": "code",
      "source": [
        "B_pt = torch.from_numpy(B)\n",
        "B_pt"
      ],
      "metadata": {
        "colab": {
          "base_uri": "https://localhost:8080/"
        },
        "id": "JnnpBFPCFEod",
        "outputId": "4d3e09fd-7996-4f07-b4a0-8de6b29ffe21"
      },
      "execution_count": 149,
      "outputs": [
        {
          "output_type": "execute_result",
          "data": {
            "text/plain": [
              "tensor([[1, 9],\n",
              "        [2, 0]])"
            ]
          },
          "metadata": {},
          "execution_count": 149
        }
      ]
    },
    {
      "cell_type": "code",
      "source": [
        "torch.matmul(A_pt, B_pt)"
      ],
      "metadata": {
        "colab": {
          "base_uri": "https://localhost:8080/"
        },
        "id": "6XH0V7ELFnZr",
        "outputId": "52e4e160-a31b-4f2d-da68-24dfcda56f95"
      },
      "execution_count": 150,
      "outputs": [
        {
          "output_type": "execute_result",
          "data": {
            "text/plain": [
              "tensor([[11, 27],\n",
              "        [17, 45],\n",
              "        [23, 63]])"
            ]
          },
          "metadata": {},
          "execution_count": 150
        }
      ]
    },
    {
      "cell_type": "code",
      "source": [
        "# Another way to create the same tensor with transposition\n",
        "B_pt = torch.tensor([[1, 2],\n",
        "                     [9, 0]]).T\n",
        "B_pt"
      ],
      "metadata": {
        "colab": {
          "base_uri": "https://localhost:8080/"
        },
        "id": "WNrdlIvLFtyE",
        "outputId": "70b6fe1d-94a8-4224-da4d-5c6a4ae91acd"
      },
      "execution_count": 151,
      "outputs": [
        {
          "output_type": "execute_result",
          "data": {
            "text/plain": [
              "tensor([[1, 9],\n",
              "        [2, 0]])"
            ]
          },
          "metadata": {},
          "execution_count": 151
        }
      ]
    },
    {
      "cell_type": "code",
      "source": [
        "torch.matmul(A_pt, B_pt)"
      ],
      "metadata": {
        "id": "psfHqhu0IUVI",
        "outputId": "5d47dd4e-8284-4ef6-d729-4fb9f4abb3cf",
        "colab": {
          "base_uri": "https://localhost:8080/"
        }
      },
      "execution_count": 152,
      "outputs": [
        {
          "output_type": "execute_result",
          "data": {
            "text/plain": [
              "tensor([[11, 27],\n",
              "        [17, 45],\n",
              "        [23, 63]])"
            ]
          },
          "metadata": {},
          "execution_count": 152
        }
      ]
    },
    {
      "cell_type": "code",
      "source": [
        "B_tf =tf.convert_to_tensor(B, dtype=tf.int32)\n",
        "B_tf"
      ],
      "metadata": {
        "id": "kEt55XxAIZet",
        "outputId": "8d6862be-a290-4ae1-81ca-204213fd6862",
        "colab": {
          "base_uri": "https://localhost:8080/"
        }
      },
      "execution_count": 153,
      "outputs": [
        {
          "output_type": "execute_result",
          "data": {
            "text/plain": [
              "<tf.Tensor: shape=(2, 2), dtype=int32, numpy=\n",
              "array([[1, 9],\n",
              "       [2, 0]], dtype=int32)>"
            ]
          },
          "metadata": {},
          "execution_count": 153
        }
      ]
    },
    {
      "cell_type": "code",
      "source": [
        "tf.matmul(A_tf, B_tf)"
      ],
      "metadata": {
        "id": "2Jq_ew_-IfPo",
        "outputId": "aaa424e8-95f6-4f1b-d598-842ca566d63c",
        "colab": {
          "base_uri": "https://localhost:8080/"
        }
      },
      "execution_count": 154,
      "outputs": [
        {
          "output_type": "execute_result",
          "data": {
            "text/plain": [
              "<tf.Tensor: shape=(3, 2), dtype=int32, numpy=\n",
              "array([[11, 27],\n",
              "       [17, 45],\n",
              "       [23, 63]], dtype=int32)>"
            ]
          },
          "metadata": {},
          "execution_count": 154
        }
      ]
    },
    {
      "cell_type": "markdown",
      "source": [
        "###Symmetric Matrix\n",
        "\n",
        "\n",
        "\n",
        "*   Square (i.e. # of rows = # of columns)\n",
        "*   Matrix transpose should be same as original matrix\n",
        "\n"
      ],
      "metadata": {
        "id": "pRPzK4n-Iy6e"
      }
    },
    {
      "cell_type": "code",
      "source": [
        "X_sym = np.array([[0, 1, 2],\n",
        "                  [1, 7, 8],\n",
        "                  [2, 8, 9]])\n",
        "X_sym"
      ],
      "metadata": {
        "id": "c0IPNQcVPaW4",
        "outputId": "09fef16b-4529-4363-ee95-cadabe98095c",
        "colab": {
          "base_uri": "https://localhost:8080/"
        }
      },
      "execution_count": 155,
      "outputs": [
        {
          "output_type": "execute_result",
          "data": {
            "text/plain": [
              "array([[0, 1, 2],\n",
              "       [1, 7, 8],\n",
              "       [2, 8, 9]])"
            ]
          },
          "metadata": {},
          "execution_count": 155
        }
      ]
    },
    {
      "cell_type": "code",
      "source": [
        "X_sym.T"
      ],
      "metadata": {
        "id": "JKzbp3YMPib9",
        "outputId": "f54fd252-11bd-4f30-f424-8152935aa4c6",
        "colab": {
          "base_uri": "https://localhost:8080/"
        }
      },
      "execution_count": 156,
      "outputs": [
        {
          "output_type": "execute_result",
          "data": {
            "text/plain": [
              "array([[0, 1, 2],\n",
              "       [1, 7, 8],\n",
              "       [2, 8, 9]])"
            ]
          },
          "metadata": {},
          "execution_count": 156
        }
      ]
    },
    {
      "cell_type": "code",
      "source": [
        "X_sym == X_sym.T"
      ],
      "metadata": {
        "id": "2fk_mxI_PwvI",
        "outputId": "c4a69972-f15c-4bcf-bece-cdeda2857b19",
        "colab": {
          "base_uri": "https://localhost:8080/"
        }
      },
      "execution_count": 157,
      "outputs": [
        {
          "output_type": "execute_result",
          "data": {
            "text/plain": [
              "array([[ True,  True,  True],\n",
              "       [ True,  True,  True],\n",
              "       [ True,  True,  True]])"
            ]
          },
          "metadata": {},
          "execution_count": 157
        }
      ]
    },
    {
      "cell_type": "markdown",
      "source": [
        "###Identity Matrix"
      ],
      "metadata": {
        "id": "HZJ46bM-PzHi"
      }
    },
    {
      "cell_type": "code",
      "source": [
        "I = torch.tensor([[1, 0, 0],\n",
        "              [0, 1, 0],\n",
        "              [0, 0, 1]])\n",
        "I"
      ],
      "metadata": {
        "id": "jHWub-vKQfNa",
        "outputId": "7e6583e7-b977-4beb-f35b-ec54f2f170d6",
        "colab": {
          "base_uri": "https://localhost:8080/"
        }
      },
      "execution_count": 158,
      "outputs": [
        {
          "output_type": "execute_result",
          "data": {
            "text/plain": [
              "tensor([[1, 0, 0],\n",
              "        [0, 1, 0],\n",
              "        [0, 0, 1]])"
            ]
          },
          "metadata": {},
          "execution_count": 158
        }
      ]
    },
    {
      "cell_type": "code",
      "source": [
        "x_pt = torch.tensor ([25, 2, 5])\n",
        "x_pt"
      ],
      "metadata": {
        "id": "8W5RxIq-QlYB",
        "outputId": "9d230132-784d-45ad-daba-9776b9e06533",
        "colab": {
          "base_uri": "https://localhost:8080/"
        }
      },
      "execution_count": 159,
      "outputs": [
        {
          "output_type": "execute_result",
          "data": {
            "text/plain": [
              "tensor([25,  2,  5])"
            ]
          },
          "metadata": {},
          "execution_count": 159
        }
      ]
    },
    {
      "cell_type": "code",
      "source": [
        "torch.matmul(I, x_pt)"
      ],
      "metadata": {
        "id": "ulkaUv9KQxHN",
        "outputId": "a0a25af5-48dc-47e8-8ee8-b838b7c7868e",
        "colab": {
          "base_uri": "https://localhost:8080/"
        }
      },
      "execution_count": 160,
      "outputs": [
        {
          "output_type": "execute_result",
          "data": {
            "text/plain": [
              "tensor([25,  2,  5])"
            ]
          },
          "metadata": {},
          "execution_count": 160
        }
      ]
    },
    {
      "cell_type": "code",
      "source": [
        "torch.matmul(I, torch.tensor([[10, 15],\n",
        "                             [20, 25],\n",
        "                             [30, 35]]))"
      ],
      "metadata": {
        "id": "09_EfBoKQznZ",
        "outputId": "422d6968-aca3-4077-9c4a-452347398173",
        "colab": {
          "base_uri": "https://localhost:8080/"
        }
      },
      "execution_count": 161,
      "outputs": [
        {
          "output_type": "execute_result",
          "data": {
            "text/plain": [
              "tensor([[10, 15],\n",
              "        [20, 25],\n",
              "        [30, 35]])"
            ]
          },
          "metadata": {},
          "execution_count": 161
        }
      ]
    },
    {
      "cell_type": "markdown",
      "source": [
        "###Matrix Inverse"
      ],
      "metadata": {
        "id": "qIqaY5ZnRTOy"
      }
    },
    {
      "cell_type": "code",
      "source": [
        "X = np.array([[4, 2],\n",
        "              [-5, -3]])\n",
        "X"
      ],
      "metadata": {
        "id": "rfN5V3rmDTh3",
        "outputId": "bd802d42-d747-4de1-cac1-eb4ee26da826",
        "colab": {
          "base_uri": "https://localhost:8080/"
        }
      },
      "execution_count": 162,
      "outputs": [
        {
          "output_type": "execute_result",
          "data": {
            "text/plain": [
              "array([[ 4,  2],\n",
              "       [-5, -3]])"
            ]
          },
          "metadata": {},
          "execution_count": 162
        }
      ]
    },
    {
      "cell_type": "code",
      "source": [
        "Xinv = np.linalg.inv(X)\n",
        "Xinv"
      ],
      "metadata": {
        "id": "IO_lHN2cDZVx",
        "outputId": "32047e6a-3714-413f-9f7b-931bf9333259",
        "colab": {
          "base_uri": "https://localhost:8080/"
        }
      },
      "execution_count": 163,
      "outputs": [
        {
          "output_type": "execute_result",
          "data": {
            "text/plain": [
              "array([[ 1.5,  1. ],\n",
              "       [-2.5, -2. ]])"
            ]
          },
          "metadata": {},
          "execution_count": 163
        }
      ]
    },
    {
      "cell_type": "code",
      "source": [
        "y = np.array([4, -7])\n",
        "y"
      ],
      "metadata": {
        "id": "i7fWq8N8Det3",
        "outputId": "c87490e5-afac-4ebf-f0b8-e2aed88b74b4",
        "colab": {
          "base_uri": "https://localhost:8080/"
        }
      },
      "execution_count": 166,
      "outputs": [
        {
          "output_type": "execute_result",
          "data": {
            "text/plain": [
              "array([ 4, -7])"
            ]
          },
          "metadata": {},
          "execution_count": 166
        }
      ]
    },
    {
      "cell_type": "code",
      "source": [
        "w = np.dot(Xinv, y)\n",
        "w"
      ],
      "metadata": {
        "id": "pvDy6dutEfEz",
        "outputId": "4a3382d1-11de-436d-c66c-649325fe2a87",
        "colab": {
          "base_uri": "https://localhost:8080/"
        }
      },
      "execution_count": 168,
      "outputs": [
        {
          "output_type": "execute_result",
          "data": {
            "text/plain": [
              "array([-1.,  4.])"
            ]
          },
          "metadata": {},
          "execution_count": 168
        }
      ]
    },
    {
      "cell_type": "markdown",
      "source": [
        "Show that ***y = Xw***"
      ],
      "metadata": {
        "id": "HOs5pnLVFKIX"
      }
    },
    {
      "cell_type": "code",
      "source": [
        "np.dot(X, w)"
      ],
      "metadata": {
        "id": "ySpHAikqEz5m",
        "outputId": "56a4b495-1059-4583-ac4c-a036ab029e95",
        "colab": {
          "base_uri": "https://localhost:8080/"
        }
      },
      "execution_count": 169,
      "outputs": [
        {
          "output_type": "execute_result",
          "data": {
            "text/plain": [
              "array([ 4., -7.])"
            ]
          },
          "metadata": {},
          "execution_count": 169
        }
      ]
    },
    {
      "cell_type": "markdown",
      "source": [
        "#####In PyTorch & Tensorflow"
      ],
      "metadata": {
        "id": "4PeGBZArFkgg"
      }
    },
    {
      "cell_type": "code",
      "source": [
        "torch.inverse(torch.tensor([[4, 2],\n",
        "                            [-5, -3.]]))  # float type"
      ],
      "metadata": {
        "id": "HVyzk4FSFTeM",
        "outputId": "95525f1c-1c40-4def-8307-90b4c186083b",
        "colab": {
          "base_uri": "https://localhost:8080/"
        }
      },
      "execution_count": 170,
      "outputs": [
        {
          "output_type": "execute_result",
          "data": {
            "text/plain": [
              "tensor([[ 1.5000,  1.0000],\n",
              "        [-2.5000, -2.0000]])"
            ]
          },
          "metadata": {},
          "execution_count": 170
        }
      ]
    },
    {
      "cell_type": "code",
      "source": [
        "tf.linalg.inv(tf.Variable([[4 ,2],\n",
        "                           [-5, -3.]])) # float type"
      ],
      "metadata": {
        "id": "CvsZg7MkFxvG",
        "outputId": "2b2f8945-3705-47bf-e5c7-603c36bc14ee",
        "colab": {
          "base_uri": "https://localhost:8080/"
        }
      },
      "execution_count": 171,
      "outputs": [
        {
          "output_type": "execute_result",
          "data": {
            "text/plain": [
              "<tf.Tensor: shape=(2, 2), dtype=float32, numpy=\n",
              "array([[ 1.4999998,  0.9999998],\n",
              "       [-2.4999995, -1.9999996]], dtype=float32)>"
            ]
          },
          "metadata": {},
          "execution_count": 171
        }
      ]
    },
    {
      "cell_type": "markdown",
      "source": [
        "###Matrix Inversion Where No Solution"
      ],
      "metadata": {
        "id": "oj6RTtMXGHEk"
      }
    },
    {
      "cell_type": "code",
      "source": [
        "X = np.array([[-4, 1],\n",
        "              [-8, 2]]) # multiple of first line\n",
        "X"
      ],
      "metadata": {
        "id": "t3fymkATHV9b",
        "outputId": "3d2acf95-9a62-4cd7-8f28-2a39412cf984",
        "colab": {
          "base_uri": "https://localhost:8080/"
        }
      },
      "execution_count": 172,
      "outputs": [
        {
          "output_type": "execute_result",
          "data": {
            "text/plain": [
              "array([[-4,  1],\n",
              "       [-8,  2]])"
            ]
          },
          "metadata": {},
          "execution_count": 172
        }
      ]
    },
    {
      "cell_type": "code",
      "source": [
        "# np.linalg.inv(X)  # Will throw \"LinAlgError: Singular matrix\"."
      ],
      "metadata": {
        "id": "xb8ola_EHckT"
      },
      "execution_count": 174,
      "outputs": []
    },
    {
      "cell_type": "code",
      "source": [
        "X = np.array([[-4, 1],\n",
        "              [-4, 1]]) # Same line twice\n",
        "X"
      ],
      "metadata": {
        "id": "mn-4IswJHfCB",
        "outputId": "b25cfa9c-c5c3-41b5-c42e-683e78ad563f",
        "colab": {
          "base_uri": "https://localhost:8080/"
        }
      },
      "execution_count": 175,
      "outputs": [
        {
          "output_type": "execute_result",
          "data": {
            "text/plain": [
              "array([[-4,  1],\n",
              "       [-4,  1]])"
            ]
          },
          "metadata": {},
          "execution_count": 175
        }
      ]
    },
    {
      "cell_type": "code",
      "source": [
        "#np.linalg.inv(X)  # Will throw \"LinAlgError: Singular matrix\"."
      ],
      "metadata": {
        "id": "rI94AVBSH15w"
      },
      "execution_count": 177,
      "outputs": []
    },
    {
      "cell_type": "markdown",
      "source": [
        "###Orthogonal Matrix"
      ],
      "metadata": {
        "id": "YhbhiLjcH4ZE"
      }
    },
    {
      "cell_type": "code",
      "source": [
        "I = np.array([[1, 0, 0],\n",
        "              [0, 1, 0],\n",
        "              [0, 0, 1]])\n",
        "I"
      ],
      "metadata": {
        "id": "LYW3bJS2Rytv",
        "outputId": "dca0fd90-436a-4ad3-ca06-c00c8e204cd4",
        "colab": {
          "base_uri": "https://localhost:8080/"
        }
      },
      "execution_count": 178,
      "outputs": [
        {
          "output_type": "execute_result",
          "data": {
            "text/plain": [
              "array([[1, 0, 0],\n",
              "       [0, 1, 0],\n",
              "       [0, 0, 1]])"
            ]
          },
          "metadata": {},
          "execution_count": 178
        }
      ]
    },
    {
      "cell_type": "code",
      "source": [
        "column_1 = I[:, 0]\n",
        "column_2 = I[:, 1]\n",
        "column_3 = I[:, 2]"
      ],
      "metadata": {
        "id": "NntYM4vPR3sH"
      },
      "execution_count": 179,
      "outputs": []
    },
    {
      "cell_type": "code",
      "source": [
        "np.dot(column_1, column_2)"
      ],
      "metadata": {
        "id": "hoWgyN2uSJNt",
        "outputId": "7ef2b4bd-f558-4b75-c881-da63f2dd2692",
        "colab": {
          "base_uri": "https://localhost:8080/"
        }
      },
      "execution_count": 183,
      "outputs": [
        {
          "output_type": "execute_result",
          "data": {
            "text/plain": [
              "0"
            ]
          },
          "metadata": {},
          "execution_count": 183
        }
      ]
    },
    {
      "cell_type": "code",
      "source": [
        "np.dot(column_1, column_3)"
      ],
      "metadata": {
        "id": "KVREtrbvSKcQ",
        "outputId": "099af2be-6ab6-4504-c1ed-3093b673c65a",
        "colab": {
          "base_uri": "https://localhost:8080/"
        }
      },
      "execution_count": 184,
      "outputs": [
        {
          "output_type": "execute_result",
          "data": {
            "text/plain": [
              "0"
            ]
          },
          "metadata": {},
          "execution_count": 184
        }
      ]
    },
    {
      "cell_type": "code",
      "source": [
        "np.dot(column_1, column_3)"
      ],
      "metadata": {
        "id": "RtqasofUSXK-",
        "outputId": "00d5e20e-9276-41a7-bd4e-418d04cedcf4",
        "colab": {
          "base_uri": "https://localhost:8080/"
        }
      },
      "execution_count": 185,
      "outputs": [
        {
          "output_type": "execute_result",
          "data": {
            "text/plain": [
              "0"
            ]
          },
          "metadata": {},
          "execution_count": 185
        }
      ]
    },
    {
      "cell_type": "markdown",
      "source": [
        "Each column has unit norm as well"
      ],
      "metadata": {
        "id": "q84RcjTCSliq"
      }
    },
    {
      "cell_type": "code",
      "source": [
        "np.linalg.norm(column_1)"
      ],
      "metadata": {
        "id": "SDPnXNwvSaAn",
        "outputId": "755d2ab4-9dec-4ce8-da4b-5b95a12a09c8",
        "colab": {
          "base_uri": "https://localhost:8080/"
        }
      },
      "execution_count": 187,
      "outputs": [
        {
          "output_type": "execute_result",
          "data": {
            "text/plain": [
              "1.0"
            ]
          },
          "metadata": {},
          "execution_count": 187
        }
      ]
    },
    {
      "cell_type": "code",
      "source": [
        "np.linalg.norm(column_2)"
      ],
      "metadata": {
        "id": "U3BY4W_4SqaZ",
        "outputId": "a327f2ef-b80b-4f6b-869b-7785ae0ff301",
        "colab": {
          "base_uri": "https://localhost:8080/"
        }
      },
      "execution_count": 188,
      "outputs": [
        {
          "output_type": "execute_result",
          "data": {
            "text/plain": [
              "1.0"
            ]
          },
          "metadata": {},
          "execution_count": 188
        }
      ]
    },
    {
      "cell_type": "code",
      "source": [
        "np.linalg.norm(column_3)"
      ],
      "metadata": {
        "id": "Av2RyAUFSv4J",
        "outputId": "7a0c693e-1972-4bf8-8ae1-a89602c3abbf",
        "colab": {
          "base_uri": "https://localhost:8080/"
        }
      },
      "execution_count": 189,
      "outputs": [
        {
          "output_type": "execute_result",
          "data": {
            "text/plain": [
              "1.0"
            ]
          },
          "metadata": {},
          "execution_count": 189
        }
      ]
    },
    {
      "cell_type": "markdown",
      "source": [
        "Since the matrix $I_3$ has mutually orthogonal columns and each column has unit norm, the column vectors of $I_3$ are *orthonormal*. Since $I_3^T = I_3$, this means that the *rows* of $I_3$ must also be orthonormal. \n",
        "\n",
        "Since the columns and rows of $I_3$ are orthonormal, $I_3$ is an *orthogonal matrix*."
      ],
      "metadata": {
        "id": "M9PCrjx2TM7f"
      }
    },
    {
      "cell_type": "code",
      "source": [
        "K = torch.tensor([[2/3, 1/3, 2/3],\n",
        "                  [-2/3, 2/3, 1/3],\n",
        "                  [1/3, 2/3, -2/3]])\n",
        "K"
      ],
      "metadata": {
        "id": "XANzHAzMSxx_",
        "outputId": "480c0eb6-34d4-4961-a7e0-af3db8756a81",
        "colab": {
          "base_uri": "https://localhost:8080/"
        }
      },
      "execution_count": 190,
      "outputs": [
        {
          "output_type": "execute_result",
          "data": {
            "text/plain": [
              "tensor([[ 0.6667,  0.3333,  0.6667],\n",
              "        [-0.6667,  0.6667,  0.3333],\n",
              "        [ 0.3333,  0.6667, -0.6667]])"
            ]
          },
          "metadata": {},
          "execution_count": 190
        }
      ]
    },
    {
      "cell_type": "code",
      "source": [
        "Kcol_1 = K[:, 0]\n",
        "Kcol_2 = K[:, 1]\n",
        "Kcol_3 = K[:, 2]"
      ],
      "metadata": {
        "id": "uODAbg8UT5aQ"
      },
      "execution_count": 191,
      "outputs": []
    },
    {
      "cell_type": "code",
      "source": [
        "torch.dot(Kcol_1, Kcol_2)"
      ],
      "metadata": {
        "id": "ra-aKyr5UKqL",
        "outputId": "f5920ea9-5ff7-4d2c-e131-a64b5dcd2078",
        "colab": {
          "base_uri": "https://localhost:8080/"
        }
      },
      "execution_count": 192,
      "outputs": [
        {
          "output_type": "execute_result",
          "data": {
            "text/plain": [
              "tensor(0.)"
            ]
          },
          "metadata": {},
          "execution_count": 192
        }
      ]
    },
    {
      "cell_type": "code",
      "source": [
        "torch.dot(Kcol_1, Kcol_3)"
      ],
      "metadata": {
        "id": "6hFL0EklUTSc",
        "outputId": "696f0059-d172-4d42-87c2-acf1e0accaef",
        "colab": {
          "base_uri": "https://localhost:8080/"
        }
      },
      "execution_count": 193,
      "outputs": [
        {
          "output_type": "execute_result",
          "data": {
            "text/plain": [
              "tensor(0.)"
            ]
          },
          "metadata": {},
          "execution_count": 193
        }
      ]
    },
    {
      "cell_type": "code",
      "source": [
        "torch.dot(Kcol_2, Kcol_3)"
      ],
      "metadata": {
        "id": "N-gohdj-UWLz",
        "outputId": "2c0e147f-8128-4879-82b4-769b43bd83e5",
        "colab": {
          "base_uri": "https://localhost:8080/"
        }
      },
      "execution_count": 194,
      "outputs": [
        {
          "output_type": "execute_result",
          "data": {
            "text/plain": [
              "tensor(0.)"
            ]
          },
          "metadata": {},
          "execution_count": 194
        }
      ]
    },
    {
      "cell_type": "code",
      "source": [
        "torch.norm(Kcol_1)"
      ],
      "metadata": {
        "id": "2vNBvQipUY9O",
        "outputId": "12a4e101-25da-4257-8020-74311a0a7ca4",
        "colab": {
          "base_uri": "https://localhost:8080/"
        }
      },
      "execution_count": 195,
      "outputs": [
        {
          "output_type": "execute_result",
          "data": {
            "text/plain": [
              "tensor(1.)"
            ]
          },
          "metadata": {},
          "execution_count": 195
        }
      ]
    },
    {
      "cell_type": "code",
      "source": [
        "torch.norm(Kcol_2)"
      ],
      "metadata": {
        "id": "CZXI_W_9Ug2M",
        "outputId": "14da818b-8ba7-4d64-f44f-a7ad34c89cb7",
        "colab": {
          "base_uri": "https://localhost:8080/"
        }
      },
      "execution_count": 196,
      "outputs": [
        {
          "output_type": "execute_result",
          "data": {
            "text/plain": [
              "tensor(1.)"
            ]
          },
          "metadata": {},
          "execution_count": 196
        }
      ]
    },
    {
      "cell_type": "code",
      "source": [
        "torch.norm(Kcol_3)"
      ],
      "metadata": {
        "id": "DTEodVuIUiyf",
        "outputId": "e474cdec-09b1-4e96-e881-f3e4274263f6",
        "colab": {
          "base_uri": "https://localhost:8080/"
        }
      },
      "execution_count": 197,
      "outputs": [
        {
          "output_type": "execute_result",
          "data": {
            "text/plain": [
              "tensor(1.)"
            ]
          },
          "metadata": {},
          "execution_count": 197
        }
      ]
    },
    {
      "cell_type": "markdown",
      "source": [
        "We've now determined that, in addition to being orthogonal, the columns of $K$ have unit norm, therefore they are orthonormal. \n",
        "\n",
        "To ensure that $K$ is an orthogonal matrix, we would need to show that not only does it have orthonormal columns but it has orthonormal rows are as well. Since $K^T \\neq K$, we can't prove this quite as straightforwardly as we did with $I_3$. \n",
        "\n",
        "One approach would be to repeat the steps we used to determine that $K$ has orthogonal columns with all of the matrix's rows (please feel free to do so). Alternatively, we can use an orthogonal matrix-specific equation from the slides, $A^TA = I$, to demonstrate that $K$ is orthogonal in a single line of code: "
      ],
      "metadata": {
        "id": "UIYzOmo5VUOJ"
      }
    },
    {
      "cell_type": "code",
      "source": [
        "torch.matmul(K.T, K)"
      ],
      "metadata": {
        "id": "bq6w2p5KUkbo",
        "outputId": "154a5491-e5a5-4e5d-cef4-fc3e04ae2946",
        "colab": {
          "base_uri": "https://localhost:8080/"
        }
      },
      "execution_count": 198,
      "outputs": [
        {
          "output_type": "execute_result",
          "data": {
            "text/plain": [
              "tensor([[1.0000, 0.0000, 0.0000],\n",
              "        [0.0000, 1.0000, 0.0000],\n",
              "        [0.0000, 0.0000, 1.0000]])"
            ]
          },
          "metadata": {},
          "execution_count": 198
        }
      ]
    },
    {
      "cell_type": "markdown",
      "source": [
        "Notwithstanding rounding errors that we can safely ignore, this confirms that $K^TK = I$ and therefore $K$ is an orthogonal matrix. "
      ],
      "metadata": {
        "id": "EAtL-MiqVNjh"
      }
    },
    {
      "cell_type": "code",
      "source": [],
      "metadata": {
        "id": "cmFuD5B1VXUZ"
      },
      "execution_count": null,
      "outputs": []
    }
  ],
  "metadata": {
    "language_info": {
      "name": "python"
    },
    "orig_nbformat": 4,
    "colab": {
      "provenance": []
    },
    "kernelspec": {
      "name": "python3",
      "display_name": "Python 3"
    },
    "gpuClass": "standard"
  },
  "nbformat": 4,
  "nbformat_minor": 0
}